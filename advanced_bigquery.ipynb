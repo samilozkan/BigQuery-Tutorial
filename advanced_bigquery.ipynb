{
 "cells": [
  {
   "cell_type": "code",
   "execution_count": 1,
   "metadata": {},
   "outputs": [],
   "source": [
    "# BigQuery Setup\n",
    "# Importing Libraries and Credentials\n",
    "import pandas as pd\n",
    "import numpy as np\n",
    "import seaborn as sns\n",
    "from google.cloud import bigquery\n",
    "from google.oauth2 import service_account\n",
    "# ignore warnings\n",
    "from warnings import filterwarnings\n",
    "filterwarnings(\"ignore\")\n",
    "\n",
    "\n",
    "%load_ext google.cloud.bigquery\n",
    "\n",
    "credentials = service_account.Credentials.from_service_account_file('/Users/ssamilozkan/Desktop/BigQuery/config.json')\n",
    "\n",
    "project_id = 'dbt-bigquery-setup-369911'\n",
    "client = bigquery.Client(credentials= credentials, project=project_id)"
   ]
  },
  {
   "attachments": {},
   "cell_type": "markdown",
   "metadata": {},
   "source": [
    "## Advanced functions (Statistical, analytic, user-defined)"
   ]
  },
  {
   "cell_type": "code",
   "execution_count": 12,
   "metadata": {},
   "outputs": [
    {
     "data": {
      "application/vnd.jupyter.widget-view+json": {
       "model_id": "294661f9fda84b04a00bb8e199ed9aa5",
       "version_major": 2,
       "version_minor": 0
      },
      "text/plain": [
       "Query is running:   0%|          |"
      ]
     },
     "metadata": {},
     "output_type": "display_data"
    },
    {
     "data": {
      "application/vnd.jupyter.widget-view+json": {
       "model_id": "6d1f218927d24fdc883d8eb98012b8a5",
       "version_major": 2,
       "version_minor": 0
      },
      "text/plain": [
       "Downloading:   0%|          |"
      ]
     },
     "metadata": {},
     "output_type": "display_data"
    },
    {
     "data": {
      "text/html": [
       "<div>\n",
       "<style scoped>\n",
       "    .dataframe tbody tr th:only-of-type {\n",
       "        vertical-align: middle;\n",
       "    }\n",
       "\n",
       "    .dataframe tbody tr th {\n",
       "        vertical-align: top;\n",
       "    }\n",
       "\n",
       "    .dataframe thead th {\n",
       "        text-align: right;\n",
       "    }\n",
       "</style>\n",
       "<table border=\"1\" class=\"dataframe\">\n",
       "  <thead>\n",
       "    <tr style=\"text-align: right;\">\n",
       "      <th></th>\n",
       "      <th>std_dev_employee_count</th>\n",
       "      <th>corr_revenue_expenses</th>\n",
       "    </tr>\n",
       "  </thead>\n",
       "  <tbody>\n",
       "    <tr>\n",
       "      <th>0</th>\n",
       "      <td>1579.800536</td>\n",
       "      <td>0.97618</td>\n",
       "    </tr>\n",
       "  </tbody>\n",
       "</table>\n",
       "</div>"
      ],
      "text/plain": [
       "   std_dev_employee_count  corr_revenue_expenses\n",
       "0             1579.800536                0.97618"
      ]
     },
     "execution_count": 12,
     "metadata": {},
     "output_type": "execute_result"
    }
   ],
   "source": [
    "%%bigquery\n",
    "SELECT \n",
    "    STDDEV(noemplyeesw3cnt) AS std_dev_employee_count, \n",
    "    CORR(totprgmrevnue,totfuncexpns) AS corr_revenue_expenses\n",
    "FROM `bigquery-public-data.irs_990.irs_990_2015`"
   ]
  },
  {
   "attachments": {},
   "cell_type": "markdown",
   "metadata": {},
   "source": [
    "Try Approximate Agrregate Functions when 'close enough' will do"
   ]
  },
  {
   "cell_type": "code",
   "execution_count": 13,
   "metadata": {},
   "outputs": [
    {
     "data": {
      "application/vnd.jupyter.widget-view+json": {
       "model_id": "39a0545e106f4c7faeed99fe5ab4f205",
       "version_major": 2,
       "version_minor": 0
      },
      "text/plain": [
       "Query is running:   0%|          |"
      ]
     },
     "metadata": {},
     "output_type": "display_data"
    },
    {
     "data": {
      "application/vnd.jupyter.widget-view+json": {
       "model_id": "c7b33d608aea4024816022de96e66251",
       "version_major": 2,
       "version_minor": 0
      },
      "text/plain": [
       "Downloading:   0%|          |"
      ]
     },
     "metadata": {},
     "output_type": "display_data"
    },
    {
     "data": {
      "text/html": [
       "<div>\n",
       "<style scoped>\n",
       "    .dataframe tbody tr th:only-of-type {\n",
       "        vertical-align: middle;\n",
       "    }\n",
       "\n",
       "    .dataframe tbody tr th {\n",
       "        vertical-align: top;\n",
       "    }\n",
       "\n",
       "    .dataframe thead th {\n",
       "        text-align: right;\n",
       "    }\n",
       "</style>\n",
       "<table border=\"1\" class=\"dataframe\">\n",
       "  <thead>\n",
       "    <tr style=\"text-align: right;\">\n",
       "      <th></th>\n",
       "      <th>approx_ein_count</th>\n",
       "      <th>exact_ein_count</th>\n",
       "    </tr>\n",
       "  </thead>\n",
       "  <tbody>\n",
       "    <tr>\n",
       "      <th>0</th>\n",
       "      <td>274482</td>\n",
       "      <td>294782</td>\n",
       "    </tr>\n",
       "  </tbody>\n",
       "</table>\n",
       "</div>"
      ],
      "text/plain": [
       "   approx_ein_count  exact_ein_count\n",
       "0            274482           294782"
      ]
     },
     "execution_count": 13,
     "metadata": {},
     "output_type": "execute_result"
    }
   ],
   "source": [
    "%%bigquery\n",
    "SELECT \n",
    "  APPROX_COUNT_DISTINCT(ein) AS approx_ein_count,\n",
    "  COUNT(ein) AS exact_ein_count\n",
    "FROM `bigquery-public-data.irs_990.irs_990_2015`"
   ]
  },
  {
   "attachments": {},
   "cell_type": "markdown",
   "metadata": {},
   "source": [
    " But imagine you're in this scenario where you work at Google and you have to count all of the logs or all the user logins over a multi-year period of time. You're talking about petabytes of data and you don't have all the time in the world. You want to actually sacrifice a little bit of accuracy for speed in which you get your query back. Especially when you're talking about counting all the logs that are processed or counting all the ads that are served. Very popular to do that approximate count distinct. Let's look at an example here. "
   ]
  },
  {
   "cell_type": "code",
   "execution_count": 15,
   "metadata": {},
   "outputs": [
    {
     "data": {
      "application/vnd.jupyter.widget-view+json": {
       "model_id": "2225ed67ab48422cb650b51a9161976c",
       "version_major": 2,
       "version_minor": 0
      },
      "text/plain": [
       "Query is running:   0%|          |"
      ]
     },
     "metadata": {},
     "output_type": "display_data"
    },
    {
     "data": {
      "application/vnd.jupyter.widget-view+json": {
       "model_id": "90b6f53e67ea404f952cefd4cfcd85f6",
       "version_major": 2,
       "version_minor": 0
      },
      "text/plain": [
       "Downloading:   0%|          |"
      ]
     },
     "metadata": {},
     "output_type": "display_data"
    },
    {
     "data": {
      "text/html": [
       "<div>\n",
       "<style scoped>\n",
       "    .dataframe tbody tr th:only-of-type {\n",
       "        vertical-align: middle;\n",
       "    }\n",
       "\n",
       "    .dataframe tbody tr th {\n",
       "        vertical-align: top;\n",
       "    }\n",
       "\n",
       "    .dataframe thead th {\n",
       "        text-align: right;\n",
       "    }\n",
       "</style>\n",
       "<table border=\"1\" class=\"dataframe\">\n",
       "  <thead>\n",
       "    <tr style=\"text-align: right;\">\n",
       "      <th></th>\n",
       "      <th>year</th>\n",
       "      <th>approx_cnt</th>\n",
       "    </tr>\n",
       "  </thead>\n",
       "  <tbody>\n",
       "    <tr>\n",
       "      <th>0</th>\n",
       "      <td>2011</td>\n",
       "      <td>540440</td>\n",
       "    </tr>\n",
       "    <tr>\n",
       "      <th>1</th>\n",
       "      <td>2012</td>\n",
       "      <td>1188211</td>\n",
       "    </tr>\n",
       "    <tr>\n",
       "      <th>2</th>\n",
       "      <td>2013</td>\n",
       "      <td>2208240</td>\n",
       "    </tr>\n",
       "    <tr>\n",
       "      <th>3</th>\n",
       "      <td>2014</td>\n",
       "      <td>3117587</td>\n",
       "    </tr>\n",
       "    <tr>\n",
       "      <th>4</th>\n",
       "      <td>2015</td>\n",
       "      <td>4440679</td>\n",
       "    </tr>\n",
       "    <tr>\n",
       "      <th>5</th>\n",
       "      <td>2016</td>\n",
       "      <td>6643627</td>\n",
       "    </tr>\n",
       "    <tr>\n",
       "      <th>6</th>\n",
       "      <td>2017</td>\n",
       "      <td>8392186</td>\n",
       "    </tr>\n",
       "    <tr>\n",
       "      <th>7</th>\n",
       "      <td>2018</td>\n",
       "      <td>9511968</td>\n",
       "    </tr>\n",
       "    <tr>\n",
       "      <th>8</th>\n",
       "      <td>2019</td>\n",
       "      <td>12027368</td>\n",
       "    </tr>\n",
       "    <tr>\n",
       "      <th>9</th>\n",
       "      <td>2020</td>\n",
       "      <td>15000288</td>\n",
       "    </tr>\n",
       "    <tr>\n",
       "      <th>10</th>\n",
       "      <td>2021</td>\n",
       "      <td>17724964</td>\n",
       "    </tr>\n",
       "  </tbody>\n",
       "</table>\n",
       "</div>"
      ],
      "text/plain": [
       "    year  approx_cnt\n",
       "0   2011      540440\n",
       "1   2012     1188211\n",
       "2   2013     2208240\n",
       "3   2014     3117587\n",
       "4   2015     4440679\n",
       "5   2016     6643627\n",
       "6   2017     8392186\n",
       "7   2018     9511968\n",
       "8   2019    12027368\n",
       "9   2020    15000288\n",
       "10  2021    17724964"
      ]
     },
     "execution_count": 15,
     "metadata": {},
     "output_type": "execute_result"
    }
   ],
   "source": [
    "%%bigquery\n",
    "SELECT \n",
    " CONCAT('20', _TABLE_SUFFIX) AS year,\n",
    " APPROX_COUNT_DISTINCT(actor.login) AS approx_cnt\n",
    "FROM `githubarchive.year.20*`\n",
    "GROUP BY year\n",
    "ORDER BY year"
   ]
  },
  {
   "cell_type": "code",
   "execution_count": 25,
   "metadata": {},
   "outputs": [
    {
     "data": {
      "application/vnd.jupyter.widget-view+json": {
       "model_id": "33feb427f85540118e94b829afa298e5",
       "version_major": 2,
       "version_minor": 0
      },
      "text/plain": [
       "Query is running:   0%|          |"
      ]
     },
     "metadata": {},
     "output_type": "display_data"
    },
    {
     "data": {
      "application/vnd.jupyter.widget-view+json": {
       "model_id": "1b89a4c6b2d24962b657d25f4f33d3a3",
       "version_major": 2,
       "version_minor": 0
      },
      "text/plain": [
       "Downloading:   0%|          |"
      ]
     },
     "metadata": {},
     "output_type": "display_data"
    },
    {
     "data": {
      "text/html": [
       "<div>\n",
       "<style scoped>\n",
       "    .dataframe tbody tr th:only-of-type {\n",
       "        vertical-align: middle;\n",
       "    }\n",
       "\n",
       "    .dataframe tbody tr th {\n",
       "        vertical-align: top;\n",
       "    }\n",
       "\n",
       "    .dataframe thead th {\n",
       "        text-align: right;\n",
       "    }\n",
       "</style>\n",
       "<table border=\"1\" class=\"dataframe\">\n",
       "  <thead>\n",
       "    <tr style=\"text-align: right;\">\n",
       "      <th></th>\n",
       "      <th>approx_unique_users</th>\n",
       "    </tr>\n",
       "  </thead>\n",
       "  <tbody>\n",
       "    <tr>\n",
       "      <th>0</th>\n",
       "      <td>42910843</td>\n",
       "    </tr>\n",
       "  </tbody>\n",
       "</table>\n",
       "</div>"
      ],
      "text/plain": [
       "   approx_unique_users\n",
       "0             42910843"
      ]
     },
     "execution_count": 25,
     "metadata": {},
     "output_type": "execute_result"
    }
   ],
   "source": [
    "%%bigquery\n",
    "WITH github_year_sketches AS (\n",
    "    SELECT \n",
    "        CONCAT('20', _TABLE_SUFFIX) AS year,\n",
    "        APPROX_COUNT_DISTINCT(actor.login) AS approx_cnt,\n",
    "        HLL_COUNT.INIT(actor.login) AS sketch #HyperLogLog Estimation\n",
    "    FROM `githubarchive.year.20*`\n",
    "    GROUP BY year\n",
    "    ORDER BY year\n",
    ")\n",
    "\n",
    "SELECT HLL_COUNT.MERGE(sketch) AS approx_unique_users \n",
    "FROM `github_year_sketches`"
   ]
  },
  {
   "attachments": {},
   "cell_type": "markdown",
   "metadata": {},
   "source": [
    "## Analytic Functions, WITH clause, and RANK()"
   ]
  },
  {
   "attachments": {},
   "cell_type": "markdown",
   "metadata": {},
   "source": [
    "- RANK() Function for aggregating over groups of rows\n",
    "\n",
    "```\n",
    "SELECT \n",
    "    firstname, \n",
    "    depatment,\n",
    "    startdate,\n",
    "    RANK() OVER (PARTITION BY department ORDER BY startdate) AS rank\n",
    "FROM Employees\n",
    "```"
   ]
  },
  {
   "attachments": {},
   "cell_type": "markdown",
   "metadata": {},
   "source": [
    "## BigQuery User-Defined Functions (UDFs)\n",
    "\n",
    "- **CREATE FUNCTION** \n",
    "\n",
    "Create a new function. A function can contain zero or more named_paramethers\n",
    "\n",
    "- **RETURNS[data type]** \n",
    "\n",
    "Specifies the data type of the return value of the function\n",
    "\n",
    "- **LANGUAGE** \n",
    "\n",
    "Specifies the language of the function\n",
    "- **AS[extarnal_code]** \n",
    "\n",
    "Specifies the code of the function runs\n",
    "\n",
    "```"
   ]
  },
  {
   "cell_type": "code",
   "execution_count": 43,
   "metadata": {},
   "outputs": [
    {
     "data": {
      "application/vnd.jupyter.widget-view+json": {
       "model_id": "8723e2cfc2714cecb264504c5a9ed36a",
       "version_major": 2,
       "version_minor": 0
      },
      "text/plain": [
       "Query is running:   0%|          |"
      ]
     },
     "metadata": {},
     "output_type": "display_data"
    },
    {
     "data": {
      "application/vnd.jupyter.widget-view+json": {
       "model_id": "d8fe35609cdf44fabbd7335c36e151d8",
       "version_major": 2,
       "version_minor": 0
      },
      "text/plain": [
       "Downloading:   0%|          |"
      ]
     },
     "metadata": {},
     "output_type": "display_data"
    },
    {
     "data": {
      "text/html": [
       "<div>\n",
       "<style scoped>\n",
       "    .dataframe tbody tr th:only-of-type {\n",
       "        vertical-align: middle;\n",
       "    }\n",
       "\n",
       "    .dataframe tbody tr th {\n",
       "        vertical-align: top;\n",
       "    }\n",
       "\n",
       "    .dataframe thead th {\n",
       "        text-align: right;\n",
       "    }\n",
       "</style>\n",
       "<table border=\"1\" class=\"dataframe\">\n",
       "  <thead>\n",
       "    <tr style=\"text-align: right;\">\n",
       "      <th></th>\n",
       "      <th>val</th>\n",
       "      <th>f0_</th>\n",
       "    </tr>\n",
       "  </thead>\n",
       "  <tbody>\n",
       "    <tr>\n",
       "      <th>0</th>\n",
       "      <td>2</td>\n",
       "      <td>3.0</td>\n",
       "    </tr>\n",
       "    <tr>\n",
       "      <th>1</th>\n",
       "      <td>3</td>\n",
       "      <td>3.5</td>\n",
       "    </tr>\n",
       "    <tr>\n",
       "      <th>2</th>\n",
       "      <td>5</td>\n",
       "      <td>4.5</td>\n",
       "    </tr>\n",
       "    <tr>\n",
       "      <th>3</th>\n",
       "      <td>8</td>\n",
       "      <td>6.0</td>\n",
       "    </tr>\n",
       "  </tbody>\n",
       "</table>\n",
       "</div>"
      ],
      "text/plain": [
       "   val  f0_\n",
       "0    2  3.0\n",
       "1    3  3.5\n",
       "2    5  4.5\n",
       "3    8  6.0"
      ]
     },
     "execution_count": 43,
     "metadata": {},
     "output_type": "execute_result"
    }
   ],
   "source": [
    "%%bigquery\n",
    "CREATE TEMP FUNCTION AddFourAndDivide(x INT64, y INT64)\n",
    "RETURNS FLOAT64\n",
    "AS (\n",
    "  (x + 4) / y\n",
    ");\n",
    "\n",
    "SELECT\n",
    "  val, AddFourAndDivide(val, 2)\n",
    "FROM\n",
    "  UNNEST([2,3,5,8]) AS val;"
   ]
  },
  {
   "cell_type": "code",
   "execution_count": 44,
   "metadata": {},
   "outputs": [
    {
     "data": {
      "application/vnd.jupyter.widget-view+json": {
       "model_id": "7fd9f821621e4d7f854f7b1a13dd0e2b",
       "version_major": 2,
       "version_minor": 0
      },
      "text/plain": [
       "Query is running:   0%|          |"
      ]
     },
     "metadata": {},
     "output_type": "display_data"
    },
    {
     "data": {
      "application/vnd.jupyter.widget-view+json": {
       "model_id": "8a1445a467ac45af91619a79e9375bb5",
       "version_major": 2,
       "version_minor": 0
      },
      "text/plain": [
       "Downloading:   0%|          |"
      ]
     },
     "metadata": {},
     "output_type": "display_data"
    },
    {
     "data": {
      "text/html": [
       "<div>\n",
       "<style scoped>\n",
       "    .dataframe tbody tr th:only-of-type {\n",
       "        vertical-align: middle;\n",
       "    }\n",
       "\n",
       "    .dataframe tbody tr th {\n",
       "        vertical-align: top;\n",
       "    }\n",
       "\n",
       "    .dataframe thead th {\n",
       "        text-align: right;\n",
       "    }\n",
       "</style>\n",
       "<table border=\"1\" class=\"dataframe\">\n",
       "  <thead>\n",
       "    <tr style=\"text-align: right;\">\n",
       "      <th></th>\n",
       "      <th>integer_input</th>\n",
       "      <th>floating_point_input</th>\n",
       "    </tr>\n",
       "  </thead>\n",
       "  <tbody>\n",
       "    <tr>\n",
       "      <th>0</th>\n",
       "      <td>1.75</td>\n",
       "      <td>1.780255</td>\n",
       "    </tr>\n",
       "  </tbody>\n",
       "</table>\n",
       "</div>"
      ],
      "text/plain": [
       "   integer_input  floating_point_input\n",
       "0           1.75              1.780255"
      ]
     },
     "execution_count": 44,
     "metadata": {},
     "output_type": "execute_result"
    }
   ],
   "source": [
    "%%bigquery\n",
    "CREATE TEMP FUNCTION addFourAndDivideAny(x ANY TYPE, y ANY TYPE)\n",
    "AS (\n",
    "  (x + 4) / y\n",
    ");\n",
    "\n",
    "SELECT\n",
    "  addFourAndDivideAny(3, 4) AS integer_input,\n",
    "  addFourAndDivideAny(1.59, 3.14) AS floating_point_input;"
   ]
  },
  {
   "attachments": {},
   "cell_type": "markdown",
   "metadata": {},
   "source": [
    "```\n",
    "%%bigquery\n",
    "CREATE FUNCTION d2i_demo.nlp.compromise_people(str STRING)\n",
    "RETURNS ARRAY<STRING> LANGUAGE js AS \"\"\"\n",
    "    return nlp(str).people().out('topk').map(x => x.normal);\n",
    "\"\"\"\n",
    "OPTIONS(library=\"gs://d2i-demo/nlp/compromise.js\");\n",
    "\n",
    "SELECT\n",
    "    name, \n",
    "    COUNT(*)AS cnt\n",
    "FROM (SELECT d2i_demo.nlp.compromise_people(title) AS names\n",
    "      FROM `d2i-demo.reddit_posts`\n",
    "      WHERE subreddit = 'movies'), UNNEST(names) AS name\n",
    "WHERE name LIKE '% %' \n",
    "GROUP BY 1 \n",
    "ORDER BY 2 DESC\n",
    "LIMIT 10 "
   ]
  },
  {
   "attachments": {},
   "cell_type": "markdown",
   "metadata": {},
   "source": [
    "## Sub-query and CTE design\n",
    "\n",
    "- WITH is simply a named subquery or Common Table Expression (CTE)\n",
    "- Acts as temporary table\n",
    "- Breaks up complex queries \n",
    "- Chain together multiple subqueries in a single WITH\n",
    "- You can reference other subqueries in future subqueries\n"
   ]
  },
  {
   "cell_type": "code",
   "execution_count": 37,
   "metadata": {},
   "outputs": [
    {
     "data": {
      "application/vnd.jupyter.widget-view+json": {
       "model_id": "fcedd791292141f99adc1f38191722e0",
       "version_major": 2,
       "version_minor": 0
      },
      "text/plain": [
       "Query is running:   0%|          |"
      ]
     },
     "metadata": {},
     "output_type": "display_data"
    },
    {
     "data": {
      "application/vnd.jupyter.widget-view+json": {
       "model_id": "900b7a9c74ea4f748fb830ef9e8e042f",
       "version_major": 2,
       "version_minor": 0
      },
      "text/plain": [
       "Downloading:   0%|          |"
      ]
     },
     "metadata": {},
     "output_type": "display_data"
    },
    {
     "data": {
      "text/html": [
       "<div>\n",
       "<style scoped>\n",
       "    .dataframe tbody tr th:only-of-type {\n",
       "        vertical-align: middle;\n",
       "    }\n",
       "\n",
       "    .dataframe tbody tr th {\n",
       "        vertical-align: top;\n",
       "    }\n",
       "\n",
       "    .dataframe thead th {\n",
       "        text-align: right;\n",
       "    }\n",
       "</style>\n",
       "<table border=\"1\" class=\"dataframe\">\n",
       "  <thead>\n",
       "    <tr style=\"text-align: right;\">\n",
       "      <th></th>\n",
       "      <th>ein</th>\n",
       "      <th>name</th>\n",
       "    </tr>\n",
       "  </thead>\n",
       "  <tbody>\n",
       "    <tr>\n",
       "      <th>0</th>\n",
       "      <td>134202729</td>\n",
       "      <td>WORLDCLASS SCHOOLS OF LEON COUNTY INC</td>\n",
       "    </tr>\n",
       "    <tr>\n",
       "      <th>1</th>\n",
       "      <td>161558160</td>\n",
       "      <td>CHINESE BIOLOGICAL INVESTIGATORS SOCIETY INC</td>\n",
       "    </tr>\n",
       "    <tr>\n",
       "      <th>2</th>\n",
       "      <td>200733852</td>\n",
       "      <td>LA ACADEMIA DE ESTRELLAS</td>\n",
       "    </tr>\n",
       "    <tr>\n",
       "      <th>3</th>\n",
       "      <td>200813566</td>\n",
       "      <td>DAVIS PHINNEY FOUNDATION</td>\n",
       "    </tr>\n",
       "    <tr>\n",
       "      <th>4</th>\n",
       "      <td>201033832</td>\n",
       "      <td>CALVARY FAITH CHURCH</td>\n",
       "    </tr>\n",
       "    <tr>\n",
       "      <th>5</th>\n",
       "      <td>201858456</td>\n",
       "      <td>HOPE ONLINE LEARNING ACADEMY CO-OP</td>\n",
       "    </tr>\n",
       "    <tr>\n",
       "      <th>6</th>\n",
       "      <td>201891947</td>\n",
       "      <td>LANTERI CENTER FOR IGNATIAN SPIRITUALITY</td>\n",
       "    </tr>\n",
       "    <tr>\n",
       "      <th>7</th>\n",
       "      <td>202509473</td>\n",
       "      <td>STELLA SCHOLA PTO</td>\n",
       "    </tr>\n",
       "    <tr>\n",
       "      <th>8</th>\n",
       "      <td>203557068</td>\n",
       "      <td>USA PICKLEBALL ASSOCIATION</td>\n",
       "    </tr>\n",
       "    <tr>\n",
       "      <th>9</th>\n",
       "      <td>205196010</td>\n",
       "      <td>DREAM IN GREEN INC</td>\n",
       "    </tr>\n",
       "  </tbody>\n",
       "</table>\n",
       "</div>"
      ],
      "text/plain": [
       "         ein                                          name\n",
       "0  134202729         WORLDCLASS SCHOOLS OF LEON COUNTY INC\n",
       "1  161558160  CHINESE BIOLOGICAL INVESTIGATORS SOCIETY INC\n",
       "2  200733852                      LA ACADEMIA DE ESTRELLAS\n",
       "3  200813566                      DAVIS PHINNEY FOUNDATION\n",
       "4  201033832                          CALVARY FAITH CHURCH\n",
       "5  201858456            HOPE ONLINE LEARNING ACADEMY CO-OP\n",
       "6  201891947      LANTERI CENTER FOR IGNATIAN SPIRITUALITY\n",
       "7  202509473                             STELLA SCHOLA PTO\n",
       "8  203557068                    USA PICKLEBALL ASSOCIATION\n",
       "9  205196010                            DREAM IN GREEN INC"
      ]
     },
     "execution_count": 37,
     "metadata": {},
     "output_type": "execute_result"
    }
   ],
   "source": [
    "%%bigquery\n",
    "WITH \n",
    "    irs_990_2015_ein AS (\n",
    "        SELECT *\n",
    "        FROM `bigquery-public-data.irs_990.irs_990_2015`\n",
    "        JOIN `bigquery-public-data.irs_990.irs_990_ein` USING (ein)\n",
    "    ),\n",
    "\n",
    "    duplicates AS (\n",
    "        SELECT ein AS ein, COUNT(ein) AS ein_count\n",
    "        FROM irs_990_2015_ein\n",
    "        GROUP BY ein\n",
    "        HAVING ein_count > 1\n",
    "    )\n",
    "\n",
    "SELECT \n",
    "    irs_990.ein AS ein,\n",
    "    irs_990.name AS name,\n",
    "FROM \n",
    "    irs_990_2015_ein AS irs_990\n",
    "LEFT JOIN \n",
    "    duplicates\n",
    "ON irs_990.ein = duplicates.ein\n",
    "WHERE duplicates.ein IS NULL\n",
    "LIMIT 10\n"
   ]
  },
  {
   "cell_type": "markdown",
   "metadata": {},
   "source": [
    "## Exercises"
   ]
  },
  {
   "cell_type": "code",
   "execution_count": 42,
   "metadata": {},
   "outputs": [
    {
     "data": {
      "application/vnd.jupyter.widget-view+json": {
       "model_id": "1a335af136d84f61bde9857f11231c50",
       "version_major": 2,
       "version_minor": 0
      },
      "text/plain": [
       "Query is running:   0%|          |"
      ]
     },
     "metadata": {},
     "output_type": "display_data"
    },
    {
     "data": {
      "application/vnd.jupyter.widget-view+json": {
       "model_id": "335646b6af4f4042845e0ebba7dccf77",
       "version_major": 2,
       "version_minor": 0
      },
      "text/plain": [
       "Downloading:   0%|          |"
      ]
     },
     "metadata": {},
     "output_type": "display_data"
    },
    {
     "data": {
      "text/html": [
       "<div>\n",
       "<style scoped>\n",
       "    .dataframe tbody tr th:only-of-type {\n",
       "        vertical-align: middle;\n",
       "    }\n",
       "\n",
       "    .dataframe tbody tr th {\n",
       "        vertical-align: top;\n",
       "    }\n",
       "\n",
       "    .dataframe thead th {\n",
       "        text-align: right;\n",
       "    }\n",
       "</style>\n",
       "<table border=\"1\" class=\"dataframe\">\n",
       "  <thead>\n",
       "    <tr style=\"text-align: right;\">\n",
       "      <th></th>\n",
       "      <th>year_filed</th>\n",
       "      <th>nonprofit_count</th>\n",
       "      <th>avg_revenue</th>\n",
       "      <th>avg_expenses</th>\n",
       "      <th>avg_income</th>\n",
       "    </tr>\n",
       "  </thead>\n",
       "  <tbody>\n",
       "    <tr>\n",
       "      <th>0</th>\n",
       "      <td>2015</td>\n",
       "      <td>294782</td>\n",
       "      <td>7.952843e+06</td>\n",
       "      <td>7.411629e+06</td>\n",
       "      <td>541214.61</td>\n",
       "    </tr>\n",
       "    <tr>\n",
       "      <th>1</th>\n",
       "      <td>2014</td>\n",
       "      <td>299405</td>\n",
       "      <td>7.515041e+06</td>\n",
       "      <td>6.979379e+06</td>\n",
       "      <td>535662.61</td>\n",
       "    </tr>\n",
       "    <tr>\n",
       "      <th>2</th>\n",
       "      <td>2016</td>\n",
       "      <td>307483</td>\n",
       "      <td>7.938932e+06</td>\n",
       "      <td>7.446167e+06</td>\n",
       "      <td>492765.15</td>\n",
       "    </tr>\n",
       "    <tr>\n",
       "      <th>3</th>\n",
       "      <td>2017</td>\n",
       "      <td>300910</td>\n",
       "      <td>8.316694e+06</td>\n",
       "      <td>7.931376e+06</td>\n",
       "      <td>385318.40</td>\n",
       "    </tr>\n",
       "    <tr>\n",
       "      <th>4</th>\n",
       "      <td>2013</td>\n",
       "      <td>289603</td>\n",
       "      <td>7.419203e+06</td>\n",
       "      <td>7.045596e+06</td>\n",
       "      <td>373606.74</td>\n",
       "    </tr>\n",
       "  </tbody>\n",
       "</table>\n",
       "</div>"
      ],
      "text/plain": [
       "  year_filed  nonprofit_count   avg_revenue  avg_expenses  avg_income\n",
       "0       2015           294782  7.952843e+06  7.411629e+06   541214.61\n",
       "1       2014           299405  7.515041e+06  6.979379e+06   535662.61\n",
       "2       2016           307483  7.938932e+06  7.446167e+06   492765.15\n",
       "3       2017           300910  8.316694e+06  7.931376e+06   385318.40\n",
       "4       2013           289603  7.419203e+06  7.045596e+06   373606.74"
      ]
     },
     "execution_count": 42,
     "metadata": {},
     "output_type": "execute_result"
    }
   ],
   "source": [
    "%%bigquery\n",
    "WITH summary AS (\n",
    "# count of filings, revenue, expenses since 2013\n",
    "SELECT\n",
    "  CONCAT(\"20\",_TABLE_SUFFIX) AS year_filed,\n",
    "  COUNT(ein) AS nonprofit_count,\n",
    "  AVG(totrevenue) AS avg_revenue,\n",
    "  AVG(totfuncexpns) AS avg_expenses\n",
    "FROM `bigquery-public-data.irs_990.irs_990_20*`\n",
    "WHERE _TABLE_SUFFIX >= '13'\n",
    "GROUP BY year_filed\n",
    "ORDER BY year_filed DESC\n",
    ")\n",
    "\n",
    "SELECT \n",
    "*, ROUND(avg_revenue - avg_expenses, 2) AS avg_income  \n",
    "FROM summary\n",
    "ORDER BY avg_income DESC\n"
   ]
  },
  {
   "cell_type": "code",
   "execution_count": 45,
   "metadata": {},
   "outputs": [
    {
     "data": {
      "application/vnd.jupyter.widget-view+json": {
       "model_id": "1eb5b063b58542588ae26313039e5eca",
       "version_major": 2,
       "version_minor": 0
      },
      "text/plain": [
       "Query is running:   0%|          |"
      ]
     },
     "metadata": {},
     "output_type": "display_data"
    },
    {
     "data": {
      "application/vnd.jupyter.widget-view+json": {
       "model_id": "af81874d0ec748448aa03875a9da968b",
       "version_major": 2,
       "version_minor": 0
      },
      "text/plain": [
       "Downloading:   0%|          |"
      ]
     },
     "metadata": {},
     "output_type": "display_data"
    },
    {
     "data": {
      "text/html": [
       "<div>\n",
       "<style scoped>\n",
       "    .dataframe tbody tr th:only-of-type {\n",
       "        vertical-align: middle;\n",
       "    }\n",
       "\n",
       "    .dataframe tbody tr th {\n",
       "        vertical-align: top;\n",
       "    }\n",
       "\n",
       "    .dataframe thead th {\n",
       "        text-align: right;\n",
       "    }\n",
       "</style>\n",
       "<table border=\"1\" class=\"dataframe\">\n",
       "  <thead>\n",
       "    <tr style=\"text-align: right;\">\n",
       "      <th></th>\n",
       "      <th>fruits</th>\n",
       "      <th>customer</th>\n",
       "    </tr>\n",
       "  </thead>\n",
       "  <tbody>\n",
       "    <tr>\n",
       "      <th>0</th>\n",
       "      <td>[apple, banana, cherry, elderberry]</td>\n",
       "      <td>Jacob</td>\n",
       "    </tr>\n",
       "  </tbody>\n",
       "</table>\n",
       "</div>"
      ],
      "text/plain": [
       "                                fruits customer\n",
       "0  [apple, banana, cherry, elderberry]    Jacob"
      ]
     },
     "execution_count": 45,
     "metadata": {},
     "output_type": "execute_result"
    }
   ],
   "source": [
    "%%bigquery\n",
    "SELECT\n",
    "    ['apple', 'banana', 'cherry', 'elderberry'] AS fruits,\n",
    "    'Jacob' AS customer,"
   ]
  },
  {
   "cell_type": "code",
   "execution_count": 51,
   "metadata": {},
   "outputs": [
    {
     "data": {
      "application/vnd.jupyter.widget-view+json": {
       "model_id": "f58f30e6765c478bb96c384a59708f5e",
       "version_major": 2,
       "version_minor": 0
      },
      "text/plain": [
       "Query is running:   0%|          |"
      ]
     },
     "metadata": {},
     "output_type": "display_data"
    },
    {
     "data": {
      "application/vnd.jupyter.widget-view+json": {
       "model_id": "0744fcb6a0e64874a678dc9635dffa32",
       "version_major": 2,
       "version_minor": 0
      },
      "text/plain": [
       "Downloading:   0%|          |"
      ]
     },
     "metadata": {},
     "output_type": "display_data"
    },
    {
     "data": {
      "text/html": [
       "<div>\n",
       "<style scoped>\n",
       "    .dataframe tbody tr th:only-of-type {\n",
       "        vertical-align: middle;\n",
       "    }\n",
       "\n",
       "    .dataframe tbody tr th {\n",
       "        vertical-align: top;\n",
       "    }\n",
       "\n",
       "    .dataframe thead th {\n",
       "        text-align: right;\n",
       "    }\n",
       "</style>\n",
       "<table border=\"1\" class=\"dataframe\">\n",
       "  <thead>\n",
       "    <tr style=\"text-align: right;\">\n",
       "      <th></th>\n",
       "      <th>items</th>\n",
       "      <th>customer_name</th>\n",
       "    </tr>\n",
       "  </thead>\n",
       "  <tbody>\n",
       "    <tr>\n",
       "      <th>0</th>\n",
       "      <td>apple</td>\n",
       "      <td>Jacob</td>\n",
       "    </tr>\n",
       "    <tr>\n",
       "      <th>1</th>\n",
       "      <td>banana</td>\n",
       "      <td>Jacob</td>\n",
       "    </tr>\n",
       "    <tr>\n",
       "      <th>2</th>\n",
       "      <td>cherry</td>\n",
       "      <td>Jacob</td>\n",
       "    </tr>\n",
       "    <tr>\n",
       "      <th>3</th>\n",
       "      <td>elderberry</td>\n",
       "      <td>Jacob</td>\n",
       "    </tr>\n",
       "  </tbody>\n",
       "</table>\n",
       "</div>"
      ],
      "text/plain": [
       "        items customer_name\n",
       "0       apple         Jacob\n",
       "1      banana         Jacob\n",
       "2      cherry         Jacob\n",
       "3  elderberry         Jacob"
      ]
     },
     "execution_count": 51,
     "metadata": {},
     "output_type": "execute_result"
    }
   ],
   "source": [
    "%%bigquery\n",
    "SELECT\n",
    "items,\n",
    "customer_name\n",
    "FROM \n",
    "UNNEST(['apple', 'banana', 'cherry', 'elderberry']) AS items\n",
    "    CROSS JOIN\n",
    "    (SELECT 'Jacob' AS customer_name)"
   ]
  },
  {
   "cell_type": "code",
   "execution_count": null,
   "metadata": {},
   "outputs": [],
   "source": []
  }
 ],
 "metadata": {
  "kernelspec": {
   "display_name": "pvenv",
   "language": "python",
   "name": "python3"
  },
  "language_info": {
   "codemirror_mode": {
    "name": "ipython",
    "version": 3
   },
   "file_extension": ".py",
   "mimetype": "text/x-python",
   "name": "python",
   "nbconvert_exporter": "python",
   "pygments_lexer": "ipython3",
   "version": "3.10.6"
  },
  "orig_nbformat": 4,
  "vscode": {
   "interpreter": {
    "hash": "9c60b0b34f20a64376230e5acad7e96f309518d19b7ab9290b081fa416842bed"
   }
  }
 },
 "nbformat": 4,
 "nbformat_minor": 2
}
