{
 "cells": [
  {
   "cell_type": "code",
   "execution_count": 1,
   "metadata": {},
   "outputs": [],
   "source": [
    "# BigQuery Setup\n",
    "# Importing Libraries and Credentials\n",
    "import pandas as pd\n",
    "import numpy as np\n",
    "import seaborn as sns\n",
    "from google.cloud import bigquery\n",
    "from google.oauth2 import service_account\n",
    "# ignore warnings\n",
    "from warnings import filterwarnings\n",
    "filterwarnings(\"ignore\")\n",
    "\n",
    "\n",
    "%load_ext google.cloud.bigquery\n",
    "\n",
    "credentials = service_account.Credentials.from_service_account_file('/Users/ssamilozkan/Desktop/BigQuery/config.json')\n",
    "\n",
    "project_id = 'dbt-bigquery-setup-369911'\n",
    "client = bigquery.Client(credentials= credentials, project=project_id)\n"
   ]
  },
  {
   "cell_type": "code",
   "execution_count": 6,
   "metadata": {},
   "outputs": [
    {
     "data": {
      "application/vnd.jupyter.widget-view+json": {
       "model_id": "c276de0bc8484628a0f7384c7b618d65",
       "version_major": 2,
       "version_minor": 0
      },
      "text/plain": [
       "Query is running:   0%|          |"
      ]
     },
     "metadata": {},
     "output_type": "display_data"
    },
    {
     "data": {
      "application/vnd.jupyter.widget-view+json": {
       "model_id": "d7940b6d74ba4726b7ea14c9e4a7429e",
       "version_major": 2,
       "version_minor": 0
      },
      "text/plain": [
       "Downloading:   0%|          |"
      ]
     },
     "metadata": {},
     "output_type": "display_data"
    },
    {
     "data": {
      "text/html": [
       "<div>\n",
       "<style scoped>\n",
       "    .dataframe tbody tr th:only-of-type {\n",
       "        vertical-align: middle;\n",
       "    }\n",
       "\n",
       "    .dataframe tbody tr th {\n",
       "        vertical-align: top;\n",
       "    }\n",
       "\n",
       "    .dataframe thead th {\n",
       "        text-align: right;\n",
       "    }\n",
       "</style>\n",
       "<table border=\"1\" class=\"dataframe\">\n",
       "  <thead>\n",
       "    <tr style=\"text-align: right;\">\n",
       "      <th></th>\n",
       "      <th>totrevenue</th>\n",
       "    </tr>\n",
       "  </thead>\n",
       "  <tbody>\n",
       "    <tr>\n",
       "      <th>0</th>\n",
       "      <td>9475129863</td>\n",
       "    </tr>\n",
       "    <tr>\n",
       "      <th>1</th>\n",
       "      <td>9021585970</td>\n",
       "    </tr>\n",
       "    <tr>\n",
       "      <th>2</th>\n",
       "      <td>9890722789</td>\n",
       "    </tr>\n",
       "    <tr>\n",
       "      <th>3</th>\n",
       "      <td>1094833976</td>\n",
       "    </tr>\n",
       "    <tr>\n",
       "      <th>4</th>\n",
       "      <td>2186337569</td>\n",
       "    </tr>\n",
       "    <tr>\n",
       "      <th>5</th>\n",
       "      <td>2086259022</td>\n",
       "    </tr>\n",
       "    <tr>\n",
       "      <th>6</th>\n",
       "      <td>1745011054</td>\n",
       "    </tr>\n",
       "    <tr>\n",
       "      <th>7</th>\n",
       "      <td>1711501686</td>\n",
       "    </tr>\n",
       "    <tr>\n",
       "      <th>8</th>\n",
       "      <td>507813618</td>\n",
       "    </tr>\n",
       "    <tr>\n",
       "      <th>9</th>\n",
       "      <td>1229151613</td>\n",
       "    </tr>\n",
       "  </tbody>\n",
       "</table>\n",
       "</div>"
      ],
      "text/plain": [
       "   totrevenue\n",
       "0  9475129863\n",
       "1  9021585970\n",
       "2  9890722789\n",
       "3  1094833976\n",
       "4  2186337569\n",
       "5  2086259022\n",
       "6  1745011054\n",
       "7  1711501686\n",
       "8   507813618\n",
       "9  1229151613"
      ]
     },
     "execution_count": 6,
     "metadata": {},
     "output_type": "execute_result"
    }
   ],
   "source": [
    "%%bigquery\n",
    "SELECT  totrevenue\n",
    "FROM `bigquery-public-data.irs_990.irs_990_2015`\n",
    "LIMIT 10"
   ]
  },
  {
   "attachments": {},
   "cell_type": "markdown",
   "metadata": {},
   "source": [
    "`FORMAT(\"%'d\", totrevenue)`\n",
    "\n",
    "Function = Performs an Action\n",
    "\n",
    "Parameters = Inputs you provide\n",
    "\n",
    "`SELECT FORMAT (\"%'d\", 1000)`\n",
    "-> returns '1,000'\n",
    "\n",
    "**Beware of stylistic formatting in SQL:**\n",
    "\n",
    "    - Yout output is now treated like a string. This makes math operations on this calculated field more difficult.\n",
    "    \n",
    "    - It's best to save stylistic elements for your visualization tool."
   ]
  },
  {
   "cell_type": "code",
   "execution_count": 19,
   "metadata": {},
   "outputs": [
    {
     "data": {
      "application/vnd.jupyter.widget-view+json": {
       "model_id": "d587ae7a316a4be787ce142aaf2aedfc",
       "version_major": 2,
       "version_minor": 0
      },
      "text/plain": [
       "Query is running:   0%|          |"
      ]
     },
     "metadata": {},
     "output_type": "display_data"
    },
    {
     "data": {
      "application/vnd.jupyter.widget-view+json": {
       "model_id": "815499c3b7dc474d8a6c6e95984990d9",
       "version_major": 2,
       "version_minor": 0
      },
      "text/plain": [
       "Downloading:   0%|          |"
      ]
     },
     "metadata": {},
     "output_type": "display_data"
    },
    {
     "data": {
      "text/html": [
       "<div>\n",
       "<style scoped>\n",
       "    .dataframe tbody tr th:only-of-type {\n",
       "        vertical-align: middle;\n",
       "    }\n",
       "\n",
       "    .dataframe tbody tr th {\n",
       "        vertical-align: top;\n",
       "    }\n",
       "\n",
       "    .dataframe thead th {\n",
       "        text-align: right;\n",
       "    }\n",
       "</style>\n",
       "<table border=\"1\" class=\"dataframe\">\n",
       "  <thead>\n",
       "    <tr style=\"text-align: right;\">\n",
       "      <th></th>\n",
       "      <th>revenue</th>\n",
       "    </tr>\n",
       "  </thead>\n",
       "  <tbody>\n",
       "    <tr>\n",
       "      <th>0</th>\n",
       "      <td>45,409,123,226</td>\n",
       "    </tr>\n",
       "    <tr>\n",
       "      <th>1</th>\n",
       "      <td>20,796,549,014</td>\n",
       "    </tr>\n",
       "    <tr>\n",
       "      <th>2</th>\n",
       "      <td>11,091,388,129</td>\n",
       "    </tr>\n",
       "    <tr>\n",
       "      <th>3</th>\n",
       "      <td>10,098,163,008</td>\n",
       "    </tr>\n",
       "    <tr>\n",
       "      <th>4</th>\n",
       "      <td>9,890,722,789</td>\n",
       "    </tr>\n",
       "    <tr>\n",
       "      <th>5</th>\n",
       "      <td>9,475,129,863</td>\n",
       "    </tr>\n",
       "    <tr>\n",
       "      <th>6</th>\n",
       "      <td>9,021,585,970</td>\n",
       "    </tr>\n",
       "    <tr>\n",
       "      <th>7</th>\n",
       "      <td>8,655,129,029</td>\n",
       "    </tr>\n",
       "    <tr>\n",
       "      <th>8</th>\n",
       "      <td>7,523,260,077</td>\n",
       "    </tr>\n",
       "    <tr>\n",
       "      <th>9</th>\n",
       "      <td>6,740,015,230</td>\n",
       "    </tr>\n",
       "  </tbody>\n",
       "</table>\n",
       "</div>"
      ],
      "text/plain": [
       "          revenue\n",
       "0  45,409,123,226\n",
       "1  20,796,549,014\n",
       "2  11,091,388,129\n",
       "3  10,098,163,008\n",
       "4   9,890,722,789\n",
       "5   9,475,129,863\n",
       "6   9,021,585,970\n",
       "7   8,655,129,029\n",
       "8   7,523,260,077\n",
       "9   6,740,015,230"
      ]
     },
     "execution_count": 19,
     "metadata": {},
     "output_type": "execute_result"
    }
   ],
   "source": [
    "%%bigquery\n",
    "SELECT \n",
    "    FORMAT(\"%'d\", totrevenue) AS revenue\n",
    "FROM `bigquery-public-data.irs_990.irs_990_2015`\n",
    "ORDER BY totrevenue DESC\n",
    "LIMIT  10\n",
    "# It's much easier to read the numbers with commas\n",
    "# But there may be couple of caveats that come with that"
   ]
  },
  {
   "cell_type": "markdown",
   "metadata": {},
   "source": [
    "**Aliases do not exist yet when filtering in WHERE**"
   ]
  },
  {
   "cell_type": "code",
   "execution_count": 41,
   "metadata": {},
   "outputs": [
    {
     "name": "stdout",
     "output_type": "stream",
     "text": [
      "Executing query with job ID: 31d0f574-fde3-420e-9c03-086a9336b882\n",
      "Query executing: 0.68s"
     ]
    },
    {
     "name": "stderr",
     "output_type": "stream",
     "text": [
      "\n",
      "ERROR:\n",
      " 400 Unrecognized name: income at [5:7]\n",
      "\n",
      "Location: US\n",
      "Job ID: 31d0f574-fde3-420e-9c03-086a9336b882\n",
      "\n"
     ]
    }
   ],
   "source": [
    "%%bigquery\n",
    "SELECT \n",
    "    (totrevenue - totfuncexpns) AS income\n",
    "FROM \n",
    "    `bigquery-public-data.irs_990.irs_990_2015`\n",
    "WHERE income > 0 # Does not exist, will error in WHERE clause\n",
    "ORDER BY income DESC\n",
    "LIMIT 10"
   ]
  },
  {
   "cell_type": "markdown",
   "metadata": {},
   "source": [
    "**Add new fields in SELECT clause to return more data**"
   ]
  },
  {
   "cell_type": "code",
   "execution_count": 44,
   "metadata": {},
   "outputs": [
    {
     "data": {
      "application/vnd.jupyter.widget-view+json": {
       "model_id": "c4369d455ff446b8b35c7e8519e0718f",
       "version_major": 2,
       "version_minor": 0
      },
      "text/plain": [
       "Query is running:   0%|          |"
      ]
     },
     "metadata": {},
     "output_type": "display_data"
    },
    {
     "data": {
      "application/vnd.jupyter.widget-view+json": {
       "model_id": "9a91a7c5eaeb4e3db5fe9d14cf2cf72d",
       "version_major": 2,
       "version_minor": 0
      },
      "text/plain": [
       "Downloading:   0%|          |"
      ]
     },
     "metadata": {},
     "output_type": "display_data"
    },
    {
     "data": {
      "text/html": [
       "<div>\n",
       "<style scoped>\n",
       "    .dataframe tbody tr th:only-of-type {\n",
       "        vertical-align: middle;\n",
       "    }\n",
       "\n",
       "    .dataframe tbody tr th {\n",
       "        vertical-align: top;\n",
       "    }\n",
       "\n",
       "    .dataframe thead th {\n",
       "        text-align: right;\n",
       "    }\n",
       "</style>\n",
       "<table border=\"1\" class=\"dataframe\">\n",
       "  <thead>\n",
       "    <tr style=\"text-align: right;\">\n",
       "      <th></th>\n",
       "      <th>revenue</th>\n",
       "      <th>ein</th>\n",
       "      <th>is_school</th>\n",
       "    </tr>\n",
       "  </thead>\n",
       "  <tbody>\n",
       "    <tr>\n",
       "      <th>0</th>\n",
       "      <td>45409123226</td>\n",
       "      <td>941340523</td>\n",
       "      <td>N</td>\n",
       "    </tr>\n",
       "    <tr>\n",
       "      <th>1</th>\n",
       "      <td>20796549014</td>\n",
       "      <td>941105628</td>\n",
       "      <td>N</td>\n",
       "    </tr>\n",
       "    <tr>\n",
       "      <th>2</th>\n",
       "      <td>11091388129</td>\n",
       "      <td>900656139</td>\n",
       "      <td>N</td>\n",
       "    </tr>\n",
       "    <tr>\n",
       "      <th>3</th>\n",
       "      <td>10098163008</td>\n",
       "      <td>208295721</td>\n",
       "      <td>N</td>\n",
       "    </tr>\n",
       "    <tr>\n",
       "      <th>4</th>\n",
       "      <td>9890722789</td>\n",
       "      <td>900424876</td>\n",
       "      <td>N</td>\n",
       "    </tr>\n",
       "    <tr>\n",
       "      <th>5</th>\n",
       "      <td>9475129863</td>\n",
       "      <td>390123480</td>\n",
       "      <td>N</td>\n",
       "    </tr>\n",
       "    <tr>\n",
       "      <th>6</th>\n",
       "      <td>9021585970</td>\n",
       "      <td>390123480</td>\n",
       "      <td>N</td>\n",
       "    </tr>\n",
       "    <tr>\n",
       "      <th>7</th>\n",
       "      <td>8655129029</td>\n",
       "      <td>941196203</td>\n",
       "      <td>N</td>\n",
       "    </tr>\n",
       "    <tr>\n",
       "      <th>8</th>\n",
       "      <td>7523260077</td>\n",
       "      <td>912153073</td>\n",
       "      <td>N</td>\n",
       "    </tr>\n",
       "    <tr>\n",
       "      <th>9</th>\n",
       "      <td>6740015230</td>\n",
       "      <td>42103580</td>\n",
       "      <td>Y</td>\n",
       "    </tr>\n",
       "  </tbody>\n",
       "</table>\n",
       "</div>"
      ],
      "text/plain": [
       "       revenue        ein is_school\n",
       "0  45409123226  941340523         N\n",
       "1  20796549014  941105628         N\n",
       "2  11091388129  900656139         N\n",
       "3  10098163008  208295721         N\n",
       "4   9890722789  900424876         N\n",
       "5   9475129863  390123480         N\n",
       "6   9021585970  390123480         N\n",
       "7   8655129029  941196203         N\n",
       "8   7523260077  912153073         N\n",
       "9   6740015230   42103580         Y"
      ]
     },
     "execution_count": 44,
     "metadata": {},
     "output_type": "execute_result"
    }
   ],
   "source": [
    "# EIN(employer identification number) is a unique identifier for that charity\n",
    "# is_school is a flag field indicating whether that charity is a school\n",
    "%%bigquery\n",
    "SELECT \n",
    "    totrevenue AS revenue,\n",
    "    ein,\n",
    "    operateschools170cd AS is_school\n",
    "FROM \n",
    "    `bigquery-public-data.irs_990.irs_990_2015`\n",
    "ORDER BY revenue DESC\n",
    "LIMIT 10"
   ]
  },
  {
   "cell_type": "markdown",
   "metadata": {},
   "source": [
    "### Filters, aggregates, and duplicates\n"
   ]
  },
  {
   "cell_type": "code",
   "execution_count": 49,
   "metadata": {},
   "outputs": [
    {
     "data": {
      "application/vnd.jupyter.widget-view+json": {
       "model_id": "7057494ea2b3483fbbb88e85f00856c3",
       "version_major": 2,
       "version_minor": 0
      },
      "text/plain": [
       "Query is running:   0%|          |"
      ]
     },
     "metadata": {},
     "output_type": "display_data"
    },
    {
     "data": {
      "application/vnd.jupyter.widget-view+json": {
       "model_id": "f465f4a722394395b7d71cb6d5059d45",
       "version_major": 2,
       "version_minor": 0
      },
      "text/plain": [
       "Downloading:   0%|          |"
      ]
     },
     "metadata": {},
     "output_type": "display_data"
    },
    {
     "data": {
      "text/html": [
       "<div>\n",
       "<style scoped>\n",
       "    .dataframe tbody tr th:only-of-type {\n",
       "        vertical-align: middle;\n",
       "    }\n",
       "\n",
       "    .dataframe tbody tr th {\n",
       "        vertical-align: top;\n",
       "    }\n",
       "\n",
       "    .dataframe thead th {\n",
       "        text-align: right;\n",
       "    }\n",
       "</style>\n",
       "<table border=\"1\" class=\"dataframe\">\n",
       "  <thead>\n",
       "    <tr style=\"text-align: right;\">\n",
       "      <th></th>\n",
       "      <th>revenue</th>\n",
       "      <th>ein</th>\n",
       "      <th>is_school</th>\n",
       "    </tr>\n",
       "  </thead>\n",
       "  <tbody>\n",
       "    <tr>\n",
       "      <th>0</th>\n",
       "      <td>6740015230</td>\n",
       "      <td>42103580</td>\n",
       "      <td>Y</td>\n",
       "    </tr>\n",
       "    <tr>\n",
       "      <th>1</th>\n",
       "      <td>6000839000</td>\n",
       "      <td>231352685</td>\n",
       "      <td>Y</td>\n",
       "    </tr>\n",
       "    <tr>\n",
       "      <th>2</th>\n",
       "      <td>5717023246</td>\n",
       "      <td>941156365</td>\n",
       "      <td>Y</td>\n",
       "    </tr>\n",
       "    <tr>\n",
       "      <th>3</th>\n",
       "      <td>5569004000</td>\n",
       "      <td>520595110</td>\n",
       "      <td>Y</td>\n",
       "    </tr>\n",
       "    <tr>\n",
       "      <th>4</th>\n",
       "      <td>5133788413</td>\n",
       "      <td>135562308</td>\n",
       "      <td>Y</td>\n",
       "    </tr>\n",
       "    <tr>\n",
       "      <th>5</th>\n",
       "      <td>4623485966</td>\n",
       "      <td>951642394</td>\n",
       "      <td>Y</td>\n",
       "    </tr>\n",
       "    <tr>\n",
       "      <th>6</th>\n",
       "      <td>4560196033</td>\n",
       "      <td>416011702</td>\n",
       "      <td>Y</td>\n",
       "    </tr>\n",
       "    <tr>\n",
       "      <th>7</th>\n",
       "      <td>4477633568</td>\n",
       "      <td>60646973</td>\n",
       "      <td>Y</td>\n",
       "    </tr>\n",
       "    <tr>\n",
       "      <th>8</th>\n",
       "      <td>4471027733</td>\n",
       "      <td>135598093</td>\n",
       "      <td>Y</td>\n",
       "    </tr>\n",
       "    <tr>\n",
       "      <th>9</th>\n",
       "      <td>4368738915</td>\n",
       "      <td>150532082</td>\n",
       "      <td>Y</td>\n",
       "    </tr>\n",
       "  </tbody>\n",
       "</table>\n",
       "</div>"
      ],
      "text/plain": [
       "      revenue        ein is_school\n",
       "0  6740015230   42103580         Y\n",
       "1  6000839000  231352685         Y\n",
       "2  5717023246  941156365         Y\n",
       "3  5569004000  520595110         Y\n",
       "4  5133788413  135562308         Y\n",
       "5  4623485966  951642394         Y\n",
       "6  4560196033  416011702         Y\n",
       "7  4477633568   60646973         Y\n",
       "8  4471027733  135598093         Y\n",
       "9  4368738915  150532082         Y"
      ]
     },
     "execution_count": 49,
     "metadata": {},
     "output_type": "execute_result"
    }
   ],
   "source": [
    "%%bigquery\n",
    "SELECT \n",
    "    totrevenue AS revenue,\n",
    "    ein,\n",
    "    operateschools170cd AS is_school\n",
    "FROM \n",
    "    `bigquery-public-data.irs_990.irs_990_2015`\n",
    "WHERE \n",
    "    operateschools170cd = 'Y'\n",
    "ORDER BY revenue DESC\n",
    "LIMIT 10\n",
    "# Why didn't we write this as is_school = 'Y'?"
   ]
  },
  {
   "attachments": {},
   "cell_type": "markdown",
   "metadata": {},
   "source": [
    "**Perform calculations over values with aggregation**"
   ]
  },
  {
   "cell_type": "code",
   "execution_count": 50,
   "metadata": {},
   "outputs": [
    {
     "data": {
      "application/vnd.jupyter.widget-view+json": {
       "model_id": "f584a3a01c7746a4b3664b309bdbc9b0",
       "version_major": 2,
       "version_minor": 0
      },
      "text/plain": [
       "Query is running:   0%|          |"
      ]
     },
     "metadata": {},
     "output_type": "display_data"
    },
    {
     "data": {
      "application/vnd.jupyter.widget-view+json": {
       "model_id": "fd716a3fed634723b7d9f604504818c5",
       "version_major": 2,
       "version_minor": 0
      },
      "text/plain": [
       "Downloading:   0%|          |"
      ]
     },
     "metadata": {},
     "output_type": "display_data"
    },
    {
     "data": {
      "text/html": [
       "<div>\n",
       "<style scoped>\n",
       "    .dataframe tbody tr th:only-of-type {\n",
       "        vertical-align: middle;\n",
       "    }\n",
       "\n",
       "    .dataframe tbody tr th {\n",
       "        vertical-align: top;\n",
       "    }\n",
       "\n",
       "    .dataframe thead th {\n",
       "        text-align: right;\n",
       "    }\n",
       "</style>\n",
       "<table border=\"1\" class=\"dataframe\">\n",
       "  <thead>\n",
       "    <tr style=\"text-align: right;\">\n",
       "      <th></th>\n",
       "      <th>total_2015_revenue</th>\n",
       "      <th>avg_revenue</th>\n",
       "      <th>nonprofits</th>\n",
       "      <th>nonprofits_distinct</th>\n",
       "      <th>num_employees</th>\n",
       "    </tr>\n",
       "  </thead>\n",
       "  <tbody>\n",
       "    <tr>\n",
       "      <th>0</th>\n",
       "      <td>2344355088288</td>\n",
       "      <td>7.952843e+06</td>\n",
       "      <td>294782</td>\n",
       "      <td>275077</td>\n",
       "      <td>787050</td>\n",
       "    </tr>\n",
       "  </tbody>\n",
       "</table>\n",
       "</div>"
      ],
      "text/plain": [
       "   total_2015_revenue   avg_revenue  nonprofits  nonprofits_distinct  \\\n",
       "0       2344355088288  7.952843e+06      294782               275077   \n",
       "\n",
       "   num_employees  \n",
       "0         787050  "
      ]
     },
     "execution_count": 50,
     "metadata": {},
     "output_type": "execute_result"
    }
   ],
   "source": [
    "%%bigquery\n",
    "SELECT \n",
    "    SUM(totrevenue) AS total_2015_revenue,\n",
    "    AVG(totrevenue) AS avg_revenue,\n",
    "    COUNT(ein) AS nonprofits,\n",
    "    COUNT(DISTINCT ein) AS nonprofits_distinct,\n",
    "    MAX(noemplyeesw3cnt) AS num_employees\n",
    "FROM \n",
    "    `bigquery-public-data.irs_990.irs_990_2015`"
   ]
  },
  {
   "cell_type": "markdown",
   "metadata": {},
   "source": [
    "**Embed functions inside of other functions**"
   ]
  },
  {
   "cell_type": "code",
   "execution_count": 52,
   "metadata": {},
   "outputs": [
    {
     "data": {
      "application/vnd.jupyter.widget-view+json": {
       "model_id": "1bccad3d5adc4de8bd0cfc7d3b52c2d2",
       "version_major": 2,
       "version_minor": 0
      },
      "text/plain": [
       "Query is running:   0%|          |"
      ]
     },
     "metadata": {},
     "output_type": "display_data"
    },
    {
     "data": {
      "application/vnd.jupyter.widget-view+json": {
       "model_id": "d9624fb6f74f4349960c020f7b1666ee",
       "version_major": 2,
       "version_minor": 0
      },
      "text/plain": [
       "Downloading:   0%|          |"
      ]
     },
     "metadata": {},
     "output_type": "display_data"
    },
    {
     "data": {
      "text/html": [
       "<div>\n",
       "<style scoped>\n",
       "    .dataframe tbody tr th:only-of-type {\n",
       "        vertical-align: middle;\n",
       "    }\n",
       "\n",
       "    .dataframe tbody tr th {\n",
       "        vertical-align: top;\n",
       "    }\n",
       "\n",
       "    .dataframe thead th {\n",
       "        text-align: right;\n",
       "    }\n",
       "</style>\n",
       "<table border=\"1\" class=\"dataframe\">\n",
       "  <thead>\n",
       "    <tr style=\"text-align: right;\">\n",
       "      <th></th>\n",
       "      <th>total_2015_revenue</th>\n",
       "      <th>avg_revenue</th>\n",
       "      <th>nonprofits</th>\n",
       "      <th>nonprofits_distinct</th>\n",
       "      <th>num_employees</th>\n",
       "    </tr>\n",
       "  </thead>\n",
       "  <tbody>\n",
       "    <tr>\n",
       "      <th>0</th>\n",
       "      <td>2344355088288</td>\n",
       "      <td>7952843.42</td>\n",
       "      <td>294782</td>\n",
       "      <td>275077</td>\n",
       "      <td>787050</td>\n",
       "    </tr>\n",
       "  </tbody>\n",
       "</table>\n",
       "</div>"
      ],
      "text/plain": [
       "   total_2015_revenue  avg_revenue  nonprofits  nonprofits_distinct  \\\n",
       "0       2344355088288   7952843.42      294782               275077   \n",
       "\n",
       "   num_employees  \n",
       "0         787050  "
      ]
     },
     "execution_count": 52,
     "metadata": {},
     "output_type": "execute_result"
    }
   ],
   "source": [
    "%%bigquery\n",
    "SELECT \n",
    "    SUM(totrevenue) AS total_2015_revenue,\n",
    "    ROUND(AVG(totrevenue),2) AS avg_revenue, ## we can round the average revenue\n",
    "    COUNT(ein) AS nonprofits,\n",
    "    COUNT(DISTINCT ein) AS nonprofits_distinct,\n",
    "    MAX(noemplyeesw3cnt) AS num_employees\n",
    "FROM \n",
    "    `bigquery-public-data.irs_990.irs_990_2015`"
   ]
  },
  {
   "cell_type": "code",
   "execution_count": 56,
   "metadata": {},
   "outputs": [
    {
     "data": {
      "application/vnd.jupyter.widget-view+json": {
       "model_id": "ac3b77dfff484cf4b815a3baa7859d64",
       "version_major": 2,
       "version_minor": 0
      },
      "text/plain": [
       "Query is running:   0%|          |"
      ]
     },
     "metadata": {},
     "output_type": "display_data"
    },
    {
     "data": {
      "application/vnd.jupyter.widget-view+json": {
       "model_id": "d4de6a0f627a48fabf0daba27696e1eb",
       "version_major": 2,
       "version_minor": 0
      },
      "text/plain": [
       "Downloading:   0%|          |"
      ]
     },
     "metadata": {},
     "output_type": "display_data"
    },
    {
     "data": {
      "text/html": [
       "<div>\n",
       "<style scoped>\n",
       "    .dataframe tbody tr th:only-of-type {\n",
       "        vertical-align: middle;\n",
       "    }\n",
       "\n",
       "    .dataframe tbody tr th {\n",
       "        vertical-align: top;\n",
       "    }\n",
       "\n",
       "    .dataframe thead th {\n",
       "        text-align: right;\n",
       "    }\n",
       "</style>\n",
       "<table border=\"1\" class=\"dataframe\">\n",
       "  <thead>\n",
       "    <tr style=\"text-align: right;\">\n",
       "      <th></th>\n",
       "      <th>ein</th>\n",
       "      <th>ein_count</th>\n",
       "    </tr>\n",
       "  </thead>\n",
       "  <tbody>\n",
       "    <tr>\n",
       "      <th>0</th>\n",
       "      <td>431859076</td>\n",
       "      <td>7</td>\n",
       "    </tr>\n",
       "    <tr>\n",
       "      <th>1</th>\n",
       "      <td>362235151</td>\n",
       "      <td>7</td>\n",
       "    </tr>\n",
       "    <tr>\n",
       "      <th>2</th>\n",
       "      <td>208367574</td>\n",
       "      <td>7</td>\n",
       "    </tr>\n",
       "    <tr>\n",
       "      <th>3</th>\n",
       "      <td>830345294</td>\n",
       "      <td>7</td>\n",
       "    </tr>\n",
       "    <tr>\n",
       "      <th>4</th>\n",
       "      <td>841604402</td>\n",
       "      <td>7</td>\n",
       "    </tr>\n",
       "    <tr>\n",
       "      <th>...</th>\n",
       "      <td>...</td>\n",
       "      <td>...</td>\n",
       "    </tr>\n",
       "    <tr>\n",
       "      <th>275072</th>\n",
       "      <td>222629185</td>\n",
       "      <td>1</td>\n",
       "    </tr>\n",
       "    <tr>\n",
       "      <th>275073</th>\n",
       "      <td>880275767</td>\n",
       "      <td>1</td>\n",
       "    </tr>\n",
       "    <tr>\n",
       "      <th>275074</th>\n",
       "      <td>150539118</td>\n",
       "      <td>1</td>\n",
       "    </tr>\n",
       "    <tr>\n",
       "      <th>275075</th>\n",
       "      <td>770057903</td>\n",
       "      <td>1</td>\n",
       "    </tr>\n",
       "    <tr>\n",
       "      <th>275076</th>\n",
       "      <td>310526228</td>\n",
       "      <td>1</td>\n",
       "    </tr>\n",
       "  </tbody>\n",
       "</table>\n",
       "<p>275077 rows × 2 columns</p>\n",
       "</div>"
      ],
      "text/plain": [
       "              ein  ein_count\n",
       "0       431859076          7\n",
       "1       362235151          7\n",
       "2       208367574          7\n",
       "3       830345294          7\n",
       "4       841604402          7\n",
       "...           ...        ...\n",
       "275072  222629185          1\n",
       "275073  880275767          1\n",
       "275074  150539118          1\n",
       "275075  770057903          1\n",
       "275076  310526228          1\n",
       "\n",
       "[275077 rows x 2 columns]"
      ]
     },
     "execution_count": 56,
     "metadata": {},
     "output_type": "execute_result"
    }
   ],
   "source": [
    "%%bigquery\n",
    "SELECT\n",
    "    ein, # not aggregated\n",
    "    COUNT(ein) AS ein_count # aggregated\n",
    "FROM `bigquery-public-data.irs_990.irs_990_2015`\n",
    "GROUP BY ein\n",
    "ORDER BY ein_count DESC\n",
    "# There are many charities that have more than one record for tax filing year 2015. This is highly unusual.\n",
    "# Next let's count how often this happens in total."
   ]
  },
  {
   "attachments": {},
   "cell_type": "markdown",
   "metadata": {},
   "source": [
    "**Filter aggregation with HAVING clause**\n",
    "\n",
    "- HAVING is very very useful when we're filtering aggregations."
   ]
  },
  {
   "cell_type": "code",
   "execution_count": 58,
   "metadata": {},
   "outputs": [
    {
     "data": {
      "application/vnd.jupyter.widget-view+json": {
       "model_id": "5b9d627310ca42d8bc30350a2782af67",
       "version_major": 2,
       "version_minor": 0
      },
      "text/plain": [
       "Query is running:   0%|          |"
      ]
     },
     "metadata": {},
     "output_type": "display_data"
    },
    {
     "data": {
      "application/vnd.jupyter.widget-view+json": {
       "model_id": "b9c35954d0044f3c9d11f9c57c4bc999",
       "version_major": 2,
       "version_minor": 0
      },
      "text/plain": [
       "Downloading:   0%|          |"
      ]
     },
     "metadata": {},
     "output_type": "display_data"
    },
    {
     "data": {
      "text/html": [
       "<div>\n",
       "<style scoped>\n",
       "    .dataframe tbody tr th:only-of-type {\n",
       "        vertical-align: middle;\n",
       "    }\n",
       "\n",
       "    .dataframe tbody tr th {\n",
       "        vertical-align: top;\n",
       "    }\n",
       "\n",
       "    .dataframe thead th {\n",
       "        text-align: right;\n",
       "    }\n",
       "</style>\n",
       "<table border=\"1\" class=\"dataframe\">\n",
       "  <thead>\n",
       "    <tr style=\"text-align: right;\">\n",
       "      <th></th>\n",
       "      <th>ein</th>\n",
       "      <th>ein_count</th>\n",
       "    </tr>\n",
       "  </thead>\n",
       "  <tbody>\n",
       "    <tr>\n",
       "      <th>0</th>\n",
       "      <td>431859076</td>\n",
       "      <td>7</td>\n",
       "    </tr>\n",
       "    <tr>\n",
       "      <th>1</th>\n",
       "      <td>362235151</td>\n",
       "      <td>7</td>\n",
       "    </tr>\n",
       "    <tr>\n",
       "      <th>2</th>\n",
       "      <td>208367574</td>\n",
       "      <td>7</td>\n",
       "    </tr>\n",
       "    <tr>\n",
       "      <th>3</th>\n",
       "      <td>830345294</td>\n",
       "      <td>7</td>\n",
       "    </tr>\n",
       "    <tr>\n",
       "      <th>4</th>\n",
       "      <td>841604402</td>\n",
       "      <td>7</td>\n",
       "    </tr>\n",
       "    <tr>\n",
       "      <th>...</th>\n",
       "      <td>...</td>\n",
       "      <td>...</td>\n",
       "    </tr>\n",
       "    <tr>\n",
       "      <th>17989</th>\n",
       "      <td>860593601</td>\n",
       "      <td>2</td>\n",
       "    </tr>\n",
       "    <tr>\n",
       "      <th>17990</th>\n",
       "      <td>203502737</td>\n",
       "      <td>2</td>\n",
       "    </tr>\n",
       "    <tr>\n",
       "      <th>17991</th>\n",
       "      <td>942324340</td>\n",
       "      <td>2</td>\n",
       "    </tr>\n",
       "    <tr>\n",
       "      <th>17992</th>\n",
       "      <td>942662962</td>\n",
       "      <td>2</td>\n",
       "    </tr>\n",
       "    <tr>\n",
       "      <th>17993</th>\n",
       "      <td>570331635</td>\n",
       "      <td>2</td>\n",
       "    </tr>\n",
       "  </tbody>\n",
       "</table>\n",
       "<p>17994 rows × 2 columns</p>\n",
       "</div>"
      ],
      "text/plain": [
       "             ein  ein_count\n",
       "0      431859076          7\n",
       "1      362235151          7\n",
       "2      208367574          7\n",
       "3      830345294          7\n",
       "4      841604402          7\n",
       "...          ...        ...\n",
       "17989  860593601          2\n",
       "17990  203502737          2\n",
       "17991  942324340          2\n",
       "17992  942662962          2\n",
       "17993  570331635          2\n",
       "\n",
       "[17994 rows x 2 columns]"
      ]
     },
     "execution_count": 58,
     "metadata": {},
     "output_type": "execute_result"
    }
   ],
   "source": [
    "%%bigquery\n",
    "SELECT\n",
    "    ein, # not aggregated\n",
    "    COUNT(ein) AS ein_count # aggregated\n",
    "FROM `bigquery-public-data.irs_990.irs_990_2015`\n",
    "GROUP BY ein\n",
    "HAVING ein_count > 1\n",
    "ORDER BY ein_count DESC\n"
   ]
  },
  {
   "cell_type": "code",
   "execution_count": 62,
   "metadata": {},
   "outputs": [
    {
     "name": "stdout",
     "output_type": "stream",
     "text": [
      "6.541441123758076\n"
     ]
    }
   ],
   "source": [
    "print(17994/275077*100)"
   ]
  },
  {
   "attachments": {},
   "cell_type": "markdown",
   "metadata": {},
   "source": [
    "**Explore further by filtering on one nonprofit**\n",
    "\n",
    "- We have seven paper filings for one ein for 2015 which is the tax period of 2014 since you file your taxes a year after the actual tax period.\n",
    "- So in the 2015 calendar year, we have this ein 2008 to 2014 filinf as well.\n",
    "- It can be based human error or dirty data or organization is submitting more than one tax period filing."
   ]
  },
  {
   "cell_type": "code",
   "execution_count": 64,
   "metadata": {},
   "outputs": [
    {
     "data": {
      "application/vnd.jupyter.widget-view+json": {
       "model_id": "66eae31f928f4bbea80cf29c291eb264",
       "version_major": 2,
       "version_minor": 0
      },
      "text/plain": [
       "Query is running:   0%|          |"
      ]
     },
     "metadata": {},
     "output_type": "display_data"
    },
    {
     "data": {
      "application/vnd.jupyter.widget-view+json": {
       "model_id": "67b569b6ee94448bb7defd71823918da",
       "version_major": 2,
       "version_minor": 0
      },
      "text/plain": [
       "Downloading:   0%|          |"
      ]
     },
     "metadata": {},
     "output_type": "display_data"
    },
    {
     "data": {
      "text/html": [
       "<div>\n",
       "<style scoped>\n",
       "    .dataframe tbody tr th:only-of-type {\n",
       "        vertical-align: middle;\n",
       "    }\n",
       "\n",
       "    .dataframe tbody tr th {\n",
       "        vertical-align: top;\n",
       "    }\n",
       "\n",
       "    .dataframe thead th {\n",
       "        text-align: right;\n",
       "    }\n",
       "</style>\n",
       "<table border=\"1\" class=\"dataframe\">\n",
       "  <thead>\n",
       "    <tr style=\"text-align: right;\">\n",
       "      <th></th>\n",
       "      <th>ein</th>\n",
       "      <th>elf</th>\n",
       "      <th>tax_pd</th>\n",
       "      <th>subseccd</th>\n",
       "      <th>s501c3or4947a1cd</th>\n",
       "      <th>schdbind</th>\n",
       "      <th>politicalactvtscd</th>\n",
       "      <th>lbbyingactvtscd</th>\n",
       "      <th>subjto6033cd</th>\n",
       "      <th>dnradvisedfundscd</th>\n",
       "      <th>...</th>\n",
       "      <th>exceeds1pct509</th>\n",
       "      <th>subtotpub509</th>\n",
       "      <th>pubsupplesub509</th>\n",
       "      <th>samepubsuppsubtot509</th>\n",
       "      <th>grsinc509</th>\n",
       "      <th>unreltxincls511tx509</th>\n",
       "      <th>subtotsuppinc509</th>\n",
       "      <th>netincunrelatd509</th>\n",
       "      <th>othrinc509</th>\n",
       "      <th>totsupp509</th>\n",
       "    </tr>\n",
       "  </thead>\n",
       "  <tbody>\n",
       "    <tr>\n",
       "      <th>0</th>\n",
       "      <td>262152334</td>\n",
       "      <td>P</td>\n",
       "      <td>201012</td>\n",
       "      <td>3</td>\n",
       "      <td>N</td>\n",
       "      <td>N</td>\n",
       "      <td>N</td>\n",
       "      <td>N</td>\n",
       "      <td>N</td>\n",
       "      <td>N</td>\n",
       "      <td>...</td>\n",
       "      <td>0</td>\n",
       "      <td>0</td>\n",
       "      <td>0</td>\n",
       "      <td>0</td>\n",
       "      <td>0</td>\n",
       "      <td>0</td>\n",
       "      <td>0</td>\n",
       "      <td>0</td>\n",
       "      <td>0</td>\n",
       "      <td>0</td>\n",
       "    </tr>\n",
       "    <tr>\n",
       "      <th>1</th>\n",
       "      <td>262152334</td>\n",
       "      <td>P</td>\n",
       "      <td>200812</td>\n",
       "      <td>3</td>\n",
       "      <td>N</td>\n",
       "      <td>N</td>\n",
       "      <td>N</td>\n",
       "      <td>N</td>\n",
       "      <td>N</td>\n",
       "      <td>N</td>\n",
       "      <td>...</td>\n",
       "      <td>0</td>\n",
       "      <td>0</td>\n",
       "      <td>0</td>\n",
       "      <td>0</td>\n",
       "      <td>0</td>\n",
       "      <td>0</td>\n",
       "      <td>0</td>\n",
       "      <td>0</td>\n",
       "      <td>0</td>\n",
       "      <td>0</td>\n",
       "    </tr>\n",
       "    <tr>\n",
       "      <th>2</th>\n",
       "      <td>262152334</td>\n",
       "      <td>P</td>\n",
       "      <td>201412</td>\n",
       "      <td>3</td>\n",
       "      <td>N</td>\n",
       "      <td>N</td>\n",
       "      <td>N</td>\n",
       "      <td>N</td>\n",
       "      <td>N</td>\n",
       "      <td>N</td>\n",
       "      <td>...</td>\n",
       "      <td>0</td>\n",
       "      <td>0</td>\n",
       "      <td>0</td>\n",
       "      <td>0</td>\n",
       "      <td>0</td>\n",
       "      <td>0</td>\n",
       "      <td>0</td>\n",
       "      <td>0</td>\n",
       "      <td>0</td>\n",
       "      <td>0</td>\n",
       "    </tr>\n",
       "    <tr>\n",
       "      <th>3</th>\n",
       "      <td>262152334</td>\n",
       "      <td>P</td>\n",
       "      <td>201312</td>\n",
       "      <td>3</td>\n",
       "      <td>N</td>\n",
       "      <td>N</td>\n",
       "      <td>N</td>\n",
       "      <td>N</td>\n",
       "      <td>N</td>\n",
       "      <td>N</td>\n",
       "      <td>...</td>\n",
       "      <td>0</td>\n",
       "      <td>0</td>\n",
       "      <td>0</td>\n",
       "      <td>0</td>\n",
       "      <td>0</td>\n",
       "      <td>0</td>\n",
       "      <td>0</td>\n",
       "      <td>0</td>\n",
       "      <td>0</td>\n",
       "      <td>0</td>\n",
       "    </tr>\n",
       "    <tr>\n",
       "      <th>4</th>\n",
       "      <td>262152334</td>\n",
       "      <td>P</td>\n",
       "      <td>201212</td>\n",
       "      <td>3</td>\n",
       "      <td>N</td>\n",
       "      <td>N</td>\n",
       "      <td>N</td>\n",
       "      <td>N</td>\n",
       "      <td>N</td>\n",
       "      <td>N</td>\n",
       "      <td>...</td>\n",
       "      <td>0</td>\n",
       "      <td>0</td>\n",
       "      <td>0</td>\n",
       "      <td>0</td>\n",
       "      <td>0</td>\n",
       "      <td>0</td>\n",
       "      <td>0</td>\n",
       "      <td>0</td>\n",
       "      <td>0</td>\n",
       "      <td>0</td>\n",
       "    </tr>\n",
       "    <tr>\n",
       "      <th>5</th>\n",
       "      <td>262152334</td>\n",
       "      <td>P</td>\n",
       "      <td>200912</td>\n",
       "      <td>3</td>\n",
       "      <td>N</td>\n",
       "      <td>N</td>\n",
       "      <td>N</td>\n",
       "      <td>N</td>\n",
       "      <td>N</td>\n",
       "      <td>N</td>\n",
       "      <td>...</td>\n",
       "      <td>0</td>\n",
       "      <td>0</td>\n",
       "      <td>0</td>\n",
       "      <td>0</td>\n",
       "      <td>0</td>\n",
       "      <td>0</td>\n",
       "      <td>0</td>\n",
       "      <td>0</td>\n",
       "      <td>0</td>\n",
       "      <td>0</td>\n",
       "    </tr>\n",
       "    <tr>\n",
       "      <th>6</th>\n",
       "      <td>262152334</td>\n",
       "      <td>P</td>\n",
       "      <td>201112</td>\n",
       "      <td>3</td>\n",
       "      <td>N</td>\n",
       "      <td>N</td>\n",
       "      <td>N</td>\n",
       "      <td>N</td>\n",
       "      <td>N</td>\n",
       "      <td>N</td>\n",
       "      <td>...</td>\n",
       "      <td>0</td>\n",
       "      <td>0</td>\n",
       "      <td>0</td>\n",
       "      <td>0</td>\n",
       "      <td>0</td>\n",
       "      <td>0</td>\n",
       "      <td>0</td>\n",
       "      <td>0</td>\n",
       "      <td>0</td>\n",
       "      <td>0</td>\n",
       "    </tr>\n",
       "  </tbody>\n",
       "</table>\n",
       "<p>7 rows × 246 columns</p>\n",
       "</div>"
      ],
      "text/plain": [
       "         ein elf  tax_pd  subseccd s501c3or4947a1cd schdbind  \\\n",
       "0  262152334   P  201012         3                N        N   \n",
       "1  262152334   P  200812         3                N        N   \n",
       "2  262152334   P  201412         3                N        N   \n",
       "3  262152334   P  201312         3                N        N   \n",
       "4  262152334   P  201212         3                N        N   \n",
       "5  262152334   P  200912         3                N        N   \n",
       "6  262152334   P  201112         3                N        N   \n",
       "\n",
       "  politicalactvtscd lbbyingactvtscd subjto6033cd dnradvisedfundscd  ...  \\\n",
       "0                 N               N            N                 N  ...   \n",
       "1                 N               N            N                 N  ...   \n",
       "2                 N               N            N                 N  ...   \n",
       "3                 N               N            N                 N  ...   \n",
       "4                 N               N            N                 N  ...   \n",
       "5                 N               N            N                 N  ...   \n",
       "6                 N               N            N                 N  ...   \n",
       "\n",
       "  exceeds1pct509 subtotpub509 pubsupplesub509 samepubsuppsubtot509 grsinc509  \\\n",
       "0              0            0               0                    0         0   \n",
       "1              0            0               0                    0         0   \n",
       "2              0            0               0                    0         0   \n",
       "3              0            0               0                    0         0   \n",
       "4              0            0               0                    0         0   \n",
       "5              0            0               0                    0         0   \n",
       "6              0            0               0                    0         0   \n",
       "\n",
       "  unreltxincls511tx509 subtotsuppinc509 netincunrelatd509 othrinc509  \\\n",
       "0                    0                0                 0          0   \n",
       "1                    0                0                 0          0   \n",
       "2                    0                0                 0          0   \n",
       "3                    0                0                 0          0   \n",
       "4                    0                0                 0          0   \n",
       "5                    0                0                 0          0   \n",
       "6                    0                0                 0          0   \n",
       "\n",
       "  totsupp509  \n",
       "0          0  \n",
       "1          0  \n",
       "2          0  \n",
       "3          0  \n",
       "4          0  \n",
       "5          0  \n",
       "6          0  \n",
       "\n",
       "[7 rows x 246 columns]"
      ]
     },
     "execution_count": 64,
     "metadata": {},
     "output_type": "execute_result"
    }
   ],
   "source": [
    "%%bigquery\n",
    "SELECT * \n",
    "FROM `bigquery-public-data.irs_990.irs_990_2015`\n",
    "WHERE ein = '262152334'"
   ]
  },
  {
   "attachments": {},
   "cell_type": "markdown",
   "metadata": {},
   "source": [
    "- So if we just wanted 2014, we can invoke a date filtering function"
   ]
  },
  {
   "cell_type": "code",
   "execution_count": 68,
   "metadata": {},
   "outputs": [
    {
     "data": {
      "application/vnd.jupyter.widget-view+json": {
       "model_id": "17b151e6b8974b7a916bf0d59a753307",
       "version_major": 2,
       "version_minor": 0
      },
      "text/plain": [
       "Query is running:   0%|          |"
      ]
     },
     "metadata": {},
     "output_type": "display_data"
    },
    {
     "data": {
      "application/vnd.jupyter.widget-view+json": {
       "model_id": "55a2460df25e4e1a83651fa2de9d6e58",
       "version_major": 2,
       "version_minor": 0
      },
      "text/plain": [
       "Downloading:   0%|          |"
      ]
     },
     "metadata": {},
     "output_type": "display_data"
    },
    {
     "data": {
      "text/html": [
       "<div>\n",
       "<style scoped>\n",
       "    .dataframe tbody tr th:only-of-type {\n",
       "        vertical-align: middle;\n",
       "    }\n",
       "\n",
       "    .dataframe tbody tr th {\n",
       "        vertical-align: top;\n",
       "    }\n",
       "\n",
       "    .dataframe thead th {\n",
       "        text-align: right;\n",
       "    }\n",
       "</style>\n",
       "<table border=\"1\" class=\"dataframe\">\n",
       "  <thead>\n",
       "    <tr style=\"text-align: right;\">\n",
       "      <th></th>\n",
       "      <th>ein</th>\n",
       "      <th>tax_pd</th>\n",
       "      <th>tax_period</th>\n",
       "    </tr>\n",
       "  </thead>\n",
       "  <tbody>\n",
       "    <tr>\n",
       "      <th>0</th>\n",
       "      <td>390123480</td>\n",
       "      <td>201412</td>\n",
       "      <td>2014-12-01</td>\n",
       "    </tr>\n",
       "    <tr>\n",
       "      <th>1</th>\n",
       "      <td>900424876</td>\n",
       "      <td>201412</td>\n",
       "      <td>2014-12-01</td>\n",
       "    </tr>\n",
       "    <tr>\n",
       "      <th>2</th>\n",
       "      <td>520891669</td>\n",
       "      <td>201405</td>\n",
       "      <td>2014-05-01</td>\n",
       "    </tr>\n",
       "    <tr>\n",
       "      <th>3</th>\n",
       "      <td>382227794</td>\n",
       "      <td>201406</td>\n",
       "      <td>2014-06-01</td>\n",
       "    </tr>\n",
       "    <tr>\n",
       "      <th>4</th>\n",
       "      <td>361493430</td>\n",
       "      <td>201412</td>\n",
       "      <td>2014-12-01</td>\n",
       "    </tr>\n",
       "    <tr>\n",
       "      <th>5</th>\n",
       "      <td>910219435</td>\n",
       "      <td>201412</td>\n",
       "      <td>2014-12-01</td>\n",
       "    </tr>\n",
       "    <tr>\n",
       "      <th>6</th>\n",
       "      <td>470339250</td>\n",
       "      <td>201412</td>\n",
       "      <td>2014-12-01</td>\n",
       "    </tr>\n",
       "    <tr>\n",
       "      <th>7</th>\n",
       "      <td>940362025</td>\n",
       "      <td>201412</td>\n",
       "      <td>2014-12-01</td>\n",
       "    </tr>\n",
       "    <tr>\n",
       "      <th>8</th>\n",
       "      <td>366066772</td>\n",
       "      <td>201412</td>\n",
       "      <td>2014-12-01</td>\n",
       "    </tr>\n",
       "    <tr>\n",
       "      <th>9</th>\n",
       "      <td>946069237</td>\n",
       "      <td>201412</td>\n",
       "      <td>2014-12-01</td>\n",
       "    </tr>\n",
       "  </tbody>\n",
       "</table>\n",
       "</div>"
      ],
      "text/plain": [
       "         ein  tax_pd  tax_period\n",
       "0  390123480  201412  2014-12-01\n",
       "1  900424876  201412  2014-12-01\n",
       "2  520891669  201405  2014-05-01\n",
       "3  382227794  201406  2014-06-01\n",
       "4  361493430  201412  2014-12-01\n",
       "5  910219435  201412  2014-12-01\n",
       "6  470339250  201412  2014-12-01\n",
       "7  940362025  201412  2014-12-01\n",
       "8  366066772  201412  2014-12-01\n",
       "9  946069237  201412  2014-12-01"
      ]
     },
     "execution_count": 68,
     "metadata": {},
     "output_type": "execute_result"
    }
   ],
   "source": [
    "%%bigquery\n",
    "SELECT \n",
    "    ein,\n",
    "    tax_pd,\n",
    "    PARSE_DATE('%Y%m', CAST(tax_pd AS STRING)) AS tax_period\n",
    "FROM `bigquery-public-data.irs_990.irs_990_2015`\n",
    "WHERE \n",
    "    EXTRACT(YEAR FROM PARSE_DATE('%Y%m', CAST(tax_pd AS STRING))) = 2014\n",
    "LIMIT 10"
   ]
  },
  {
   "attachments": {},
   "cell_type": "markdown",
   "metadata": {},
   "source": [
    "**Handle NULL values with extreme care**"
   ]
  },
  {
   "cell_type": "code",
   "execution_count": 70,
   "metadata": {},
   "outputs": [
    {
     "data": {
      "application/vnd.jupyter.widget-view+json": {
       "model_id": "b88f5c44c5bd43a18ca95e6f329649b3",
       "version_major": 2,
       "version_minor": 0
      },
      "text/plain": [
       "Query is running:   0%|          |"
      ]
     },
     "metadata": {},
     "output_type": "display_data"
    },
    {
     "data": {
      "application/vnd.jupyter.widget-view+json": {
       "model_id": "e1002c5673ea4f189883a16901490da3",
       "version_major": 2,
       "version_minor": 0
      },
      "text/plain": [
       "Downloading:   0%|          |"
      ]
     },
     "metadata": {},
     "output_type": "display_data"
    },
    {
     "data": {
      "text/html": [
       "<div>\n",
       "<style scoped>\n",
       "    .dataframe tbody tr th:only-of-type {\n",
       "        vertical-align: middle;\n",
       "    }\n",
       "\n",
       "    .dataframe tbody tr th {\n",
       "        vertical-align: top;\n",
       "    }\n",
       "\n",
       "    .dataframe thead th {\n",
       "        text-align: right;\n",
       "    }\n",
       "</style>\n",
       "<table border=\"1\" class=\"dataframe\">\n",
       "  <thead>\n",
       "    <tr style=\"text-align: right;\">\n",
       "      <th></th>\n",
       "      <th>ein</th>\n",
       "      <th>street</th>\n",
       "      <th>city</th>\n",
       "      <th>state</th>\n",
       "      <th>zip</th>\n",
       "    </tr>\n",
       "  </thead>\n",
       "  <tbody>\n",
       "    <tr>\n",
       "      <th>0</th>\n",
       "      <td>352651768</td>\n",
       "      <td>NAIROBI</td>\n",
       "      <td>KENYA</td>\n",
       "      <td>None</td>\n",
       "      <td>00000-0000</td>\n",
       "    </tr>\n",
       "    <tr>\n",
       "      <th>1</th>\n",
       "      <td>980031007</td>\n",
       "      <td>STOCKHOLM 11526</td>\n",
       "      <td>SWEDEN</td>\n",
       "      <td>None</td>\n",
       "      <td>00000-0000</td>\n",
       "    </tr>\n",
       "    <tr>\n",
       "      <th>2</th>\n",
       "      <td>237069967</td>\n",
       "      <td>TORONTO ON M3J 1P3</td>\n",
       "      <td>CANADA</td>\n",
       "      <td>None</td>\n",
       "      <td>00000-0000</td>\n",
       "    </tr>\n",
       "    <tr>\n",
       "      <th>3</th>\n",
       "      <td>364867900</td>\n",
       "      <td>BEIJING</td>\n",
       "      <td>CHINA</td>\n",
       "      <td>None</td>\n",
       "      <td>00000-0000</td>\n",
       "    </tr>\n",
       "    <tr>\n",
       "      <th>4</th>\n",
       "      <td>986064893</td>\n",
       "      <td>BIKENIBEU TARAWA</td>\n",
       "      <td>KIRIBATI</td>\n",
       "      <td>None</td>\n",
       "      <td>00000-0000</td>\n",
       "    </tr>\n",
       "    <tr>\n",
       "      <th>5</th>\n",
       "      <td>060706038</td>\n",
       "      <td>ST GEORGES GE 01</td>\n",
       "      <td>BERMUDA</td>\n",
       "      <td>None</td>\n",
       "      <td>00000-0000</td>\n",
       "    </tr>\n",
       "    <tr>\n",
       "      <th>6</th>\n",
       "      <td>061497455</td>\n",
       "      <td>SAVIESE VALAIS CH 1965</td>\n",
       "      <td>SWITZERLAND</td>\n",
       "      <td>None</td>\n",
       "      <td>00000-0000</td>\n",
       "    </tr>\n",
       "    <tr>\n",
       "      <th>7</th>\n",
       "      <td>980537324</td>\n",
       "      <td>WOLFVILLE NOVA SCOTIA B4P 2R6</td>\n",
       "      <td>CANADA</td>\n",
       "      <td>None</td>\n",
       "      <td>00000-0000</td>\n",
       "    </tr>\n",
       "    <tr>\n",
       "      <th>8</th>\n",
       "      <td>981426715</td>\n",
       "      <td>OXFORD OX1-1HU</td>\n",
       "      <td>UNITED KINGDOM</td>\n",
       "      <td>None</td>\n",
       "      <td>00000-0000</td>\n",
       "    </tr>\n",
       "    <tr>\n",
       "      <th>9</th>\n",
       "      <td>237099181</td>\n",
       "      <td>OPERA MI</td>\n",
       "      <td>ITALY</td>\n",
       "      <td>None</td>\n",
       "      <td>00000-0000</td>\n",
       "    </tr>\n",
       "  </tbody>\n",
       "</table>\n",
       "</div>"
      ],
      "text/plain": [
       "         ein                         street            city state         zip\n",
       "0  352651768                        NAIROBI           KENYA  None  00000-0000\n",
       "1  980031007                STOCKHOLM 11526          SWEDEN  None  00000-0000\n",
       "2  237069967             TORONTO ON M3J 1P3          CANADA  None  00000-0000\n",
       "3  364867900                        BEIJING           CHINA  None  00000-0000\n",
       "4  986064893               BIKENIBEU TARAWA        KIRIBATI  None  00000-0000\n",
       "5  060706038               ST GEORGES GE 01         BERMUDA  None  00000-0000\n",
       "6  061497455         SAVIESE VALAIS CH 1965     SWITZERLAND  None  00000-0000\n",
       "7  980537324  WOLFVILLE NOVA SCOTIA B4P 2R6          CANADA  None  00000-0000\n",
       "8  981426715                 OXFORD OX1-1HU  UNITED KINGDOM  None  00000-0000\n",
       "9  237099181                       OPERA MI           ITALY  None  00000-0000"
      ]
     },
     "execution_count": 70,
     "metadata": {},
     "output_type": "execute_result"
    }
   ],
   "source": [
    "%%bigquery\n",
    "SELECT \n",
    "    ein,\n",
    "    street,\n",
    "    city,\n",
    "    state,\n",
    "    zip\n",
    "FROM `bigquery-public-data.irs_990.irs_990_ein`\n",
    "WHERE \n",
    "    state IS NULL\n",
    "LIMIT 10"
   ]
  },
  {
   "attachments": {},
   "cell_type": "markdown",
   "metadata": {},
   "source": [
    "**Parsing String Values with String Functions**\n",
    "\n",
    "- `CONCAT(\"12345\",\"67890\")`  -> 1234567890\n",
    "- `END_WITH(\"Apple\",\"e\")` -> true\n",
    "- `LOWER(\"Apple\")` -> apple\n",
    "-  `REGEXP_EXTRACT(\"Lunchbox\",r\"^*box$\")` -> true\n",
    "\n",
    "\n"
   ]
  },
  {
   "cell_type": "markdown",
   "metadata": {},
   "source": [
    "**Wildcard filters with LIKE**"
   ]
  },
  {
   "cell_type": "code",
   "execution_count": 71,
   "metadata": {},
   "outputs": [
    {
     "data": {
      "application/vnd.jupyter.widget-view+json": {
       "model_id": "e5de07308be844ceaf71e42d2fc4985d",
       "version_major": 2,
       "version_minor": 0
      },
      "text/plain": [
       "Query is running:   0%|          |"
      ]
     },
     "metadata": {},
     "output_type": "display_data"
    },
    {
     "data": {
      "application/vnd.jupyter.widget-view+json": {
       "model_id": "72298920b5254cfd84d4ea6e8582acbd",
       "version_major": 2,
       "version_minor": 0
      },
      "text/plain": [
       "Downloading:   0%|          |"
      ]
     },
     "metadata": {},
     "output_type": "display_data"
    },
    {
     "data": {
      "text/html": [
       "<div>\n",
       "<style scoped>\n",
       "    .dataframe tbody tr th:only-of-type {\n",
       "        vertical-align: middle;\n",
       "    }\n",
       "\n",
       "    .dataframe tbody tr th {\n",
       "        vertical-align: top;\n",
       "    }\n",
       "\n",
       "    .dataframe thead th {\n",
       "        text-align: right;\n",
       "    }\n",
       "</style>\n",
       "<table border=\"1\" class=\"dataframe\">\n",
       "  <thead>\n",
       "    <tr style=\"text-align: right;\">\n",
       "      <th></th>\n",
       "      <th>ein</th>\n",
       "      <th>name</th>\n",
       "    </tr>\n",
       "  </thead>\n",
       "  <tbody>\n",
       "    <tr>\n",
       "      <th>0</th>\n",
       "      <td>203297489</td>\n",
       "      <td>MORGAN AUTO GROUP HELPING HAND FUND INC</td>\n",
       "    </tr>\n",
       "    <tr>\n",
       "      <th>1</th>\n",
       "      <td>205763648</td>\n",
       "      <td>JOSH FARLER HELPING HANDS FOUNDATION</td>\n",
       "    </tr>\n",
       "    <tr>\n",
       "      <th>2</th>\n",
       "      <td>264779838</td>\n",
       "      <td>HEAVENS HELPING HANDS MINISTRY INC</td>\n",
       "    </tr>\n",
       "    <tr>\n",
       "      <th>3</th>\n",
       "      <td>134045651</td>\n",
       "      <td>FRIENDS HELP FRIENDS INC</td>\n",
       "    </tr>\n",
       "    <tr>\n",
       "      <th>4</th>\n",
       "      <td>812832750</td>\n",
       "      <td>FAMILY HELP INSTITUTE INC</td>\n",
       "    </tr>\n",
       "    <tr>\n",
       "      <th>5</th>\n",
       "      <td>823676844</td>\n",
       "      <td>LOUS HELPING HAND FOUNDATION</td>\n",
       "    </tr>\n",
       "    <tr>\n",
       "      <th>6</th>\n",
       "      <td>462519710</td>\n",
       "      <td>BRAY HELPING BRAY INC</td>\n",
       "    </tr>\n",
       "    <tr>\n",
       "      <th>7</th>\n",
       "      <td>465025689</td>\n",
       "      <td>SN PHELPS RESEARCH INSTITUTE INC</td>\n",
       "    </tr>\n",
       "    <tr>\n",
       "      <th>8</th>\n",
       "      <td>453909386</td>\n",
       "      <td>DARKE COUNTY PREGNANCY HELP CENTER INC</td>\n",
       "    </tr>\n",
       "    <tr>\n",
       "      <th>9</th>\n",
       "      <td>830253203</td>\n",
       "      <td>TURNING POINT LINCOLN COUNTYS SELF- HELP CENTER</td>\n",
       "    </tr>\n",
       "  </tbody>\n",
       "</table>\n",
       "</div>"
      ],
      "text/plain": [
       "         ein                                             name\n",
       "0  203297489          MORGAN AUTO GROUP HELPING HAND FUND INC\n",
       "1  205763648             JOSH FARLER HELPING HANDS FOUNDATION\n",
       "2  264779838               HEAVENS HELPING HANDS MINISTRY INC\n",
       "3  134045651                         FRIENDS HELP FRIENDS INC\n",
       "4  812832750                        FAMILY HELP INSTITUTE INC\n",
       "5  823676844                     LOUS HELPING HAND FOUNDATION\n",
       "6  462519710                            BRAY HELPING BRAY INC\n",
       "7  465025689                 SN PHELPS RESEARCH INSTITUTE INC\n",
       "8  453909386           DARKE COUNTY PREGNANCY HELP CENTER INC\n",
       "9  830253203  TURNING POINT LINCOLN COUNTYS SELF- HELP CENTER"
      ]
     },
     "execution_count": 71,
     "metadata": {},
     "output_type": "execute_result"
    }
   ],
   "source": [
    "%%bigquery\n",
    "SELECT \n",
    "    ein,\n",
    "    name\n",
    "FROM `bigquery-public-data.irs_990.irs_990_ein`\n",
    "WHERE \n",
    "    LOWER(name) LIKE '%help%'\n",
    "LIMIT 10"
   ]
  },
  {
   "cell_type": "code",
   "execution_count": 72,
   "metadata": {},
   "outputs": [
    {
     "data": {
      "application/vnd.jupyter.widget-view+json": {
       "model_id": "0e1409576e20452597b2004bda8239ac",
       "version_major": 2,
       "version_minor": 0
      },
      "text/plain": [
       "Query is running:   0%|          |"
      ]
     },
     "metadata": {},
     "output_type": "display_data"
    },
    {
     "data": {
      "application/vnd.jupyter.widget-view+json": {
       "model_id": "1bd89634f946468e8dca31ed92be0901",
       "version_major": 2,
       "version_minor": 0
      },
      "text/plain": [
       "Downloading:   0%|          |"
      ]
     },
     "metadata": {},
     "output_type": "display_data"
    },
    {
     "data": {
      "text/html": [
       "<div>\n",
       "<style scoped>\n",
       "    .dataframe tbody tr th:only-of-type {\n",
       "        vertical-align: middle;\n",
       "    }\n",
       "\n",
       "    .dataframe tbody tr th {\n",
       "        vertical-align: top;\n",
       "    }\n",
       "\n",
       "    .dataframe thead th {\n",
       "        text-align: right;\n",
       "    }\n",
       "</style>\n",
       "<table border=\"1\" class=\"dataframe\">\n",
       "  <thead>\n",
       "    <tr style=\"text-align: right;\">\n",
       "      <th></th>\n",
       "      <th>ein</th>\n",
       "      <th>name</th>\n",
       "    </tr>\n",
       "  </thead>\n",
       "  <tbody>\n",
       "    <tr>\n",
       "      <th>0</th>\n",
       "      <td>871738298</td>\n",
       "      <td>HELPING HANDS FAMILY OUTREACH INC</td>\n",
       "    </tr>\n",
       "    <tr>\n",
       "      <th>1</th>\n",
       "      <td>952758212</td>\n",
       "      <td>HELP FOR BRAIN INJURED CHILDREN INC</td>\n",
       "    </tr>\n",
       "    <tr>\n",
       "      <th>2</th>\n",
       "      <td>270477340</td>\n",
       "      <td>HELPNEST INC</td>\n",
       "    </tr>\n",
       "    <tr>\n",
       "      <th>3</th>\n",
       "      <td>461652118</td>\n",
       "      <td>HELP A DIABETIC CHILD INC</td>\n",
       "    </tr>\n",
       "    <tr>\n",
       "      <th>4</th>\n",
       "      <td>742367192</td>\n",
       "      <td>HELPING HANDS OF JACKSON COUNTY INC</td>\n",
       "    </tr>\n",
       "    <tr>\n",
       "      <th>5</th>\n",
       "      <td>461634728</td>\n",
       "      <td>HELPING HIS HANDS DISASTER RESPONSE INC</td>\n",
       "    </tr>\n",
       "    <tr>\n",
       "      <th>6</th>\n",
       "      <td>464291756</td>\n",
       "      <td>HELPING KIDS ROUND FIRST</td>\n",
       "    </tr>\n",
       "    <tr>\n",
       "      <th>7</th>\n",
       "      <td>472964918</td>\n",
       "      <td>HELP-SIDE FOUNDATION</td>\n",
       "    </tr>\n",
       "    <tr>\n",
       "      <th>8</th>\n",
       "      <td>870683277</td>\n",
       "      <td>HELP INTERNATIONAL</td>\n",
       "    </tr>\n",
       "    <tr>\n",
       "      <th>9</th>\n",
       "      <td>137409533</td>\n",
       "      <td>HELPING HAND FOUNDATION TR</td>\n",
       "    </tr>\n",
       "  </tbody>\n",
       "</table>\n",
       "</div>"
      ],
      "text/plain": [
       "         ein                                     name\n",
       "0  871738298        HELPING HANDS FAMILY OUTREACH INC\n",
       "1  952758212      HELP FOR BRAIN INJURED CHILDREN INC\n",
       "2  270477340                             HELPNEST INC\n",
       "3  461652118                HELP A DIABETIC CHILD INC\n",
       "4  742367192      HELPING HANDS OF JACKSON COUNTY INC\n",
       "5  461634728  HELPING HIS HANDS DISASTER RESPONSE INC\n",
       "6  464291756                 HELPING KIDS ROUND FIRST\n",
       "7  472964918                     HELP-SIDE FOUNDATION\n",
       "8  870683277                       HELP INTERNATIONAL\n",
       "9  137409533               HELPING HAND FOUNDATION TR"
      ]
     },
     "execution_count": 72,
     "metadata": {},
     "output_type": "execute_result"
    }
   ],
   "source": [
    "%%bigquery\n",
    "SELECT \n",
    "    ein,\n",
    "    name\n",
    "FROM `bigquery-public-data.irs_990.irs_990_ein`\n",
    "WHERE \n",
    "    LOWER(name) LIKE 'help%'\n",
    "LIMIT 10"
   ]
  },
  {
   "attachments": {},
   "cell_type": "markdown",
   "metadata": {},
   "source": [
    "**Introducing JOINs and UNIONs**"
   ]
  },
  {
   "cell_type": "code",
   "execution_count": 76,
   "metadata": {},
   "outputs": [
    {
     "data": {
      "application/vnd.jupyter.widget-view+json": {
       "model_id": "f3cf9a4ea2bc41e2a5da920e3350aa87",
       "version_major": 2,
       "version_minor": 0
      },
      "text/plain": [
       "Query is running:   0%|          |"
      ]
     },
     "metadata": {},
     "output_type": "display_data"
    },
    {
     "data": {
      "application/vnd.jupyter.widget-view+json": {
       "model_id": "cb36f84c52ac4a12a26634e3aa092bc0",
       "version_major": 2,
       "version_minor": 0
      },
      "text/plain": [
       "Downloading:   0%|          |"
      ]
     },
     "metadata": {},
     "output_type": "display_data"
    },
    {
     "data": {
      "text/html": [
       "<div>\n",
       "<style scoped>\n",
       "    .dataframe tbody tr th:only-of-type {\n",
       "        vertical-align: middle;\n",
       "    }\n",
       "\n",
       "    .dataframe tbody tr th {\n",
       "        vertical-align: top;\n",
       "    }\n",
       "\n",
       "    .dataframe thead th {\n",
       "        text-align: right;\n",
       "    }\n",
       "</style>\n",
       "<table border=\"1\" class=\"dataframe\">\n",
       "  <thead>\n",
       "    <tr style=\"text-align: right;\">\n",
       "      <th></th>\n",
       "      <th>usaf</th>\n",
       "      <th>wban</th>\n",
       "      <th>name</th>\n",
       "      <th>country</th>\n",
       "      <th>state</th>\n",
       "      <th>call</th>\n",
       "      <th>lat</th>\n",
       "      <th>lon</th>\n",
       "      <th>elev</th>\n",
       "      <th>begin</th>\n",
       "      <th>end</th>\n",
       "    </tr>\n",
       "  </thead>\n",
       "  <tbody>\n",
       "    <tr>\n",
       "      <th>0</th>\n",
       "      <td>007018</td>\n",
       "      <td>99999</td>\n",
       "      <td>WXPOD 7018</td>\n",
       "      <td>None</td>\n",
       "      <td>None</td>\n",
       "      <td>None</td>\n",
       "      <td>0.00</td>\n",
       "      <td>0.000</td>\n",
       "      <td>+7018.0</td>\n",
       "      <td>20110309</td>\n",
       "      <td>20130730</td>\n",
       "    </tr>\n",
       "    <tr>\n",
       "      <th>1</th>\n",
       "      <td>007026</td>\n",
       "      <td>99999</td>\n",
       "      <td>WXPOD 7026</td>\n",
       "      <td>AF</td>\n",
       "      <td>None</td>\n",
       "      <td>None</td>\n",
       "      <td>0.00</td>\n",
       "      <td>0.000</td>\n",
       "      <td>+7026.0</td>\n",
       "      <td>20120713</td>\n",
       "      <td>20170822</td>\n",
       "    </tr>\n",
       "    <tr>\n",
       "      <th>2</th>\n",
       "      <td>007070</td>\n",
       "      <td>99999</td>\n",
       "      <td>WXPOD 7070</td>\n",
       "      <td>AF</td>\n",
       "      <td>None</td>\n",
       "      <td>None</td>\n",
       "      <td>0.00</td>\n",
       "      <td>0.000</td>\n",
       "      <td>+7070.0</td>\n",
       "      <td>20140923</td>\n",
       "      <td>20150926</td>\n",
       "    </tr>\n",
       "    <tr>\n",
       "      <th>3</th>\n",
       "      <td>008268</td>\n",
       "      <td>99999</td>\n",
       "      <td>WXPOD8278</td>\n",
       "      <td>AF</td>\n",
       "      <td>None</td>\n",
       "      <td>None</td>\n",
       "      <td>32.95</td>\n",
       "      <td>65.567</td>\n",
       "      <td>+1156.7</td>\n",
       "      <td>20100519</td>\n",
       "      <td>20120323</td>\n",
       "    </tr>\n",
       "    <tr>\n",
       "      <th>4</th>\n",
       "      <td>008307</td>\n",
       "      <td>99999</td>\n",
       "      <td>WXPOD 8318</td>\n",
       "      <td>AF</td>\n",
       "      <td>None</td>\n",
       "      <td>None</td>\n",
       "      <td>0.00</td>\n",
       "      <td>0.000</td>\n",
       "      <td>+8318.0</td>\n",
       "      <td>20100421</td>\n",
       "      <td>20100421</td>\n",
       "    </tr>\n",
       "  </tbody>\n",
       "</table>\n",
       "</div>"
      ],
      "text/plain": [
       "     usaf   wban                           name country state  call    lat  \\\n",
       "0  007018  99999  WXPOD 7018                       None  None  None   0.00   \n",
       "1  007026  99999  WXPOD 7026                         AF  None  None   0.00   \n",
       "2  007070  99999  WXPOD 7070                         AF  None  None   0.00   \n",
       "3  008268  99999  WXPOD8278                          AF  None  None  32.95   \n",
       "4  008307  99999  WXPOD 8318                         AF  None  None   0.00   \n",
       "\n",
       "      lon     elev     begin       end  \n",
       "0   0.000  +7018.0  20110309  20130730  \n",
       "1   0.000  +7026.0  20120713  20170822  \n",
       "2   0.000  +7070.0  20140923  20150926  \n",
       "3  65.567  +1156.7  20100519  20120323  \n",
       "4   0.000  +8318.0  20100421  20100421  "
      ]
     },
     "execution_count": 76,
     "metadata": {},
     "output_type": "execute_result"
    }
   ],
   "source": [
    "%%bigquery\n",
    "SELECT \n",
    "    *\n",
    "FROM `bigquery-public-data.noaa_gsod.stations`\n",
    "LIMIt 5"
   ]
  },
  {
   "cell_type": "code",
   "execution_count": null,
   "metadata": {},
   "outputs": [],
   "source": [
    "# you have to create your own primary key"
   ]
  },
  {
   "cell_type": "code",
   "execution_count": 74,
   "metadata": {},
   "outputs": [
    {
     "data": {
      "application/vnd.jupyter.widget-view+json": {
       "model_id": "9ffefbb743644cce93d517c4cdf25171",
       "version_major": 2,
       "version_minor": 0
      },
      "text/plain": [
       "Query is running:   0%|          |"
      ]
     },
     "metadata": {},
     "output_type": "display_data"
    },
    {
     "data": {
      "application/vnd.jupyter.widget-view+json": {
       "model_id": "4e72d092179a4d63833813ede0239f48",
       "version_major": 2,
       "version_minor": 0
      },
      "text/plain": [
       "Downloading:   0%|          |"
      ]
     },
     "metadata": {},
     "output_type": "display_data"
    },
    {
     "data": {
      "text/html": [
       "<div>\n",
       "<style scoped>\n",
       "    .dataframe tbody tr th:only-of-type {\n",
       "        vertical-align: middle;\n",
       "    }\n",
       "\n",
       "    .dataframe tbody tr th {\n",
       "        vertical-align: top;\n",
       "    }\n",
       "\n",
       "    .dataframe thead th {\n",
       "        text-align: right;\n",
       "    }\n",
       "</style>\n",
       "<table border=\"1\" class=\"dataframe\">\n",
       "  <thead>\n",
       "    <tr style=\"text-align: right;\">\n",
       "      <th></th>\n",
       "      <th>total_count</th>\n",
       "      <th>distinct_count</th>\n",
       "    </tr>\n",
       "  </thead>\n",
       "  <tbody>\n",
       "    <tr>\n",
       "      <th>0</th>\n",
       "      <td>29590</td>\n",
       "      <td>26189</td>\n",
       "    </tr>\n",
       "  </tbody>\n",
       "</table>\n",
       "</div>"
      ],
      "text/plain": [
       "   total_count  distinct_count\n",
       "0        29590           26189"
      ]
     },
     "execution_count": 74,
     "metadata": {},
     "output_type": "execute_result"
    }
   ],
   "source": [
    "%%bigquery\n",
    "SELECT \n",
    "    COUNT (usaf) AS total_count,\n",
    "    COUNT(DISTINCT usaf) AS distinct_count\n",
    "FROM `bigquery-public-data.noaa_gsod.stations`"
   ]
  },
  {
   "attachments": {},
   "cell_type": "markdown",
   "metadata": {},
   "source": [
    "**Union for vertically merging your data**\n",
    "\n",
    "- `UNION DISTINCT` -> removes duplicates\n",
    "- `UNION ALL` -> keeps every records"
   ]
  },
  {
   "cell_type": "code",
   "execution_count": 81,
   "metadata": {},
   "outputs": [
    {
     "data": {
      "application/vnd.jupyter.widget-view+json": {
       "model_id": "6959836eab2343e8a3c8f45ac6bb4a35",
       "version_major": 2,
       "version_minor": 0
      },
      "text/plain": [
       "Query is running:   0%|          |"
      ]
     },
     "metadata": {},
     "output_type": "display_data"
    },
    {
     "data": {
      "application/vnd.jupyter.widget-view+json": {
       "model_id": "35f4fbd8ac084cc58c783aff2b9ad19e",
       "version_major": 2,
       "version_minor": 0
      },
      "text/plain": [
       "Downloading:   0%|          |"
      ]
     },
     "metadata": {},
     "output_type": "display_data"
    },
    {
     "data": {
      "text/html": [
       "<div>\n",
       "<style scoped>\n",
       "    .dataframe tbody tr th:only-of-type {\n",
       "        vertical-align: middle;\n",
       "    }\n",
       "\n",
       "    .dataframe tbody tr th {\n",
       "        vertical-align: top;\n",
       "    }\n",
       "\n",
       "    .dataframe thead th {\n",
       "        text-align: right;\n",
       "    }\n",
       "</style>\n",
       "<table border=\"1\" class=\"dataframe\">\n",
       "  <thead>\n",
       "    <tr style=\"text-align: right;\">\n",
       "      <th></th>\n",
       "      <th>stn</th>\n",
       "      <th>wban</th>\n",
       "      <th>temp</th>\n",
       "      <th>year</th>\n",
       "    </tr>\n",
       "  </thead>\n",
       "  <tbody>\n",
       "    <tr>\n",
       "      <th>0</th>\n",
       "      <td>037770</td>\n",
       "      <td>99999</td>\n",
       "      <td>50.7</td>\n",
       "      <td>1930</td>\n",
       "    </tr>\n",
       "    <tr>\n",
       "      <th>1</th>\n",
       "      <td>038560</td>\n",
       "      <td>99999</td>\n",
       "      <td>53.2</td>\n",
       "      <td>1930</td>\n",
       "    </tr>\n",
       "    <tr>\n",
       "      <th>2</th>\n",
       "      <td>038560</td>\n",
       "      <td>99999</td>\n",
       "      <td>58.5</td>\n",
       "      <td>1930</td>\n",
       "    </tr>\n",
       "    <tr>\n",
       "      <th>3</th>\n",
       "      <td>039730</td>\n",
       "      <td>99999</td>\n",
       "      <td>40.2</td>\n",
       "      <td>1930</td>\n",
       "    </tr>\n",
       "    <tr>\n",
       "      <th>4</th>\n",
       "      <td>039730</td>\n",
       "      <td>99999</td>\n",
       "      <td>57.0</td>\n",
       "      <td>1930</td>\n",
       "    </tr>\n",
       "    <tr>\n",
       "      <th>...</th>\n",
       "      <td>...</td>\n",
       "      <td>...</td>\n",
       "      <td>...</td>\n",
       "      <td>...</td>\n",
       "    </tr>\n",
       "    <tr>\n",
       "      <th>4526</th>\n",
       "      <td>990061</td>\n",
       "      <td>99999</td>\n",
       "      <td>65.7</td>\n",
       "      <td>1929</td>\n",
       "    </tr>\n",
       "    <tr>\n",
       "      <th>4527</th>\n",
       "      <td>990061</td>\n",
       "      <td>99999</td>\n",
       "      <td>69.1</td>\n",
       "      <td>1929</td>\n",
       "    </tr>\n",
       "    <tr>\n",
       "      <th>4528</th>\n",
       "      <td>990061</td>\n",
       "      <td>99999</td>\n",
       "      <td>65.1</td>\n",
       "      <td>1929</td>\n",
       "    </tr>\n",
       "    <tr>\n",
       "      <th>4529</th>\n",
       "      <td>990061</td>\n",
       "      <td>99999</td>\n",
       "      <td>62.3</td>\n",
       "      <td>1929</td>\n",
       "    </tr>\n",
       "    <tr>\n",
       "      <th>4530</th>\n",
       "      <td>990061</td>\n",
       "      <td>99999</td>\n",
       "      <td>59.9</td>\n",
       "      <td>1929</td>\n",
       "    </tr>\n",
       "  </tbody>\n",
       "</table>\n",
       "<p>4531 rows × 4 columns</p>\n",
       "</div>"
      ],
      "text/plain": [
       "         stn   wban  temp  year\n",
       "0     037770  99999  50.7  1930\n",
       "1     038560  99999  53.2  1930\n",
       "2     038560  99999  58.5  1930\n",
       "3     039730  99999  40.2  1930\n",
       "4     039730  99999  57.0  1930\n",
       "...      ...    ...   ...   ...\n",
       "4526  990061  99999  65.7  1929\n",
       "4527  990061  99999  69.1  1929\n",
       "4528  990061  99999  65.1  1929\n",
       "4529  990061  99999  62.3  1929\n",
       "4530  990061  99999  59.9  1929\n",
       "\n",
       "[4531 rows x 4 columns]"
      ]
     },
     "execution_count": 81,
     "metadata": {},
     "output_type": "execute_result"
    }
   ],
   "source": [
    "%%bigquery\n",
    "SELECT \n",
    "    stn,wban,temp, year\n",
    "FROM `bigquery-public-data.noaa_gsod.gsod1929`\n",
    "    UNION DISTINCT\n",
    "SELECT stn,wban,temp, year \n",
    "FROM `bigquery-public-data.noaa_gsod.gsod1930`\n"
   ]
  },
  {
   "attachments": {},
   "cell_type": "markdown",
   "metadata": {},
   "source": [
    "**Use table wildcards for easy merges** \n",
    "\n",
    "- You have quite a few tables that you need to bring together. This is the syntax for the union, select all the fields we want from one of these particular tables. Union distinct, just write it out and then you just do another table and union distinct, do another table and union distinct, do another table. And if you have more than 10 tables, your fingers are going to get tired of typing all these tables over time. So I don't really want to type a 100 unions and it's going to make my code just extremely long vertically to read. \n",
    "\n",
    "```\n",
    "SELECT \n",
    "    stn,wban,temp, year\n",
    "FROM `bigquery-public-data.noaa_gsod.gsod1929`\n",
    "    UNION DISTINCT\n",
    "SELECT stn,wban,temp, year \n",
    "FROM `bigquery-public-data.noaa_gsod.gsod1930`\n",
    "    UNION DISTINCT\n",
    "SELECT stn,wban,temp, year \n",
    "FROM `bigquery-public-data.noaa_gsod.gsod1931`\n",
    "    UNION DISTINCT\n",
    "SELECT stn,wban,temp, year \n",
    "FROM `bigquery-public-data.noaa_gsod.gsod1932`\n",
    "    UNION DISTINCT\n",
    "SELECT stn,wban,temp, year \n",
    "FROM `bigquery-public-data.noaa_gsod.gsod1933`\n",
    "...\n",
    "..\n",
    ".\n",
    "```\n",
    "\n",
    "- wildcard is your solution ```SELECT * FROM `bigquery-public-data.noaa_gsod.gsod*` ```\n"
   ]
  },
  {
   "cell_type": "code",
   "execution_count": 84,
   "metadata": {},
   "outputs": [
    {
     "data": {
      "application/vnd.jupyter.widget-view+json": {
       "model_id": "212d1c3b92c54151b4c867cdcddb5b93",
       "version_major": 2,
       "version_minor": 0
      },
      "text/plain": [
       "Query is running:   0%|          |"
      ]
     },
     "metadata": {},
     "output_type": "display_data"
    },
    {
     "data": {
      "application/vnd.jupyter.widget-view+json": {
       "model_id": "534b074caad649e69aeea52b4a0930d7",
       "version_major": 2,
       "version_minor": 0
      },
      "text/plain": [
       "Downloading:   0%|          |"
      ]
     },
     "metadata": {},
     "output_type": "display_data"
    },
    {
     "data": {
      "text/html": [
       "<div>\n",
       "<style scoped>\n",
       "    .dataframe tbody tr th:only-of-type {\n",
       "        vertical-align: middle;\n",
       "    }\n",
       "\n",
       "    .dataframe tbody tr th {\n",
       "        vertical-align: top;\n",
       "    }\n",
       "\n",
       "    .dataframe thead th {\n",
       "        text-align: right;\n",
       "    }\n",
       "</style>\n",
       "<table border=\"1\" class=\"dataframe\">\n",
       "  <thead>\n",
       "    <tr style=\"text-align: right;\">\n",
       "      <th></th>\n",
       "      <th>stn</th>\n",
       "      <th>wban</th>\n",
       "      <th>temp</th>\n",
       "      <th>year</th>\n",
       "    </tr>\n",
       "  </thead>\n",
       "  <tbody>\n",
       "    <tr>\n",
       "      <th>0</th>\n",
       "      <td>150520</td>\n",
       "      <td>99999</td>\n",
       "      <td>18.0</td>\n",
       "      <td>1967</td>\n",
       "    </tr>\n",
       "    <tr>\n",
       "      <th>1</th>\n",
       "      <td>150520</td>\n",
       "      <td>99999</td>\n",
       "      <td>52.0</td>\n",
       "      <td>1967</td>\n",
       "    </tr>\n",
       "    <tr>\n",
       "      <th>2</th>\n",
       "      <td>150520</td>\n",
       "      <td>99999</td>\n",
       "      <td>58.0</td>\n",
       "      <td>1967</td>\n",
       "    </tr>\n",
       "    <tr>\n",
       "      <th>3</th>\n",
       "      <td>150520</td>\n",
       "      <td>99999</td>\n",
       "      <td>8.5</td>\n",
       "      <td>1967</td>\n",
       "    </tr>\n",
       "    <tr>\n",
       "      <th>4</th>\n",
       "      <td>151700</td>\n",
       "      <td>99999</td>\n",
       "      <td>16.7</td>\n",
       "      <td>1967</td>\n",
       "    </tr>\n",
       "    <tr>\n",
       "      <th>5</th>\n",
       "      <td>151700</td>\n",
       "      <td>99999</td>\n",
       "      <td>59.0</td>\n",
       "      <td>1967</td>\n",
       "    </tr>\n",
       "    <tr>\n",
       "      <th>6</th>\n",
       "      <td>151700</td>\n",
       "      <td>99999</td>\n",
       "      <td>66.7</td>\n",
       "      <td>1967</td>\n",
       "    </tr>\n",
       "    <tr>\n",
       "      <th>7</th>\n",
       "      <td>170980</td>\n",
       "      <td>99999</td>\n",
       "      <td>33.5</td>\n",
       "      <td>1967</td>\n",
       "    </tr>\n",
       "    <tr>\n",
       "      <th>8</th>\n",
       "      <td>170980</td>\n",
       "      <td>99999</td>\n",
       "      <td>29.8</td>\n",
       "      <td>1967</td>\n",
       "    </tr>\n",
       "    <tr>\n",
       "      <th>9</th>\n",
       "      <td>170980</td>\n",
       "      <td>99999</td>\n",
       "      <td>52.2</td>\n",
       "      <td>1967</td>\n",
       "    </tr>\n",
       "  </tbody>\n",
       "</table>\n",
       "</div>"
      ],
      "text/plain": [
       "      stn   wban  temp  year\n",
       "0  150520  99999  18.0  1967\n",
       "1  150520  99999  52.0  1967\n",
       "2  150520  99999  58.0  1967\n",
       "3  150520  99999   8.5  1967\n",
       "4  151700  99999  16.7  1967\n",
       "5  151700  99999  59.0  1967\n",
       "6  151700  99999  66.7  1967\n",
       "7  170980  99999  33.5  1967\n",
       "8  170980  99999  29.8  1967\n",
       "9  170980  99999  52.2  1967"
      ]
     },
     "execution_count": 84,
     "metadata": {},
     "output_type": "execute_result"
    }
   ],
   "source": [
    "%%bigquery\n",
    "SELECT\n",
    "    stn,wban,temp, year \n",
    "FROM `bigquery-public-data.noaa_gsod.gsod*`\n",
    "LIMIT 10"
   ]
  },
  {
   "attachments": {},
   "cell_type": "markdown",
   "metadata": {},
   "source": [
    "**Filtering with Table wildcard* and__TABLE_SUFFIX__*\n",
    "\n",
    "- What happens if you wanted to filter out for just a subset of the tables?\n",
    "- For instance, You just wanted to find and match together all the temperatires from 1950 of after 1950\n",
    "- Here's another reserved keyword that's spesific to big query.\n"
   ]
  },
  {
   "cell_type": "code",
   "execution_count": 87,
   "metadata": {},
   "outputs": [
    {
     "data": {
      "application/vnd.jupyter.widget-view+json": {
       "model_id": "93ed8c8d86534507a766df194563d3da",
       "version_major": 2,
       "version_minor": 0
      },
      "text/plain": [
       "Query is running:   0%|          |"
      ]
     },
     "metadata": {},
     "output_type": "display_data"
    },
    {
     "data": {
      "application/vnd.jupyter.widget-view+json": {
       "model_id": "0e97311ca03749e9bc34550b7c2d83da",
       "version_major": 2,
       "version_minor": 0
      },
      "text/plain": [
       "Downloading:   0%|          |"
      ]
     },
     "metadata": {},
     "output_type": "display_data"
    },
    {
     "data": {
      "text/html": [
       "<div>\n",
       "<style scoped>\n",
       "    .dataframe tbody tr th:only-of-type {\n",
       "        vertical-align: middle;\n",
       "    }\n",
       "\n",
       "    .dataframe tbody tr th {\n",
       "        vertical-align: top;\n",
       "    }\n",
       "\n",
       "    .dataframe thead th {\n",
       "        text-align: right;\n",
       "    }\n",
       "</style>\n",
       "<table border=\"1\" class=\"dataframe\">\n",
       "  <thead>\n",
       "    <tr style=\"text-align: right;\">\n",
       "      <th></th>\n",
       "      <th>stn</th>\n",
       "      <th>wban</th>\n",
       "      <th>temp</th>\n",
       "      <th>year</th>\n",
       "    </tr>\n",
       "  </thead>\n",
       "  <tbody>\n",
       "    <tr>\n",
       "      <th>0</th>\n",
       "      <td>075550</td>\n",
       "      <td>99999</td>\n",
       "      <td>29.6</td>\n",
       "      <td>2008</td>\n",
       "    </tr>\n",
       "    <tr>\n",
       "      <th>1</th>\n",
       "      <td>164650</td>\n",
       "      <td>99999</td>\n",
       "      <td>52.7</td>\n",
       "      <td>2008</td>\n",
       "    </tr>\n",
       "    <tr>\n",
       "      <th>2</th>\n",
       "      <td>161780</td>\n",
       "      <td>99999</td>\n",
       "      <td>50.7</td>\n",
       "      <td>2008</td>\n",
       "    </tr>\n",
       "    <tr>\n",
       "      <th>3</th>\n",
       "      <td>897620</td>\n",
       "      <td>99999</td>\n",
       "      <td>-24.0</td>\n",
       "      <td>2008</td>\n",
       "    </tr>\n",
       "    <tr>\n",
       "      <th>4</th>\n",
       "      <td>895650</td>\n",
       "      <td>99999</td>\n",
       "      <td>33.3</td>\n",
       "      <td>2008</td>\n",
       "    </tr>\n",
       "    <tr>\n",
       "      <th>5</th>\n",
       "      <td>897620</td>\n",
       "      <td>99999</td>\n",
       "      <td>-19.8</td>\n",
       "      <td>2008</td>\n",
       "    </tr>\n",
       "    <tr>\n",
       "      <th>6</th>\n",
       "      <td>897620</td>\n",
       "      <td>99999</td>\n",
       "      <td>-14.3</td>\n",
       "      <td>2008</td>\n",
       "    </tr>\n",
       "    <tr>\n",
       "      <th>7</th>\n",
       "      <td>075550</td>\n",
       "      <td>99999</td>\n",
       "      <td>53.4</td>\n",
       "      <td>2008</td>\n",
       "    </tr>\n",
       "    <tr>\n",
       "      <th>8</th>\n",
       "      <td>075550</td>\n",
       "      <td>99999</td>\n",
       "      <td>70.9</td>\n",
       "      <td>2008</td>\n",
       "    </tr>\n",
       "    <tr>\n",
       "      <th>9</th>\n",
       "      <td>066090</td>\n",
       "      <td>99999</td>\n",
       "      <td>20.5</td>\n",
       "      <td>2008</td>\n",
       "    </tr>\n",
       "  </tbody>\n",
       "</table>\n",
       "</div>"
      ],
      "text/plain": [
       "      stn   wban  temp  year\n",
       "0  075550  99999  29.6  2008\n",
       "1  164650  99999  52.7  2008\n",
       "2  161780  99999  50.7  2008\n",
       "3  897620  99999 -24.0  2008\n",
       "4  895650  99999  33.3  2008\n",
       "5  897620  99999 -19.8  2008\n",
       "6  897620  99999 -14.3  2008\n",
       "7  075550  99999  53.4  2008\n",
       "8  075550  99999  70.9  2008\n",
       "9  066090  99999  20.5  2008"
      ]
     },
     "execution_count": 87,
     "metadata": {},
     "output_type": "execute_result"
    }
   ],
   "source": [
    "%%bigquery\n",
    "SELECT\n",
    "    stn,wban,temp, year \n",
    "FROM `bigquery-public-data.noaa_gsod.gsod*`\n",
    "--All gsod tables after 1950\n",
    "WHERE _TABLE_SUFFIX > '1950'\n",
    "LIMIT 10"
   ]
  },
  {
   "attachments": {},
   "cell_type": "markdown",
   "metadata": {},
   "source": [
    "- Use table wildcard* versus writing many UNIONs\n",
    "- Use __TABLE_SUFFIX__ to filter out tables wildcard included\n",
    "- Use __TABLE_SUFFIX__ in your SELECT statement with CONCAT()\n",
    "\n",
    "**Avoid UNION pitfalls like brittle schemas**\n",
    "- Duplicate records among tables (Use UNION DISTINCT instead of UNION ALL)\n",
    "- Changing schemas and field names over time\n",
    "- Mismatched count of columns in your UNION"
   ]
  },
  {
   "cell_type": "markdown",
   "metadata": {},
   "source": []
  }
 ],
 "metadata": {
  "kernelspec": {
   "display_name": "pvenv",
   "language": "python",
   "name": "python3"
  },
  "language_info": {
   "codemirror_mode": {
    "name": "ipython",
    "version": 3
   },
   "file_extension": ".py",
   "mimetype": "text/x-python",
   "name": "python",
   "nbconvert_exporter": "python",
   "pygments_lexer": "ipython3",
   "version": "3.10.6"
  },
  "orig_nbformat": 4,
  "vscode": {
   "interpreter": {
    "hash": "9c60b0b34f20a64376230e5acad7e96f309518d19b7ab9290b081fa416842bed"
   }
  }
 },
 "nbformat": 4,
 "nbformat_minor": 2
}
