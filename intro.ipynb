{
 "cells": [
  {
   "cell_type": "code",
   "execution_count": 4,
   "metadata": {},
   "outputs": [],
   "source": [
    "# BigQuery Setup\n",
    "# Importing Libraries and Credentials\n",
    "import pandas as pd\n",
    "import numpy as np\n",
    "import seaborn as sns\n",
    "from google.cloud import bigquery\n",
    "from google.oauth2 import service_account\n",
    "# ignore warnings\n",
    "from warnings import filterwarnings\n",
    "filterwarnings(\"ignore\")\n",
    "\n",
    "\n",
    "%load_ext google.cloud.bigquery\n",
    "\n",
    "credentials = service_account.Credentials.from_service_account_file('/Users/ssamilozkan/Desktop/BigQuery/config.json')\n",
    "\n",
    "project_id = 'dbt-bigquery-setup-369911'\n",
    "client = bigquery.Client(credentials= credentials, project=project_id)\n"
   ]
  },
  {
   "cell_type": "code",
   "execution_count": 6,
   "metadata": {},
   "outputs": [
    {
     "data": {
      "application/vnd.jupyter.widget-view+json": {
       "model_id": "c276de0bc8484628a0f7384c7b618d65",
       "version_major": 2,
       "version_minor": 0
      },
      "text/plain": [
       "Query is running:   0%|          |"
      ]
     },
     "metadata": {},
     "output_type": "display_data"
    },
    {
     "data": {
      "application/vnd.jupyter.widget-view+json": {
       "model_id": "d7940b6d74ba4726b7ea14c9e4a7429e",
       "version_major": 2,
       "version_minor": 0
      },
      "text/plain": [
       "Downloading:   0%|          |"
      ]
     },
     "metadata": {},
     "output_type": "display_data"
    },
    {
     "data": {
      "text/html": [
       "<div>\n",
       "<style scoped>\n",
       "    .dataframe tbody tr th:only-of-type {\n",
       "        vertical-align: middle;\n",
       "    }\n",
       "\n",
       "    .dataframe tbody tr th {\n",
       "        vertical-align: top;\n",
       "    }\n",
       "\n",
       "    .dataframe thead th {\n",
       "        text-align: right;\n",
       "    }\n",
       "</style>\n",
       "<table border=\"1\" class=\"dataframe\">\n",
       "  <thead>\n",
       "    <tr style=\"text-align: right;\">\n",
       "      <th></th>\n",
       "      <th>totrevenue</th>\n",
       "    </tr>\n",
       "  </thead>\n",
       "  <tbody>\n",
       "    <tr>\n",
       "      <th>0</th>\n",
       "      <td>9475129863</td>\n",
       "    </tr>\n",
       "    <tr>\n",
       "      <th>1</th>\n",
       "      <td>9021585970</td>\n",
       "    </tr>\n",
       "    <tr>\n",
       "      <th>2</th>\n",
       "      <td>9890722789</td>\n",
       "    </tr>\n",
       "    <tr>\n",
       "      <th>3</th>\n",
       "      <td>1094833976</td>\n",
       "    </tr>\n",
       "    <tr>\n",
       "      <th>4</th>\n",
       "      <td>2186337569</td>\n",
       "    </tr>\n",
       "    <tr>\n",
       "      <th>5</th>\n",
       "      <td>2086259022</td>\n",
       "    </tr>\n",
       "    <tr>\n",
       "      <th>6</th>\n",
       "      <td>1745011054</td>\n",
       "    </tr>\n",
       "    <tr>\n",
       "      <th>7</th>\n",
       "      <td>1711501686</td>\n",
       "    </tr>\n",
       "    <tr>\n",
       "      <th>8</th>\n",
       "      <td>507813618</td>\n",
       "    </tr>\n",
       "    <tr>\n",
       "      <th>9</th>\n",
       "      <td>1229151613</td>\n",
       "    </tr>\n",
       "  </tbody>\n",
       "</table>\n",
       "</div>"
      ],
      "text/plain": [
       "   totrevenue\n",
       "0  9475129863\n",
       "1  9021585970\n",
       "2  9890722789\n",
       "3  1094833976\n",
       "4  2186337569\n",
       "5  2086259022\n",
       "6  1745011054\n",
       "7  1711501686\n",
       "8   507813618\n",
       "9  1229151613"
      ]
     },
     "execution_count": 6,
     "metadata": {},
     "output_type": "execute_result"
    }
   ],
   "source": [
    "%%bigquery\n",
    "SELECT  totrevenue\n",
    "FROM `bigquery-public-data.irs_990.irs_990_2015`\n",
    "LIMIT 10"
   ]
  },
  {
   "attachments": {},
   "cell_type": "markdown",
   "metadata": {},
   "source": [
    "`FORMAT(\"%'d\", totrevenue)`\n",
    "\n",
    "Function = Performs an Action\n",
    "\n",
    "Parameters = Inputs you provide\n",
    "\n",
    "`SELECT FORMAT (\"%'d\", 1000)`\n",
    "-> returns '1,000'\n",
    "\n",
    "**Beware of stylistic formatting in SQL:**\n",
    "\n",
    "    - Yout output is now treated like a string. This makes math operations on this calculated field more difficult.\n",
    "    \n",
    "    - It's best to save stylistic elements for your visualization tool."
   ]
  },
  {
   "cell_type": "code",
   "execution_count": 19,
   "metadata": {},
   "outputs": [
    {
     "data": {
      "application/vnd.jupyter.widget-view+json": {
       "model_id": "d587ae7a316a4be787ce142aaf2aedfc",
       "version_major": 2,
       "version_minor": 0
      },
      "text/plain": [
       "Query is running:   0%|          |"
      ]
     },
     "metadata": {},
     "output_type": "display_data"
    },
    {
     "data": {
      "application/vnd.jupyter.widget-view+json": {
       "model_id": "815499c3b7dc474d8a6c6e95984990d9",
       "version_major": 2,
       "version_minor": 0
      },
      "text/plain": [
       "Downloading:   0%|          |"
      ]
     },
     "metadata": {},
     "output_type": "display_data"
    },
    {
     "data": {
      "text/html": [
       "<div>\n",
       "<style scoped>\n",
       "    .dataframe tbody tr th:only-of-type {\n",
       "        vertical-align: middle;\n",
       "    }\n",
       "\n",
       "    .dataframe tbody tr th {\n",
       "        vertical-align: top;\n",
       "    }\n",
       "\n",
       "    .dataframe thead th {\n",
       "        text-align: right;\n",
       "    }\n",
       "</style>\n",
       "<table border=\"1\" class=\"dataframe\">\n",
       "  <thead>\n",
       "    <tr style=\"text-align: right;\">\n",
       "      <th></th>\n",
       "      <th>revenue</th>\n",
       "    </tr>\n",
       "  </thead>\n",
       "  <tbody>\n",
       "    <tr>\n",
       "      <th>0</th>\n",
       "      <td>45,409,123,226</td>\n",
       "    </tr>\n",
       "    <tr>\n",
       "      <th>1</th>\n",
       "      <td>20,796,549,014</td>\n",
       "    </tr>\n",
       "    <tr>\n",
       "      <th>2</th>\n",
       "      <td>11,091,388,129</td>\n",
       "    </tr>\n",
       "    <tr>\n",
       "      <th>3</th>\n",
       "      <td>10,098,163,008</td>\n",
       "    </tr>\n",
       "    <tr>\n",
       "      <th>4</th>\n",
       "      <td>9,890,722,789</td>\n",
       "    </tr>\n",
       "    <tr>\n",
       "      <th>5</th>\n",
       "      <td>9,475,129,863</td>\n",
       "    </tr>\n",
       "    <tr>\n",
       "      <th>6</th>\n",
       "      <td>9,021,585,970</td>\n",
       "    </tr>\n",
       "    <tr>\n",
       "      <th>7</th>\n",
       "      <td>8,655,129,029</td>\n",
       "    </tr>\n",
       "    <tr>\n",
       "      <th>8</th>\n",
       "      <td>7,523,260,077</td>\n",
       "    </tr>\n",
       "    <tr>\n",
       "      <th>9</th>\n",
       "      <td>6,740,015,230</td>\n",
       "    </tr>\n",
       "  </tbody>\n",
       "</table>\n",
       "</div>"
      ],
      "text/plain": [
       "          revenue\n",
       "0  45,409,123,226\n",
       "1  20,796,549,014\n",
       "2  11,091,388,129\n",
       "3  10,098,163,008\n",
       "4   9,890,722,789\n",
       "5   9,475,129,863\n",
       "6   9,021,585,970\n",
       "7   8,655,129,029\n",
       "8   7,523,260,077\n",
       "9   6,740,015,230"
      ]
     },
     "execution_count": 19,
     "metadata": {},
     "output_type": "execute_result"
    }
   ],
   "source": [
    "%%bigquery\n",
    "SELECT \n",
    "    FORMAT(\"%'d\", totrevenue) AS revenue\n",
    "FROM `bigquery-public-data.irs_990.irs_990_2015`\n",
    "ORDER BY totrevenue DESC\n",
    "LIMIT  10\n",
    "# It's much easier to read the numbers with commas\n",
    "# But there may be couple of caveats that come with that"
   ]
  },
  {
   "cell_type": "markdown",
   "metadata": {},
   "source": [
    "**Aliases do not exist yet when filtering in WHERE**"
   ]
  },
  {
   "cell_type": "code",
   "execution_count": 41,
   "metadata": {},
   "outputs": [
    {
     "name": "stdout",
     "output_type": "stream",
     "text": [
      "Executing query with job ID: 31d0f574-fde3-420e-9c03-086a9336b882\n",
      "Query executing: 0.68s"
     ]
    },
    {
     "name": "stderr",
     "output_type": "stream",
     "text": [
      "\n",
      "ERROR:\n",
      " 400 Unrecognized name: income at [5:7]\n",
      "\n",
      "Location: US\n",
      "Job ID: 31d0f574-fde3-420e-9c03-086a9336b882\n",
      "\n"
     ]
    }
   ],
   "source": [
    "%%bigquery\n",
    "SELECT \n",
    "    (totrevenue - totfuncexpns) AS income\n",
    "FROM \n",
    "    `bigquery-public-data.irs_990.irs_990_2015`\n",
    "WHERE income > 0 # Does not exist, will error in WHERE clause\n",
    "ORDER BY income DESC\n",
    "LIMIT 10"
   ]
  },
  {
   "cell_type": "markdown",
   "metadata": {},
   "source": [
    "**Add new fields in SELECT clause to return more data**"
   ]
  },
  {
   "cell_type": "code",
   "execution_count": 44,
   "metadata": {},
   "outputs": [
    {
     "data": {
      "application/vnd.jupyter.widget-view+json": {
       "model_id": "c4369d455ff446b8b35c7e8519e0718f",
       "version_major": 2,
       "version_minor": 0
      },
      "text/plain": [
       "Query is running:   0%|          |"
      ]
     },
     "metadata": {},
     "output_type": "display_data"
    },
    {
     "data": {
      "application/vnd.jupyter.widget-view+json": {
       "model_id": "9a91a7c5eaeb4e3db5fe9d14cf2cf72d",
       "version_major": 2,
       "version_minor": 0
      },
      "text/plain": [
       "Downloading:   0%|          |"
      ]
     },
     "metadata": {},
     "output_type": "display_data"
    },
    {
     "data": {
      "text/html": [
       "<div>\n",
       "<style scoped>\n",
       "    .dataframe tbody tr th:only-of-type {\n",
       "        vertical-align: middle;\n",
       "    }\n",
       "\n",
       "    .dataframe tbody tr th {\n",
       "        vertical-align: top;\n",
       "    }\n",
       "\n",
       "    .dataframe thead th {\n",
       "        text-align: right;\n",
       "    }\n",
       "</style>\n",
       "<table border=\"1\" class=\"dataframe\">\n",
       "  <thead>\n",
       "    <tr style=\"text-align: right;\">\n",
       "      <th></th>\n",
       "      <th>revenue</th>\n",
       "      <th>ein</th>\n",
       "      <th>is_school</th>\n",
       "    </tr>\n",
       "  </thead>\n",
       "  <tbody>\n",
       "    <tr>\n",
       "      <th>0</th>\n",
       "      <td>45409123226</td>\n",
       "      <td>941340523</td>\n",
       "      <td>N</td>\n",
       "    </tr>\n",
       "    <tr>\n",
       "      <th>1</th>\n",
       "      <td>20796549014</td>\n",
       "      <td>941105628</td>\n",
       "      <td>N</td>\n",
       "    </tr>\n",
       "    <tr>\n",
       "      <th>2</th>\n",
       "      <td>11091388129</td>\n",
       "      <td>900656139</td>\n",
       "      <td>N</td>\n",
       "    </tr>\n",
       "    <tr>\n",
       "      <th>3</th>\n",
       "      <td>10098163008</td>\n",
       "      <td>208295721</td>\n",
       "      <td>N</td>\n",
       "    </tr>\n",
       "    <tr>\n",
       "      <th>4</th>\n",
       "      <td>9890722789</td>\n",
       "      <td>900424876</td>\n",
       "      <td>N</td>\n",
       "    </tr>\n",
       "    <tr>\n",
       "      <th>5</th>\n",
       "      <td>9475129863</td>\n",
       "      <td>390123480</td>\n",
       "      <td>N</td>\n",
       "    </tr>\n",
       "    <tr>\n",
       "      <th>6</th>\n",
       "      <td>9021585970</td>\n",
       "      <td>390123480</td>\n",
       "      <td>N</td>\n",
       "    </tr>\n",
       "    <tr>\n",
       "      <th>7</th>\n",
       "      <td>8655129029</td>\n",
       "      <td>941196203</td>\n",
       "      <td>N</td>\n",
       "    </tr>\n",
       "    <tr>\n",
       "      <th>8</th>\n",
       "      <td>7523260077</td>\n",
       "      <td>912153073</td>\n",
       "      <td>N</td>\n",
       "    </tr>\n",
       "    <tr>\n",
       "      <th>9</th>\n",
       "      <td>6740015230</td>\n",
       "      <td>42103580</td>\n",
       "      <td>Y</td>\n",
       "    </tr>\n",
       "  </tbody>\n",
       "</table>\n",
       "</div>"
      ],
      "text/plain": [
       "       revenue        ein is_school\n",
       "0  45409123226  941340523         N\n",
       "1  20796549014  941105628         N\n",
       "2  11091388129  900656139         N\n",
       "3  10098163008  208295721         N\n",
       "4   9890722789  900424876         N\n",
       "5   9475129863  390123480         N\n",
       "6   9021585970  390123480         N\n",
       "7   8655129029  941196203         N\n",
       "8   7523260077  912153073         N\n",
       "9   6740015230   42103580         Y"
      ]
     },
     "execution_count": 44,
     "metadata": {},
     "output_type": "execute_result"
    }
   ],
   "source": [
    "# EIN(employer identification number) is a unique identifier for that charity\n",
    "# is_school is a flag field indicating whether that charity is a school\n",
    "%%bigquery\n",
    "SELECT \n",
    "    totrevenue AS revenue,\n",
    "    ein,\n",
    "    operateschools170cd AS is_school\n",
    "FROM \n",
    "    `bigquery-public-data.irs_990.irs_990_2015`\n",
    "ORDER BY revenue DESC\n",
    "LIMIT 10"
   ]
  },
  {
   "cell_type": "markdown",
   "metadata": {},
   "source": [
    "### Filters, aggregates, and duplicates\n"
   ]
  },
  {
   "cell_type": "code",
   "execution_count": 49,
   "metadata": {},
   "outputs": [
    {
     "data": {
      "application/vnd.jupyter.widget-view+json": {
       "model_id": "7057494ea2b3483fbbb88e85f00856c3",
       "version_major": 2,
       "version_minor": 0
      },
      "text/plain": [
       "Query is running:   0%|          |"
      ]
     },
     "metadata": {},
     "output_type": "display_data"
    },
    {
     "data": {
      "application/vnd.jupyter.widget-view+json": {
       "model_id": "f465f4a722394395b7d71cb6d5059d45",
       "version_major": 2,
       "version_minor": 0
      },
      "text/plain": [
       "Downloading:   0%|          |"
      ]
     },
     "metadata": {},
     "output_type": "display_data"
    },
    {
     "data": {
      "text/html": [
       "<div>\n",
       "<style scoped>\n",
       "    .dataframe tbody tr th:only-of-type {\n",
       "        vertical-align: middle;\n",
       "    }\n",
       "\n",
       "    .dataframe tbody tr th {\n",
       "        vertical-align: top;\n",
       "    }\n",
       "\n",
       "    .dataframe thead th {\n",
       "        text-align: right;\n",
       "    }\n",
       "</style>\n",
       "<table border=\"1\" class=\"dataframe\">\n",
       "  <thead>\n",
       "    <tr style=\"text-align: right;\">\n",
       "      <th></th>\n",
       "      <th>revenue</th>\n",
       "      <th>ein</th>\n",
       "      <th>is_school</th>\n",
       "    </tr>\n",
       "  </thead>\n",
       "  <tbody>\n",
       "    <tr>\n",
       "      <th>0</th>\n",
       "      <td>6740015230</td>\n",
       "      <td>42103580</td>\n",
       "      <td>Y</td>\n",
       "    </tr>\n",
       "    <tr>\n",
       "      <th>1</th>\n",
       "      <td>6000839000</td>\n",
       "      <td>231352685</td>\n",
       "      <td>Y</td>\n",
       "    </tr>\n",
       "    <tr>\n",
       "      <th>2</th>\n",
       "      <td>5717023246</td>\n",
       "      <td>941156365</td>\n",
       "      <td>Y</td>\n",
       "    </tr>\n",
       "    <tr>\n",
       "      <th>3</th>\n",
       "      <td>5569004000</td>\n",
       "      <td>520595110</td>\n",
       "      <td>Y</td>\n",
       "    </tr>\n",
       "    <tr>\n",
       "      <th>4</th>\n",
       "      <td>5133788413</td>\n",
       "      <td>135562308</td>\n",
       "      <td>Y</td>\n",
       "    </tr>\n",
       "    <tr>\n",
       "      <th>5</th>\n",
       "      <td>4623485966</td>\n",
       "      <td>951642394</td>\n",
       "      <td>Y</td>\n",
       "    </tr>\n",
       "    <tr>\n",
       "      <th>6</th>\n",
       "      <td>4560196033</td>\n",
       "      <td>416011702</td>\n",
       "      <td>Y</td>\n",
       "    </tr>\n",
       "    <tr>\n",
       "      <th>7</th>\n",
       "      <td>4477633568</td>\n",
       "      <td>60646973</td>\n",
       "      <td>Y</td>\n",
       "    </tr>\n",
       "    <tr>\n",
       "      <th>8</th>\n",
       "      <td>4471027733</td>\n",
       "      <td>135598093</td>\n",
       "      <td>Y</td>\n",
       "    </tr>\n",
       "    <tr>\n",
       "      <th>9</th>\n",
       "      <td>4368738915</td>\n",
       "      <td>150532082</td>\n",
       "      <td>Y</td>\n",
       "    </tr>\n",
       "  </tbody>\n",
       "</table>\n",
       "</div>"
      ],
      "text/plain": [
       "      revenue        ein is_school\n",
       "0  6740015230   42103580         Y\n",
       "1  6000839000  231352685         Y\n",
       "2  5717023246  941156365         Y\n",
       "3  5569004000  520595110         Y\n",
       "4  5133788413  135562308         Y\n",
       "5  4623485966  951642394         Y\n",
       "6  4560196033  416011702         Y\n",
       "7  4477633568   60646973         Y\n",
       "8  4471027733  135598093         Y\n",
       "9  4368738915  150532082         Y"
      ]
     },
     "execution_count": 49,
     "metadata": {},
     "output_type": "execute_result"
    }
   ],
   "source": [
    "%%bigquery\n",
    "SELECT \n",
    "    totrevenue AS revenue,\n",
    "    ein,\n",
    "    operateschools170cd AS is_school\n",
    "FROM \n",
    "    `bigquery-public-data.irs_990.irs_990_2015`\n",
    "WHERE \n",
    "    operateschools170cd = 'Y'\n",
    "ORDER BY revenue DESC\n",
    "LIMIT 10\n",
    "# Why didn't we write this as is_school = 'Y'?"
   ]
  },
  {
   "attachments": {},
   "cell_type": "markdown",
   "metadata": {},
   "source": [
    "**Perform calculations over values with aggregation**"
   ]
  },
  {
   "cell_type": "code",
   "execution_count": 50,
   "metadata": {},
   "outputs": [
    {
     "data": {
      "application/vnd.jupyter.widget-view+json": {
       "model_id": "f584a3a01c7746a4b3664b309bdbc9b0",
       "version_major": 2,
       "version_minor": 0
      },
      "text/plain": [
       "Query is running:   0%|          |"
      ]
     },
     "metadata": {},
     "output_type": "display_data"
    },
    {
     "data": {
      "application/vnd.jupyter.widget-view+json": {
       "model_id": "fd716a3fed634723b7d9f604504818c5",
       "version_major": 2,
       "version_minor": 0
      },
      "text/plain": [
       "Downloading:   0%|          |"
      ]
     },
     "metadata": {},
     "output_type": "display_data"
    },
    {
     "data": {
      "text/html": [
       "<div>\n",
       "<style scoped>\n",
       "    .dataframe tbody tr th:only-of-type {\n",
       "        vertical-align: middle;\n",
       "    }\n",
       "\n",
       "    .dataframe tbody tr th {\n",
       "        vertical-align: top;\n",
       "    }\n",
       "\n",
       "    .dataframe thead th {\n",
       "        text-align: right;\n",
       "    }\n",
       "</style>\n",
       "<table border=\"1\" class=\"dataframe\">\n",
       "  <thead>\n",
       "    <tr style=\"text-align: right;\">\n",
       "      <th></th>\n",
       "      <th>total_2015_revenue</th>\n",
       "      <th>avg_revenue</th>\n",
       "      <th>nonprofits</th>\n",
       "      <th>nonprofits_distinct</th>\n",
       "      <th>num_employees</th>\n",
       "    </tr>\n",
       "  </thead>\n",
       "  <tbody>\n",
       "    <tr>\n",
       "      <th>0</th>\n",
       "      <td>2344355088288</td>\n",
       "      <td>7.952843e+06</td>\n",
       "      <td>294782</td>\n",
       "      <td>275077</td>\n",
       "      <td>787050</td>\n",
       "    </tr>\n",
       "  </tbody>\n",
       "</table>\n",
       "</div>"
      ],
      "text/plain": [
       "   total_2015_revenue   avg_revenue  nonprofits  nonprofits_distinct  \\\n",
       "0       2344355088288  7.952843e+06      294782               275077   \n",
       "\n",
       "   num_employees  \n",
       "0         787050  "
      ]
     },
     "execution_count": 50,
     "metadata": {},
     "output_type": "execute_result"
    }
   ],
   "source": [
    "%%bigquery\n",
    "SELECT \n",
    "    SUM(totrevenue) AS total_2015_revenue,\n",
    "    AVG(totrevenue) AS avg_revenue,\n",
    "    COUNT(ein) AS nonprofits,\n",
    "    COUNT(DISTINCT ein) AS nonprofits_distinct,\n",
    "    MAX(noemplyeesw3cnt) AS num_employees\n",
    "FROM \n",
    "    `bigquery-public-data.irs_990.irs_990_2015`"
   ]
  },
  {
   "cell_type": "markdown",
   "metadata": {},
   "source": [
    "**Embed functions inside of other functions**"
   ]
  },
  {
   "cell_type": "code",
   "execution_count": 52,
   "metadata": {},
   "outputs": [
    {
     "data": {
      "application/vnd.jupyter.widget-view+json": {
       "model_id": "1bccad3d5adc4de8bd0cfc7d3b52c2d2",
       "version_major": 2,
       "version_minor": 0
      },
      "text/plain": [
       "Query is running:   0%|          |"
      ]
     },
     "metadata": {},
     "output_type": "display_data"
    },
    {
     "data": {
      "application/vnd.jupyter.widget-view+json": {
       "model_id": "d9624fb6f74f4349960c020f7b1666ee",
       "version_major": 2,
       "version_minor": 0
      },
      "text/plain": [
       "Downloading:   0%|          |"
      ]
     },
     "metadata": {},
     "output_type": "display_data"
    },
    {
     "data": {
      "text/html": [
       "<div>\n",
       "<style scoped>\n",
       "    .dataframe tbody tr th:only-of-type {\n",
       "        vertical-align: middle;\n",
       "    }\n",
       "\n",
       "    .dataframe tbody tr th {\n",
       "        vertical-align: top;\n",
       "    }\n",
       "\n",
       "    .dataframe thead th {\n",
       "        text-align: right;\n",
       "    }\n",
       "</style>\n",
       "<table border=\"1\" class=\"dataframe\">\n",
       "  <thead>\n",
       "    <tr style=\"text-align: right;\">\n",
       "      <th></th>\n",
       "      <th>total_2015_revenue</th>\n",
       "      <th>avg_revenue</th>\n",
       "      <th>nonprofits</th>\n",
       "      <th>nonprofits_distinct</th>\n",
       "      <th>num_employees</th>\n",
       "    </tr>\n",
       "  </thead>\n",
       "  <tbody>\n",
       "    <tr>\n",
       "      <th>0</th>\n",
       "      <td>2344355088288</td>\n",
       "      <td>7952843.42</td>\n",
       "      <td>294782</td>\n",
       "      <td>275077</td>\n",
       "      <td>787050</td>\n",
       "    </tr>\n",
       "  </tbody>\n",
       "</table>\n",
       "</div>"
      ],
      "text/plain": [
       "   total_2015_revenue  avg_revenue  nonprofits  nonprofits_distinct  \\\n",
       "0       2344355088288   7952843.42      294782               275077   \n",
       "\n",
       "   num_employees  \n",
       "0         787050  "
      ]
     },
     "execution_count": 52,
     "metadata": {},
     "output_type": "execute_result"
    }
   ],
   "source": [
    "%%bigquery\n",
    "SELECT \n",
    "    SUM(totrevenue) AS total_2015_revenue,\n",
    "    ROUND(AVG(totrevenue),2) AS avg_revenue, ## we can round the average revenue\n",
    "    COUNT(ein) AS nonprofits,\n",
    "    COUNT(DISTINCT ein) AS nonprofits_distinct,\n",
    "    MAX(noemplyeesw3cnt) AS num_employees\n",
    "FROM \n",
    "    `bigquery-public-data.irs_990.irs_990_2015`"
   ]
  },
  {
   "cell_type": "code",
   "execution_count": 56,
   "metadata": {},
   "outputs": [
    {
     "data": {
      "application/vnd.jupyter.widget-view+json": {
       "model_id": "ac3b77dfff484cf4b815a3baa7859d64",
       "version_major": 2,
       "version_minor": 0
      },
      "text/plain": [
       "Query is running:   0%|          |"
      ]
     },
     "metadata": {},
     "output_type": "display_data"
    },
    {
     "data": {
      "application/vnd.jupyter.widget-view+json": {
       "model_id": "d4de6a0f627a48fabf0daba27696e1eb",
       "version_major": 2,
       "version_minor": 0
      },
      "text/plain": [
       "Downloading:   0%|          |"
      ]
     },
     "metadata": {},
     "output_type": "display_data"
    },
    {
     "data": {
      "text/html": [
       "<div>\n",
       "<style scoped>\n",
       "    .dataframe tbody tr th:only-of-type {\n",
       "        vertical-align: middle;\n",
       "    }\n",
       "\n",
       "    .dataframe tbody tr th {\n",
       "        vertical-align: top;\n",
       "    }\n",
       "\n",
       "    .dataframe thead th {\n",
       "        text-align: right;\n",
       "    }\n",
       "</style>\n",
       "<table border=\"1\" class=\"dataframe\">\n",
       "  <thead>\n",
       "    <tr style=\"text-align: right;\">\n",
       "      <th></th>\n",
       "      <th>ein</th>\n",
       "      <th>ein_count</th>\n",
       "    </tr>\n",
       "  </thead>\n",
       "  <tbody>\n",
       "    <tr>\n",
       "      <th>0</th>\n",
       "      <td>431859076</td>\n",
       "      <td>7</td>\n",
       "    </tr>\n",
       "    <tr>\n",
       "      <th>1</th>\n",
       "      <td>362235151</td>\n",
       "      <td>7</td>\n",
       "    </tr>\n",
       "    <tr>\n",
       "      <th>2</th>\n",
       "      <td>208367574</td>\n",
       "      <td>7</td>\n",
       "    </tr>\n",
       "    <tr>\n",
       "      <th>3</th>\n",
       "      <td>830345294</td>\n",
       "      <td>7</td>\n",
       "    </tr>\n",
       "    <tr>\n",
       "      <th>4</th>\n",
       "      <td>841604402</td>\n",
       "      <td>7</td>\n",
       "    </tr>\n",
       "    <tr>\n",
       "      <th>...</th>\n",
       "      <td>...</td>\n",
       "      <td>...</td>\n",
       "    </tr>\n",
       "    <tr>\n",
       "      <th>275072</th>\n",
       "      <td>222629185</td>\n",
       "      <td>1</td>\n",
       "    </tr>\n",
       "    <tr>\n",
       "      <th>275073</th>\n",
       "      <td>880275767</td>\n",
       "      <td>1</td>\n",
       "    </tr>\n",
       "    <tr>\n",
       "      <th>275074</th>\n",
       "      <td>150539118</td>\n",
       "      <td>1</td>\n",
       "    </tr>\n",
       "    <tr>\n",
       "      <th>275075</th>\n",
       "      <td>770057903</td>\n",
       "      <td>1</td>\n",
       "    </tr>\n",
       "    <tr>\n",
       "      <th>275076</th>\n",
       "      <td>310526228</td>\n",
       "      <td>1</td>\n",
       "    </tr>\n",
       "  </tbody>\n",
       "</table>\n",
       "<p>275077 rows × 2 columns</p>\n",
       "</div>"
      ],
      "text/plain": [
       "              ein  ein_count\n",
       "0       431859076          7\n",
       "1       362235151          7\n",
       "2       208367574          7\n",
       "3       830345294          7\n",
       "4       841604402          7\n",
       "...           ...        ...\n",
       "275072  222629185          1\n",
       "275073  880275767          1\n",
       "275074  150539118          1\n",
       "275075  770057903          1\n",
       "275076  310526228          1\n",
       "\n",
       "[275077 rows x 2 columns]"
      ]
     },
     "execution_count": 56,
     "metadata": {},
     "output_type": "execute_result"
    }
   ],
   "source": [
    "%%bigquery\n",
    "SELECT\n",
    "    ein, # not aggregated\n",
    "    COUNT(ein) AS ein_count # aggregated\n",
    "FROM `bigquery-public-data.irs_990.irs_990_2015`\n",
    "GROUP BY ein\n",
    "ORDER BY ein_count DESC\n",
    "# There are many charities that have more than one record for tax filing year 2015. This is highly unusual.\n",
    "# Next let's count how often this happens in total."
   ]
  },
  {
   "attachments": {},
   "cell_type": "markdown",
   "metadata": {},
   "source": [
    "**Filter aggregation with HAVING clause**\n",
    "\n",
    "- HAVING is very very useful when we're filtering aggregations."
   ]
  },
  {
   "cell_type": "code",
   "execution_count": 58,
   "metadata": {},
   "outputs": [
    {
     "data": {
      "application/vnd.jupyter.widget-view+json": {
       "model_id": "5b9d627310ca42d8bc30350a2782af67",
       "version_major": 2,
       "version_minor": 0
      },
      "text/plain": [
       "Query is running:   0%|          |"
      ]
     },
     "metadata": {},
     "output_type": "display_data"
    },
    {
     "data": {
      "application/vnd.jupyter.widget-view+json": {
       "model_id": "b9c35954d0044f3c9d11f9c57c4bc999",
       "version_major": 2,
       "version_minor": 0
      },
      "text/plain": [
       "Downloading:   0%|          |"
      ]
     },
     "metadata": {},
     "output_type": "display_data"
    },
    {
     "data": {
      "text/html": [
       "<div>\n",
       "<style scoped>\n",
       "    .dataframe tbody tr th:only-of-type {\n",
       "        vertical-align: middle;\n",
       "    }\n",
       "\n",
       "    .dataframe tbody tr th {\n",
       "        vertical-align: top;\n",
       "    }\n",
       "\n",
       "    .dataframe thead th {\n",
       "        text-align: right;\n",
       "    }\n",
       "</style>\n",
       "<table border=\"1\" class=\"dataframe\">\n",
       "  <thead>\n",
       "    <tr style=\"text-align: right;\">\n",
       "      <th></th>\n",
       "      <th>ein</th>\n",
       "      <th>ein_count</th>\n",
       "    </tr>\n",
       "  </thead>\n",
       "  <tbody>\n",
       "    <tr>\n",
       "      <th>0</th>\n",
       "      <td>431859076</td>\n",
       "      <td>7</td>\n",
       "    </tr>\n",
       "    <tr>\n",
       "      <th>1</th>\n",
       "      <td>362235151</td>\n",
       "      <td>7</td>\n",
       "    </tr>\n",
       "    <tr>\n",
       "      <th>2</th>\n",
       "      <td>208367574</td>\n",
       "      <td>7</td>\n",
       "    </tr>\n",
       "    <tr>\n",
       "      <th>3</th>\n",
       "      <td>830345294</td>\n",
       "      <td>7</td>\n",
       "    </tr>\n",
       "    <tr>\n",
       "      <th>4</th>\n",
       "      <td>841604402</td>\n",
       "      <td>7</td>\n",
       "    </tr>\n",
       "    <tr>\n",
       "      <th>...</th>\n",
       "      <td>...</td>\n",
       "      <td>...</td>\n",
       "    </tr>\n",
       "    <tr>\n",
       "      <th>17989</th>\n",
       "      <td>860593601</td>\n",
       "      <td>2</td>\n",
       "    </tr>\n",
       "    <tr>\n",
       "      <th>17990</th>\n",
       "      <td>203502737</td>\n",
       "      <td>2</td>\n",
       "    </tr>\n",
       "    <tr>\n",
       "      <th>17991</th>\n",
       "      <td>942324340</td>\n",
       "      <td>2</td>\n",
       "    </tr>\n",
       "    <tr>\n",
       "      <th>17992</th>\n",
       "      <td>942662962</td>\n",
       "      <td>2</td>\n",
       "    </tr>\n",
       "    <tr>\n",
       "      <th>17993</th>\n",
       "      <td>570331635</td>\n",
       "      <td>2</td>\n",
       "    </tr>\n",
       "  </tbody>\n",
       "</table>\n",
       "<p>17994 rows × 2 columns</p>\n",
       "</div>"
      ],
      "text/plain": [
       "             ein  ein_count\n",
       "0      431859076          7\n",
       "1      362235151          7\n",
       "2      208367574          7\n",
       "3      830345294          7\n",
       "4      841604402          7\n",
       "...          ...        ...\n",
       "17989  860593601          2\n",
       "17990  203502737          2\n",
       "17991  942324340          2\n",
       "17992  942662962          2\n",
       "17993  570331635          2\n",
       "\n",
       "[17994 rows x 2 columns]"
      ]
     },
     "execution_count": 58,
     "metadata": {},
     "output_type": "execute_result"
    }
   ],
   "source": [
    "%%bigquery\n",
    "SELECT\n",
    "    ein, # not aggregated\n",
    "    COUNT(ein) AS ein_count # aggregated\n",
    "FROM `bigquery-public-data.irs_990.irs_990_2015`\n",
    "GROUP BY ein\n",
    "HAVING ein_count > 1\n",
    "ORDER BY ein_count DESC\n"
   ]
  },
  {
   "cell_type": "code",
   "execution_count": 62,
   "metadata": {},
   "outputs": [
    {
     "name": "stdout",
     "output_type": "stream",
     "text": [
      "6.541441123758076\n"
     ]
    }
   ],
   "source": [
    "print(17994/275077*100)"
   ]
  },
  {
   "attachments": {},
   "cell_type": "markdown",
   "metadata": {},
   "source": [
    "**Explore further by filtering on one nonprofit**\n",
    "\n",
    "- We have seven paper filings for one ein for 2015 which is the tax period of 2014 since you file your taxes a year after the actual tax period.\n",
    "- So in the 2015 calendar year, we have this ein 2008 to 2014 filinf as well.\n",
    "- It can be based human error or dirty data or organization is submitting more than one tax period filing."
   ]
  },
  {
   "cell_type": "code",
   "execution_count": 64,
   "metadata": {},
   "outputs": [
    {
     "data": {
      "application/vnd.jupyter.widget-view+json": {
       "model_id": "66eae31f928f4bbea80cf29c291eb264",
       "version_major": 2,
       "version_minor": 0
      },
      "text/plain": [
       "Query is running:   0%|          |"
      ]
     },
     "metadata": {},
     "output_type": "display_data"
    },
    {
     "data": {
      "application/vnd.jupyter.widget-view+json": {
       "model_id": "67b569b6ee94448bb7defd71823918da",
       "version_major": 2,
       "version_minor": 0
      },
      "text/plain": [
       "Downloading:   0%|          |"
      ]
     },
     "metadata": {},
     "output_type": "display_data"
    },
    {
     "data": {
      "text/html": [
       "<div>\n",
       "<style scoped>\n",
       "    .dataframe tbody tr th:only-of-type {\n",
       "        vertical-align: middle;\n",
       "    }\n",
       "\n",
       "    .dataframe tbody tr th {\n",
       "        vertical-align: top;\n",
       "    }\n",
       "\n",
       "    .dataframe thead th {\n",
       "        text-align: right;\n",
       "    }\n",
       "</style>\n",
       "<table border=\"1\" class=\"dataframe\">\n",
       "  <thead>\n",
       "    <tr style=\"text-align: right;\">\n",
       "      <th></th>\n",
       "      <th>ein</th>\n",
       "      <th>elf</th>\n",
       "      <th>tax_pd</th>\n",
       "      <th>subseccd</th>\n",
       "      <th>s501c3or4947a1cd</th>\n",
       "      <th>schdbind</th>\n",
       "      <th>politicalactvtscd</th>\n",
       "      <th>lbbyingactvtscd</th>\n",
       "      <th>subjto6033cd</th>\n",
       "      <th>dnradvisedfundscd</th>\n",
       "      <th>...</th>\n",
       "      <th>exceeds1pct509</th>\n",
       "      <th>subtotpub509</th>\n",
       "      <th>pubsupplesub509</th>\n",
       "      <th>samepubsuppsubtot509</th>\n",
       "      <th>grsinc509</th>\n",
       "      <th>unreltxincls511tx509</th>\n",
       "      <th>subtotsuppinc509</th>\n",
       "      <th>netincunrelatd509</th>\n",
       "      <th>othrinc509</th>\n",
       "      <th>totsupp509</th>\n",
       "    </tr>\n",
       "  </thead>\n",
       "  <tbody>\n",
       "    <tr>\n",
       "      <th>0</th>\n",
       "      <td>262152334</td>\n",
       "      <td>P</td>\n",
       "      <td>201012</td>\n",
       "      <td>3</td>\n",
       "      <td>N</td>\n",
       "      <td>N</td>\n",
       "      <td>N</td>\n",
       "      <td>N</td>\n",
       "      <td>N</td>\n",
       "      <td>N</td>\n",
       "      <td>...</td>\n",
       "      <td>0</td>\n",
       "      <td>0</td>\n",
       "      <td>0</td>\n",
       "      <td>0</td>\n",
       "      <td>0</td>\n",
       "      <td>0</td>\n",
       "      <td>0</td>\n",
       "      <td>0</td>\n",
       "      <td>0</td>\n",
       "      <td>0</td>\n",
       "    </tr>\n",
       "    <tr>\n",
       "      <th>1</th>\n",
       "      <td>262152334</td>\n",
       "      <td>P</td>\n",
       "      <td>200812</td>\n",
       "      <td>3</td>\n",
       "      <td>N</td>\n",
       "      <td>N</td>\n",
       "      <td>N</td>\n",
       "      <td>N</td>\n",
       "      <td>N</td>\n",
       "      <td>N</td>\n",
       "      <td>...</td>\n",
       "      <td>0</td>\n",
       "      <td>0</td>\n",
       "      <td>0</td>\n",
       "      <td>0</td>\n",
       "      <td>0</td>\n",
       "      <td>0</td>\n",
       "      <td>0</td>\n",
       "      <td>0</td>\n",
       "      <td>0</td>\n",
       "      <td>0</td>\n",
       "    </tr>\n",
       "    <tr>\n",
       "      <th>2</th>\n",
       "      <td>262152334</td>\n",
       "      <td>P</td>\n",
       "      <td>201412</td>\n",
       "      <td>3</td>\n",
       "      <td>N</td>\n",
       "      <td>N</td>\n",
       "      <td>N</td>\n",
       "      <td>N</td>\n",
       "      <td>N</td>\n",
       "      <td>N</td>\n",
       "      <td>...</td>\n",
       "      <td>0</td>\n",
       "      <td>0</td>\n",
       "      <td>0</td>\n",
       "      <td>0</td>\n",
       "      <td>0</td>\n",
       "      <td>0</td>\n",
       "      <td>0</td>\n",
       "      <td>0</td>\n",
       "      <td>0</td>\n",
       "      <td>0</td>\n",
       "    </tr>\n",
       "    <tr>\n",
       "      <th>3</th>\n",
       "      <td>262152334</td>\n",
       "      <td>P</td>\n",
       "      <td>201312</td>\n",
       "      <td>3</td>\n",
       "      <td>N</td>\n",
       "      <td>N</td>\n",
       "      <td>N</td>\n",
       "      <td>N</td>\n",
       "      <td>N</td>\n",
       "      <td>N</td>\n",
       "      <td>...</td>\n",
       "      <td>0</td>\n",
       "      <td>0</td>\n",
       "      <td>0</td>\n",
       "      <td>0</td>\n",
       "      <td>0</td>\n",
       "      <td>0</td>\n",
       "      <td>0</td>\n",
       "      <td>0</td>\n",
       "      <td>0</td>\n",
       "      <td>0</td>\n",
       "    </tr>\n",
       "    <tr>\n",
       "      <th>4</th>\n",
       "      <td>262152334</td>\n",
       "      <td>P</td>\n",
       "      <td>201212</td>\n",
       "      <td>3</td>\n",
       "      <td>N</td>\n",
       "      <td>N</td>\n",
       "      <td>N</td>\n",
       "      <td>N</td>\n",
       "      <td>N</td>\n",
       "      <td>N</td>\n",
       "      <td>...</td>\n",
       "      <td>0</td>\n",
       "      <td>0</td>\n",
       "      <td>0</td>\n",
       "      <td>0</td>\n",
       "      <td>0</td>\n",
       "      <td>0</td>\n",
       "      <td>0</td>\n",
       "      <td>0</td>\n",
       "      <td>0</td>\n",
       "      <td>0</td>\n",
       "    </tr>\n",
       "    <tr>\n",
       "      <th>5</th>\n",
       "      <td>262152334</td>\n",
       "      <td>P</td>\n",
       "      <td>200912</td>\n",
       "      <td>3</td>\n",
       "      <td>N</td>\n",
       "      <td>N</td>\n",
       "      <td>N</td>\n",
       "      <td>N</td>\n",
       "      <td>N</td>\n",
       "      <td>N</td>\n",
       "      <td>...</td>\n",
       "      <td>0</td>\n",
       "      <td>0</td>\n",
       "      <td>0</td>\n",
       "      <td>0</td>\n",
       "      <td>0</td>\n",
       "      <td>0</td>\n",
       "      <td>0</td>\n",
       "      <td>0</td>\n",
       "      <td>0</td>\n",
       "      <td>0</td>\n",
       "    </tr>\n",
       "    <tr>\n",
       "      <th>6</th>\n",
       "      <td>262152334</td>\n",
       "      <td>P</td>\n",
       "      <td>201112</td>\n",
       "      <td>3</td>\n",
       "      <td>N</td>\n",
       "      <td>N</td>\n",
       "      <td>N</td>\n",
       "      <td>N</td>\n",
       "      <td>N</td>\n",
       "      <td>N</td>\n",
       "      <td>...</td>\n",
       "      <td>0</td>\n",
       "      <td>0</td>\n",
       "      <td>0</td>\n",
       "      <td>0</td>\n",
       "      <td>0</td>\n",
       "      <td>0</td>\n",
       "      <td>0</td>\n",
       "      <td>0</td>\n",
       "      <td>0</td>\n",
       "      <td>0</td>\n",
       "    </tr>\n",
       "  </tbody>\n",
       "</table>\n",
       "<p>7 rows × 246 columns</p>\n",
       "</div>"
      ],
      "text/plain": [
       "         ein elf  tax_pd  subseccd s501c3or4947a1cd schdbind  \\\n",
       "0  262152334   P  201012         3                N        N   \n",
       "1  262152334   P  200812         3                N        N   \n",
       "2  262152334   P  201412         3                N        N   \n",
       "3  262152334   P  201312         3                N        N   \n",
       "4  262152334   P  201212         3                N        N   \n",
       "5  262152334   P  200912         3                N        N   \n",
       "6  262152334   P  201112         3                N        N   \n",
       "\n",
       "  politicalactvtscd lbbyingactvtscd subjto6033cd dnradvisedfundscd  ...  \\\n",
       "0                 N               N            N                 N  ...   \n",
       "1                 N               N            N                 N  ...   \n",
       "2                 N               N            N                 N  ...   \n",
       "3                 N               N            N                 N  ...   \n",
       "4                 N               N            N                 N  ...   \n",
       "5                 N               N            N                 N  ...   \n",
       "6                 N               N            N                 N  ...   \n",
       "\n",
       "  exceeds1pct509 subtotpub509 pubsupplesub509 samepubsuppsubtot509 grsinc509  \\\n",
       "0              0            0               0                    0         0   \n",
       "1              0            0               0                    0         0   \n",
       "2              0            0               0                    0         0   \n",
       "3              0            0               0                    0         0   \n",
       "4              0            0               0                    0         0   \n",
       "5              0            0               0                    0         0   \n",
       "6              0            0               0                    0         0   \n",
       "\n",
       "  unreltxincls511tx509 subtotsuppinc509 netincunrelatd509 othrinc509  \\\n",
       "0                    0                0                 0          0   \n",
       "1                    0                0                 0          0   \n",
       "2                    0                0                 0          0   \n",
       "3                    0                0                 0          0   \n",
       "4                    0                0                 0          0   \n",
       "5                    0                0                 0          0   \n",
       "6                    0                0                 0          0   \n",
       "\n",
       "  totsupp509  \n",
       "0          0  \n",
       "1          0  \n",
       "2          0  \n",
       "3          0  \n",
       "4          0  \n",
       "5          0  \n",
       "6          0  \n",
       "\n",
       "[7 rows x 246 columns]"
      ]
     },
     "execution_count": 64,
     "metadata": {},
     "output_type": "execute_result"
    }
   ],
   "source": [
    "%%bigquery\n",
    "SELECT * \n",
    "FROM `bigquery-public-data.irs_990.irs_990_2015`\n",
    "WHERE ein = '262152334'"
   ]
  },
  {
   "attachments": {},
   "cell_type": "markdown",
   "metadata": {},
   "source": [
    "- So if we just wanted 2014, we can invoke a date filtering function"
   ]
  },
  {
   "cell_type": "code",
   "execution_count": 68,
   "metadata": {},
   "outputs": [
    {
     "data": {
      "application/vnd.jupyter.widget-view+json": {
       "model_id": "17b151e6b8974b7a916bf0d59a753307",
       "version_major": 2,
       "version_minor": 0
      },
      "text/plain": [
       "Query is running:   0%|          |"
      ]
     },
     "metadata": {},
     "output_type": "display_data"
    },
    {
     "data": {
      "application/vnd.jupyter.widget-view+json": {
       "model_id": "55a2460df25e4e1a83651fa2de9d6e58",
       "version_major": 2,
       "version_minor": 0
      },
      "text/plain": [
       "Downloading:   0%|          |"
      ]
     },
     "metadata": {},
     "output_type": "display_data"
    },
    {
     "data": {
      "text/html": [
       "<div>\n",
       "<style scoped>\n",
       "    .dataframe tbody tr th:only-of-type {\n",
       "        vertical-align: middle;\n",
       "    }\n",
       "\n",
       "    .dataframe tbody tr th {\n",
       "        vertical-align: top;\n",
       "    }\n",
       "\n",
       "    .dataframe thead th {\n",
       "        text-align: right;\n",
       "    }\n",
       "</style>\n",
       "<table border=\"1\" class=\"dataframe\">\n",
       "  <thead>\n",
       "    <tr style=\"text-align: right;\">\n",
       "      <th></th>\n",
       "      <th>ein</th>\n",
       "      <th>tax_pd</th>\n",
       "      <th>tax_period</th>\n",
       "    </tr>\n",
       "  </thead>\n",
       "  <tbody>\n",
       "    <tr>\n",
       "      <th>0</th>\n",
       "      <td>390123480</td>\n",
       "      <td>201412</td>\n",
       "      <td>2014-12-01</td>\n",
       "    </tr>\n",
       "    <tr>\n",
       "      <th>1</th>\n",
       "      <td>900424876</td>\n",
       "      <td>201412</td>\n",
       "      <td>2014-12-01</td>\n",
       "    </tr>\n",
       "    <tr>\n",
       "      <th>2</th>\n",
       "      <td>520891669</td>\n",
       "      <td>201405</td>\n",
       "      <td>2014-05-01</td>\n",
       "    </tr>\n",
       "    <tr>\n",
       "      <th>3</th>\n",
       "      <td>382227794</td>\n",
       "      <td>201406</td>\n",
       "      <td>2014-06-01</td>\n",
       "    </tr>\n",
       "    <tr>\n",
       "      <th>4</th>\n",
       "      <td>361493430</td>\n",
       "      <td>201412</td>\n",
       "      <td>2014-12-01</td>\n",
       "    </tr>\n",
       "    <tr>\n",
       "      <th>5</th>\n",
       "      <td>910219435</td>\n",
       "      <td>201412</td>\n",
       "      <td>2014-12-01</td>\n",
       "    </tr>\n",
       "    <tr>\n",
       "      <th>6</th>\n",
       "      <td>470339250</td>\n",
       "      <td>201412</td>\n",
       "      <td>2014-12-01</td>\n",
       "    </tr>\n",
       "    <tr>\n",
       "      <th>7</th>\n",
       "      <td>940362025</td>\n",
       "      <td>201412</td>\n",
       "      <td>2014-12-01</td>\n",
       "    </tr>\n",
       "    <tr>\n",
       "      <th>8</th>\n",
       "      <td>366066772</td>\n",
       "      <td>201412</td>\n",
       "      <td>2014-12-01</td>\n",
       "    </tr>\n",
       "    <tr>\n",
       "      <th>9</th>\n",
       "      <td>946069237</td>\n",
       "      <td>201412</td>\n",
       "      <td>2014-12-01</td>\n",
       "    </tr>\n",
       "  </tbody>\n",
       "</table>\n",
       "</div>"
      ],
      "text/plain": [
       "         ein  tax_pd  tax_period\n",
       "0  390123480  201412  2014-12-01\n",
       "1  900424876  201412  2014-12-01\n",
       "2  520891669  201405  2014-05-01\n",
       "3  382227794  201406  2014-06-01\n",
       "4  361493430  201412  2014-12-01\n",
       "5  910219435  201412  2014-12-01\n",
       "6  470339250  201412  2014-12-01\n",
       "7  940362025  201412  2014-12-01\n",
       "8  366066772  201412  2014-12-01\n",
       "9  946069237  201412  2014-12-01"
      ]
     },
     "execution_count": 68,
     "metadata": {},
     "output_type": "execute_result"
    }
   ],
   "source": [
    "%%bigquery\n",
    "SELECT \n",
    "    ein,\n",
    "    tax_pd,\n",
    "    PARSE_DATE('%Y%m', CAST(tax_pd AS STRING)) AS tax_period\n",
    "FROM `bigquery-public-data.irs_990.irs_990_2015`\n",
    "WHERE \n",
    "    EXTRACT(YEAR FROM PARSE_DATE('%Y%m', CAST(tax_pd AS STRING))) = 2014\n",
    "LIMIT 10"
   ]
  },
  {
   "attachments": {},
   "cell_type": "markdown",
   "metadata": {},
   "source": [
    "**Handle NULL values with extreme care**"
   ]
  },
  {
   "cell_type": "code",
   "execution_count": 70,
   "metadata": {},
   "outputs": [
    {
     "data": {
      "application/vnd.jupyter.widget-view+json": {
       "model_id": "b88f5c44c5bd43a18ca95e6f329649b3",
       "version_major": 2,
       "version_minor": 0
      },
      "text/plain": [
       "Query is running:   0%|          |"
      ]
     },
     "metadata": {},
     "output_type": "display_data"
    },
    {
     "data": {
      "application/vnd.jupyter.widget-view+json": {
       "model_id": "e1002c5673ea4f189883a16901490da3",
       "version_major": 2,
       "version_minor": 0
      },
      "text/plain": [
       "Downloading:   0%|          |"
      ]
     },
     "metadata": {},
     "output_type": "display_data"
    },
    {
     "data": {
      "text/html": [
       "<div>\n",
       "<style scoped>\n",
       "    .dataframe tbody tr th:only-of-type {\n",
       "        vertical-align: middle;\n",
       "    }\n",
       "\n",
       "    .dataframe tbody tr th {\n",
       "        vertical-align: top;\n",
       "    }\n",
       "\n",
       "    .dataframe thead th {\n",
       "        text-align: right;\n",
       "    }\n",
       "</style>\n",
       "<table border=\"1\" class=\"dataframe\">\n",
       "  <thead>\n",
       "    <tr style=\"text-align: right;\">\n",
       "      <th></th>\n",
       "      <th>ein</th>\n",
       "      <th>street</th>\n",
       "      <th>city</th>\n",
       "      <th>state</th>\n",
       "      <th>zip</th>\n",
       "    </tr>\n",
       "  </thead>\n",
       "  <tbody>\n",
       "    <tr>\n",
       "      <th>0</th>\n",
       "      <td>352651768</td>\n",
       "      <td>NAIROBI</td>\n",
       "      <td>KENYA</td>\n",
       "      <td>None</td>\n",
       "      <td>00000-0000</td>\n",
       "    </tr>\n",
       "    <tr>\n",
       "      <th>1</th>\n",
       "      <td>980031007</td>\n",
       "      <td>STOCKHOLM 11526</td>\n",
       "      <td>SWEDEN</td>\n",
       "      <td>None</td>\n",
       "      <td>00000-0000</td>\n",
       "    </tr>\n",
       "    <tr>\n",
       "      <th>2</th>\n",
       "      <td>237069967</td>\n",
       "      <td>TORONTO ON M3J 1P3</td>\n",
       "      <td>CANADA</td>\n",
       "      <td>None</td>\n",
       "      <td>00000-0000</td>\n",
       "    </tr>\n",
       "    <tr>\n",
       "      <th>3</th>\n",
       "      <td>364867900</td>\n",
       "      <td>BEIJING</td>\n",
       "      <td>CHINA</td>\n",
       "      <td>None</td>\n",
       "      <td>00000-0000</td>\n",
       "    </tr>\n",
       "    <tr>\n",
       "      <th>4</th>\n",
       "      <td>986064893</td>\n",
       "      <td>BIKENIBEU TARAWA</td>\n",
       "      <td>KIRIBATI</td>\n",
       "      <td>None</td>\n",
       "      <td>00000-0000</td>\n",
       "    </tr>\n",
       "    <tr>\n",
       "      <th>5</th>\n",
       "      <td>060706038</td>\n",
       "      <td>ST GEORGES GE 01</td>\n",
       "      <td>BERMUDA</td>\n",
       "      <td>None</td>\n",
       "      <td>00000-0000</td>\n",
       "    </tr>\n",
       "    <tr>\n",
       "      <th>6</th>\n",
       "      <td>061497455</td>\n",
       "      <td>SAVIESE VALAIS CH 1965</td>\n",
       "      <td>SWITZERLAND</td>\n",
       "      <td>None</td>\n",
       "      <td>00000-0000</td>\n",
       "    </tr>\n",
       "    <tr>\n",
       "      <th>7</th>\n",
       "      <td>980537324</td>\n",
       "      <td>WOLFVILLE NOVA SCOTIA B4P 2R6</td>\n",
       "      <td>CANADA</td>\n",
       "      <td>None</td>\n",
       "      <td>00000-0000</td>\n",
       "    </tr>\n",
       "    <tr>\n",
       "      <th>8</th>\n",
       "      <td>981426715</td>\n",
       "      <td>OXFORD OX1-1HU</td>\n",
       "      <td>UNITED KINGDOM</td>\n",
       "      <td>None</td>\n",
       "      <td>00000-0000</td>\n",
       "    </tr>\n",
       "    <tr>\n",
       "      <th>9</th>\n",
       "      <td>237099181</td>\n",
       "      <td>OPERA MI</td>\n",
       "      <td>ITALY</td>\n",
       "      <td>None</td>\n",
       "      <td>00000-0000</td>\n",
       "    </tr>\n",
       "  </tbody>\n",
       "</table>\n",
       "</div>"
      ],
      "text/plain": [
       "         ein                         street            city state         zip\n",
       "0  352651768                        NAIROBI           KENYA  None  00000-0000\n",
       "1  980031007                STOCKHOLM 11526          SWEDEN  None  00000-0000\n",
       "2  237069967             TORONTO ON M3J 1P3          CANADA  None  00000-0000\n",
       "3  364867900                        BEIJING           CHINA  None  00000-0000\n",
       "4  986064893               BIKENIBEU TARAWA        KIRIBATI  None  00000-0000\n",
       "5  060706038               ST GEORGES GE 01         BERMUDA  None  00000-0000\n",
       "6  061497455         SAVIESE VALAIS CH 1965     SWITZERLAND  None  00000-0000\n",
       "7  980537324  WOLFVILLE NOVA SCOTIA B4P 2R6          CANADA  None  00000-0000\n",
       "8  981426715                 OXFORD OX1-1HU  UNITED KINGDOM  None  00000-0000\n",
       "9  237099181                       OPERA MI           ITALY  None  00000-0000"
      ]
     },
     "execution_count": 70,
     "metadata": {},
     "output_type": "execute_result"
    }
   ],
   "source": [
    "%%bigquery\n",
    "SELECT \n",
    "    ein,\n",
    "    street,\n",
    "    city,\n",
    "    state,\n",
    "    zip\n",
    "FROM `bigquery-public-data.irs_990.irs_990_ein`\n",
    "WHERE \n",
    "    state IS NULL\n",
    "LIMIT 10"
   ]
  },
  {
   "attachments": {},
   "cell_type": "markdown",
   "metadata": {},
   "source": [
    "**Parsing String Values with String Functions**\n",
    "\n",
    "- `CONCAT(\"12345\",\"67890\")`  -> 1234567890\n",
    "- `END_WITH(\"Apple\",\"e\")` -> true\n",
    "- `LOWER(\"Apple\")` -> apple\n",
    "-  `REGEXP_EXTRACT(\"Lunchbox\",r\"^*box$\")` -> true\n",
    "\n",
    "\n"
   ]
  },
  {
   "cell_type": "markdown",
   "metadata": {},
   "source": [
    "**Wildcard filters with LIKE**"
   ]
  },
  {
   "cell_type": "code",
   "execution_count": 71,
   "metadata": {},
   "outputs": [
    {
     "data": {
      "application/vnd.jupyter.widget-view+json": {
       "model_id": "e5de07308be844ceaf71e42d2fc4985d",
       "version_major": 2,
       "version_minor": 0
      },
      "text/plain": [
       "Query is running:   0%|          |"
      ]
     },
     "metadata": {},
     "output_type": "display_data"
    },
    {
     "data": {
      "application/vnd.jupyter.widget-view+json": {
       "model_id": "72298920b5254cfd84d4ea6e8582acbd",
       "version_major": 2,
       "version_minor": 0
      },
      "text/plain": [
       "Downloading:   0%|          |"
      ]
     },
     "metadata": {},
     "output_type": "display_data"
    },
    {
     "data": {
      "text/html": [
       "<div>\n",
       "<style scoped>\n",
       "    .dataframe tbody tr th:only-of-type {\n",
       "        vertical-align: middle;\n",
       "    }\n",
       "\n",
       "    .dataframe tbody tr th {\n",
       "        vertical-align: top;\n",
       "    }\n",
       "\n",
       "    .dataframe thead th {\n",
       "        text-align: right;\n",
       "    }\n",
       "</style>\n",
       "<table border=\"1\" class=\"dataframe\">\n",
       "  <thead>\n",
       "    <tr style=\"text-align: right;\">\n",
       "      <th></th>\n",
       "      <th>ein</th>\n",
       "      <th>name</th>\n",
       "    </tr>\n",
       "  </thead>\n",
       "  <tbody>\n",
       "    <tr>\n",
       "      <th>0</th>\n",
       "      <td>203297489</td>\n",
       "      <td>MORGAN AUTO GROUP HELPING HAND FUND INC</td>\n",
       "    </tr>\n",
       "    <tr>\n",
       "      <th>1</th>\n",
       "      <td>205763648</td>\n",
       "      <td>JOSH FARLER HELPING HANDS FOUNDATION</td>\n",
       "    </tr>\n",
       "    <tr>\n",
       "      <th>2</th>\n",
       "      <td>264779838</td>\n",
       "      <td>HEAVENS HELPING HANDS MINISTRY INC</td>\n",
       "    </tr>\n",
       "    <tr>\n",
       "      <th>3</th>\n",
       "      <td>134045651</td>\n",
       "      <td>FRIENDS HELP FRIENDS INC</td>\n",
       "    </tr>\n",
       "    <tr>\n",
       "      <th>4</th>\n",
       "      <td>812832750</td>\n",
       "      <td>FAMILY HELP INSTITUTE INC</td>\n",
       "    </tr>\n",
       "    <tr>\n",
       "      <th>5</th>\n",
       "      <td>823676844</td>\n",
       "      <td>LOUS HELPING HAND FOUNDATION</td>\n",
       "    </tr>\n",
       "    <tr>\n",
       "      <th>6</th>\n",
       "      <td>462519710</td>\n",
       "      <td>BRAY HELPING BRAY INC</td>\n",
       "    </tr>\n",
       "    <tr>\n",
       "      <th>7</th>\n",
       "      <td>465025689</td>\n",
       "      <td>SN PHELPS RESEARCH INSTITUTE INC</td>\n",
       "    </tr>\n",
       "    <tr>\n",
       "      <th>8</th>\n",
       "      <td>453909386</td>\n",
       "      <td>DARKE COUNTY PREGNANCY HELP CENTER INC</td>\n",
       "    </tr>\n",
       "    <tr>\n",
       "      <th>9</th>\n",
       "      <td>830253203</td>\n",
       "      <td>TURNING POINT LINCOLN COUNTYS SELF- HELP CENTER</td>\n",
       "    </tr>\n",
       "  </tbody>\n",
       "</table>\n",
       "</div>"
      ],
      "text/plain": [
       "         ein                                             name\n",
       "0  203297489          MORGAN AUTO GROUP HELPING HAND FUND INC\n",
       "1  205763648             JOSH FARLER HELPING HANDS FOUNDATION\n",
       "2  264779838               HEAVENS HELPING HANDS MINISTRY INC\n",
       "3  134045651                         FRIENDS HELP FRIENDS INC\n",
       "4  812832750                        FAMILY HELP INSTITUTE INC\n",
       "5  823676844                     LOUS HELPING HAND FOUNDATION\n",
       "6  462519710                            BRAY HELPING BRAY INC\n",
       "7  465025689                 SN PHELPS RESEARCH INSTITUTE INC\n",
       "8  453909386           DARKE COUNTY PREGNANCY HELP CENTER INC\n",
       "9  830253203  TURNING POINT LINCOLN COUNTYS SELF- HELP CENTER"
      ]
     },
     "execution_count": 71,
     "metadata": {},
     "output_type": "execute_result"
    }
   ],
   "source": [
    "%%bigquery\n",
    "SELECT \n",
    "    ein,\n",
    "    name\n",
    "FROM `bigquery-public-data.irs_990.irs_990_ein`\n",
    "WHERE \n",
    "    LOWER(name) LIKE '%help%'\n",
    "LIMIT 10"
   ]
  },
  {
   "cell_type": "code",
   "execution_count": 72,
   "metadata": {},
   "outputs": [
    {
     "data": {
      "application/vnd.jupyter.widget-view+json": {
       "model_id": "0e1409576e20452597b2004bda8239ac",
       "version_major": 2,
       "version_minor": 0
      },
      "text/plain": [
       "Query is running:   0%|          |"
      ]
     },
     "metadata": {},
     "output_type": "display_data"
    },
    {
     "data": {
      "application/vnd.jupyter.widget-view+json": {
       "model_id": "1bd89634f946468e8dca31ed92be0901",
       "version_major": 2,
       "version_minor": 0
      },
      "text/plain": [
       "Downloading:   0%|          |"
      ]
     },
     "metadata": {},
     "output_type": "display_data"
    },
    {
     "data": {
      "text/html": [
       "<div>\n",
       "<style scoped>\n",
       "    .dataframe tbody tr th:only-of-type {\n",
       "        vertical-align: middle;\n",
       "    }\n",
       "\n",
       "    .dataframe tbody tr th {\n",
       "        vertical-align: top;\n",
       "    }\n",
       "\n",
       "    .dataframe thead th {\n",
       "        text-align: right;\n",
       "    }\n",
       "</style>\n",
       "<table border=\"1\" class=\"dataframe\">\n",
       "  <thead>\n",
       "    <tr style=\"text-align: right;\">\n",
       "      <th></th>\n",
       "      <th>ein</th>\n",
       "      <th>name</th>\n",
       "    </tr>\n",
       "  </thead>\n",
       "  <tbody>\n",
       "    <tr>\n",
       "      <th>0</th>\n",
       "      <td>871738298</td>\n",
       "      <td>HELPING HANDS FAMILY OUTREACH INC</td>\n",
       "    </tr>\n",
       "    <tr>\n",
       "      <th>1</th>\n",
       "      <td>952758212</td>\n",
       "      <td>HELP FOR BRAIN INJURED CHILDREN INC</td>\n",
       "    </tr>\n",
       "    <tr>\n",
       "      <th>2</th>\n",
       "      <td>270477340</td>\n",
       "      <td>HELPNEST INC</td>\n",
       "    </tr>\n",
       "    <tr>\n",
       "      <th>3</th>\n",
       "      <td>461652118</td>\n",
       "      <td>HELP A DIABETIC CHILD INC</td>\n",
       "    </tr>\n",
       "    <tr>\n",
       "      <th>4</th>\n",
       "      <td>742367192</td>\n",
       "      <td>HELPING HANDS OF JACKSON COUNTY INC</td>\n",
       "    </tr>\n",
       "    <tr>\n",
       "      <th>5</th>\n",
       "      <td>461634728</td>\n",
       "      <td>HELPING HIS HANDS DISASTER RESPONSE INC</td>\n",
       "    </tr>\n",
       "    <tr>\n",
       "      <th>6</th>\n",
       "      <td>464291756</td>\n",
       "      <td>HELPING KIDS ROUND FIRST</td>\n",
       "    </tr>\n",
       "    <tr>\n",
       "      <th>7</th>\n",
       "      <td>472964918</td>\n",
       "      <td>HELP-SIDE FOUNDATION</td>\n",
       "    </tr>\n",
       "    <tr>\n",
       "      <th>8</th>\n",
       "      <td>870683277</td>\n",
       "      <td>HELP INTERNATIONAL</td>\n",
       "    </tr>\n",
       "    <tr>\n",
       "      <th>9</th>\n",
       "      <td>137409533</td>\n",
       "      <td>HELPING HAND FOUNDATION TR</td>\n",
       "    </tr>\n",
       "  </tbody>\n",
       "</table>\n",
       "</div>"
      ],
      "text/plain": [
       "         ein                                     name\n",
       "0  871738298        HELPING HANDS FAMILY OUTREACH INC\n",
       "1  952758212      HELP FOR BRAIN INJURED CHILDREN INC\n",
       "2  270477340                             HELPNEST INC\n",
       "3  461652118                HELP A DIABETIC CHILD INC\n",
       "4  742367192      HELPING HANDS OF JACKSON COUNTY INC\n",
       "5  461634728  HELPING HIS HANDS DISASTER RESPONSE INC\n",
       "6  464291756                 HELPING KIDS ROUND FIRST\n",
       "7  472964918                     HELP-SIDE FOUNDATION\n",
       "8  870683277                       HELP INTERNATIONAL\n",
       "9  137409533               HELPING HAND FOUNDATION TR"
      ]
     },
     "execution_count": 72,
     "metadata": {},
     "output_type": "execute_result"
    }
   ],
   "source": [
    "%%bigquery\n",
    "SELECT \n",
    "    ein,\n",
    "    name\n",
    "FROM `bigquery-public-data.irs_990.irs_990_ein`\n",
    "WHERE \n",
    "    LOWER(name) LIKE 'help%'\n",
    "LIMIT 10"
   ]
  },
  {
   "attachments": {},
   "cell_type": "markdown",
   "metadata": {},
   "source": [
    "**Introducing JOINs and UNIONs**"
   ]
  },
  {
   "cell_type": "code",
   "execution_count": 76,
   "metadata": {},
   "outputs": [
    {
     "data": {
      "application/vnd.jupyter.widget-view+json": {
       "model_id": "f3cf9a4ea2bc41e2a5da920e3350aa87",
       "version_major": 2,
       "version_minor": 0
      },
      "text/plain": [
       "Query is running:   0%|          |"
      ]
     },
     "metadata": {},
     "output_type": "display_data"
    },
    {
     "data": {
      "application/vnd.jupyter.widget-view+json": {
       "model_id": "cb36f84c52ac4a12a26634e3aa092bc0",
       "version_major": 2,
       "version_minor": 0
      },
      "text/plain": [
       "Downloading:   0%|          |"
      ]
     },
     "metadata": {},
     "output_type": "display_data"
    },
    {
     "data": {
      "text/html": [
       "<div>\n",
       "<style scoped>\n",
       "    .dataframe tbody tr th:only-of-type {\n",
       "        vertical-align: middle;\n",
       "    }\n",
       "\n",
       "    .dataframe tbody tr th {\n",
       "        vertical-align: top;\n",
       "    }\n",
       "\n",
       "    .dataframe thead th {\n",
       "        text-align: right;\n",
       "    }\n",
       "</style>\n",
       "<table border=\"1\" class=\"dataframe\">\n",
       "  <thead>\n",
       "    <tr style=\"text-align: right;\">\n",
       "      <th></th>\n",
       "      <th>usaf</th>\n",
       "      <th>wban</th>\n",
       "      <th>name</th>\n",
       "      <th>country</th>\n",
       "      <th>state</th>\n",
       "      <th>call</th>\n",
       "      <th>lat</th>\n",
       "      <th>lon</th>\n",
       "      <th>elev</th>\n",
       "      <th>begin</th>\n",
       "      <th>end</th>\n",
       "    </tr>\n",
       "  </thead>\n",
       "  <tbody>\n",
       "    <tr>\n",
       "      <th>0</th>\n",
       "      <td>007018</td>\n",
       "      <td>99999</td>\n",
       "      <td>WXPOD 7018</td>\n",
       "      <td>None</td>\n",
       "      <td>None</td>\n",
       "      <td>None</td>\n",
       "      <td>0.00</td>\n",
       "      <td>0.000</td>\n",
       "      <td>+7018.0</td>\n",
       "      <td>20110309</td>\n",
       "      <td>20130730</td>\n",
       "    </tr>\n",
       "    <tr>\n",
       "      <th>1</th>\n",
       "      <td>007026</td>\n",
       "      <td>99999</td>\n",
       "      <td>WXPOD 7026</td>\n",
       "      <td>AF</td>\n",
       "      <td>None</td>\n",
       "      <td>None</td>\n",
       "      <td>0.00</td>\n",
       "      <td>0.000</td>\n",
       "      <td>+7026.0</td>\n",
       "      <td>20120713</td>\n",
       "      <td>20170822</td>\n",
       "    </tr>\n",
       "    <tr>\n",
       "      <th>2</th>\n",
       "      <td>007070</td>\n",
       "      <td>99999</td>\n",
       "      <td>WXPOD 7070</td>\n",
       "      <td>AF</td>\n",
       "      <td>None</td>\n",
       "      <td>None</td>\n",
       "      <td>0.00</td>\n",
       "      <td>0.000</td>\n",
       "      <td>+7070.0</td>\n",
       "      <td>20140923</td>\n",
       "      <td>20150926</td>\n",
       "    </tr>\n",
       "    <tr>\n",
       "      <th>3</th>\n",
       "      <td>008268</td>\n",
       "      <td>99999</td>\n",
       "      <td>WXPOD8278</td>\n",
       "      <td>AF</td>\n",
       "      <td>None</td>\n",
       "      <td>None</td>\n",
       "      <td>32.95</td>\n",
       "      <td>65.567</td>\n",
       "      <td>+1156.7</td>\n",
       "      <td>20100519</td>\n",
       "      <td>20120323</td>\n",
       "    </tr>\n",
       "    <tr>\n",
       "      <th>4</th>\n",
       "      <td>008307</td>\n",
       "      <td>99999</td>\n",
       "      <td>WXPOD 8318</td>\n",
       "      <td>AF</td>\n",
       "      <td>None</td>\n",
       "      <td>None</td>\n",
       "      <td>0.00</td>\n",
       "      <td>0.000</td>\n",
       "      <td>+8318.0</td>\n",
       "      <td>20100421</td>\n",
       "      <td>20100421</td>\n",
       "    </tr>\n",
       "  </tbody>\n",
       "</table>\n",
       "</div>"
      ],
      "text/plain": [
       "     usaf   wban                           name country state  call    lat  \\\n",
       "0  007018  99999  WXPOD 7018                       None  None  None   0.00   \n",
       "1  007026  99999  WXPOD 7026                         AF  None  None   0.00   \n",
       "2  007070  99999  WXPOD 7070                         AF  None  None   0.00   \n",
       "3  008268  99999  WXPOD8278                          AF  None  None  32.95   \n",
       "4  008307  99999  WXPOD 8318                         AF  None  None   0.00   \n",
       "\n",
       "      lon     elev     begin       end  \n",
       "0   0.000  +7018.0  20110309  20130730  \n",
       "1   0.000  +7026.0  20120713  20170822  \n",
       "2   0.000  +7070.0  20140923  20150926  \n",
       "3  65.567  +1156.7  20100519  20120323  \n",
       "4   0.000  +8318.0  20100421  20100421  "
      ]
     },
     "execution_count": 76,
     "metadata": {},
     "output_type": "execute_result"
    }
   ],
   "source": [
    "%%bigquery\n",
    "SELECT \n",
    "    *\n",
    "FROM `bigquery-public-data.noaa_gsod.stations`\n",
    "LIMIt 5"
   ]
  },
  {
   "cell_type": "code",
   "execution_count": null,
   "metadata": {},
   "outputs": [],
   "source": [
    "# you have to create your own primary key"
   ]
  },
  {
   "cell_type": "code",
   "execution_count": 74,
   "metadata": {},
   "outputs": [
    {
     "data": {
      "application/vnd.jupyter.widget-view+json": {
       "model_id": "9ffefbb743644cce93d517c4cdf25171",
       "version_major": 2,
       "version_minor": 0
      },
      "text/plain": [
       "Query is running:   0%|          |"
      ]
     },
     "metadata": {},
     "output_type": "display_data"
    },
    {
     "data": {
      "application/vnd.jupyter.widget-view+json": {
       "model_id": "4e72d092179a4d63833813ede0239f48",
       "version_major": 2,
       "version_minor": 0
      },
      "text/plain": [
       "Downloading:   0%|          |"
      ]
     },
     "metadata": {},
     "output_type": "display_data"
    },
    {
     "data": {
      "text/html": [
       "<div>\n",
       "<style scoped>\n",
       "    .dataframe tbody tr th:only-of-type {\n",
       "        vertical-align: middle;\n",
       "    }\n",
       "\n",
       "    .dataframe tbody tr th {\n",
       "        vertical-align: top;\n",
       "    }\n",
       "\n",
       "    .dataframe thead th {\n",
       "        text-align: right;\n",
       "    }\n",
       "</style>\n",
       "<table border=\"1\" class=\"dataframe\">\n",
       "  <thead>\n",
       "    <tr style=\"text-align: right;\">\n",
       "      <th></th>\n",
       "      <th>total_count</th>\n",
       "      <th>distinct_count</th>\n",
       "    </tr>\n",
       "  </thead>\n",
       "  <tbody>\n",
       "    <tr>\n",
       "      <th>0</th>\n",
       "      <td>29590</td>\n",
       "      <td>26189</td>\n",
       "    </tr>\n",
       "  </tbody>\n",
       "</table>\n",
       "</div>"
      ],
      "text/plain": [
       "   total_count  distinct_count\n",
       "0        29590           26189"
      ]
     },
     "execution_count": 74,
     "metadata": {},
     "output_type": "execute_result"
    }
   ],
   "source": [
    "%%bigquery\n",
    "SELECT \n",
    "    COUNT (usaf) AS total_count,\n",
    "    COUNT(DISTINCT usaf) AS distinct_count\n",
    "FROM `bigquery-public-data.noaa_gsod.stations`"
   ]
  },
  {
   "attachments": {},
   "cell_type": "markdown",
   "metadata": {},
   "source": [
    "**Union for vertically merging your data**\n",
    "\n",
    "- `UNION DISTINCT` -> removes duplicates\n",
    "- `UNION ALL` -> keeps every records"
   ]
  },
  {
   "cell_type": "code",
   "execution_count": 81,
   "metadata": {},
   "outputs": [
    {
     "data": {
      "application/vnd.jupyter.widget-view+json": {
       "model_id": "6959836eab2343e8a3c8f45ac6bb4a35",
       "version_major": 2,
       "version_minor": 0
      },
      "text/plain": [
       "Query is running:   0%|          |"
      ]
     },
     "metadata": {},
     "output_type": "display_data"
    },
    {
     "data": {
      "application/vnd.jupyter.widget-view+json": {
       "model_id": "35f4fbd8ac084cc58c783aff2b9ad19e",
       "version_major": 2,
       "version_minor": 0
      },
      "text/plain": [
       "Downloading:   0%|          |"
      ]
     },
     "metadata": {},
     "output_type": "display_data"
    },
    {
     "data": {
      "text/html": [
       "<div>\n",
       "<style scoped>\n",
       "    .dataframe tbody tr th:only-of-type {\n",
       "        vertical-align: middle;\n",
       "    }\n",
       "\n",
       "    .dataframe tbody tr th {\n",
       "        vertical-align: top;\n",
       "    }\n",
       "\n",
       "    .dataframe thead th {\n",
       "        text-align: right;\n",
       "    }\n",
       "</style>\n",
       "<table border=\"1\" class=\"dataframe\">\n",
       "  <thead>\n",
       "    <tr style=\"text-align: right;\">\n",
       "      <th></th>\n",
       "      <th>stn</th>\n",
       "      <th>wban</th>\n",
       "      <th>temp</th>\n",
       "      <th>year</th>\n",
       "    </tr>\n",
       "  </thead>\n",
       "  <tbody>\n",
       "    <tr>\n",
       "      <th>0</th>\n",
       "      <td>037770</td>\n",
       "      <td>99999</td>\n",
       "      <td>50.7</td>\n",
       "      <td>1930</td>\n",
       "    </tr>\n",
       "    <tr>\n",
       "      <th>1</th>\n",
       "      <td>038560</td>\n",
       "      <td>99999</td>\n",
       "      <td>53.2</td>\n",
       "      <td>1930</td>\n",
       "    </tr>\n",
       "    <tr>\n",
       "      <th>2</th>\n",
       "      <td>038560</td>\n",
       "      <td>99999</td>\n",
       "      <td>58.5</td>\n",
       "      <td>1930</td>\n",
       "    </tr>\n",
       "    <tr>\n",
       "      <th>3</th>\n",
       "      <td>039730</td>\n",
       "      <td>99999</td>\n",
       "      <td>40.2</td>\n",
       "      <td>1930</td>\n",
       "    </tr>\n",
       "    <tr>\n",
       "      <th>4</th>\n",
       "      <td>039730</td>\n",
       "      <td>99999</td>\n",
       "      <td>57.0</td>\n",
       "      <td>1930</td>\n",
       "    </tr>\n",
       "    <tr>\n",
       "      <th>...</th>\n",
       "      <td>...</td>\n",
       "      <td>...</td>\n",
       "      <td>...</td>\n",
       "      <td>...</td>\n",
       "    </tr>\n",
       "    <tr>\n",
       "      <th>4526</th>\n",
       "      <td>990061</td>\n",
       "      <td>99999</td>\n",
       "      <td>65.7</td>\n",
       "      <td>1929</td>\n",
       "    </tr>\n",
       "    <tr>\n",
       "      <th>4527</th>\n",
       "      <td>990061</td>\n",
       "      <td>99999</td>\n",
       "      <td>69.1</td>\n",
       "      <td>1929</td>\n",
       "    </tr>\n",
       "    <tr>\n",
       "      <th>4528</th>\n",
       "      <td>990061</td>\n",
       "      <td>99999</td>\n",
       "      <td>65.1</td>\n",
       "      <td>1929</td>\n",
       "    </tr>\n",
       "    <tr>\n",
       "      <th>4529</th>\n",
       "      <td>990061</td>\n",
       "      <td>99999</td>\n",
       "      <td>62.3</td>\n",
       "      <td>1929</td>\n",
       "    </tr>\n",
       "    <tr>\n",
       "      <th>4530</th>\n",
       "      <td>990061</td>\n",
       "      <td>99999</td>\n",
       "      <td>59.9</td>\n",
       "      <td>1929</td>\n",
       "    </tr>\n",
       "  </tbody>\n",
       "</table>\n",
       "<p>4531 rows × 4 columns</p>\n",
       "</div>"
      ],
      "text/plain": [
       "         stn   wban  temp  year\n",
       "0     037770  99999  50.7  1930\n",
       "1     038560  99999  53.2  1930\n",
       "2     038560  99999  58.5  1930\n",
       "3     039730  99999  40.2  1930\n",
       "4     039730  99999  57.0  1930\n",
       "...      ...    ...   ...   ...\n",
       "4526  990061  99999  65.7  1929\n",
       "4527  990061  99999  69.1  1929\n",
       "4528  990061  99999  65.1  1929\n",
       "4529  990061  99999  62.3  1929\n",
       "4530  990061  99999  59.9  1929\n",
       "\n",
       "[4531 rows x 4 columns]"
      ]
     },
     "execution_count": 81,
     "metadata": {},
     "output_type": "execute_result"
    }
   ],
   "source": [
    "%%bigquery\n",
    "SELECT \n",
    "    stn,wban,temp, year\n",
    "FROM `bigquery-public-data.noaa_gsod.gsod1929`\n",
    "    UNION DISTINCT\n",
    "SELECT stn,wban,temp, year \n",
    "FROM `bigquery-public-data.noaa_gsod.gsod1930`\n"
   ]
  },
  {
   "attachments": {},
   "cell_type": "markdown",
   "metadata": {},
   "source": [
    "**Use table wildcards for easy merges** \n",
    "\n",
    "- You have quite a few tables that you need to bring together. This is the syntax for the union, select all the fields we want from one of these particular tables. Union distinct, just write it out and then you just do another table and union distinct, do another table and union distinct, do another table. And if you have more than 10 tables, your fingers are going to get tired of typing all these tables over time. So I don't really want to type a 100 unions and it's going to make my code just extremely long vertically to read. \n",
    "\n",
    "```\n",
    "SELECT \n",
    "    stn,wban,temp, year\n",
    "FROM `bigquery-public-data.noaa_gsod.gsod1929`\n",
    "    UNION DISTINCT\n",
    "SELECT stn,wban,temp, year \n",
    "FROM `bigquery-public-data.noaa_gsod.gsod1930`\n",
    "    UNION DISTINCT\n",
    "SELECT stn,wban,temp, year \n",
    "FROM `bigquery-public-data.noaa_gsod.gsod1931`\n",
    "    UNION DISTINCT\n",
    "SELECT stn,wban,temp, year \n",
    "FROM `bigquery-public-data.noaa_gsod.gsod1932`\n",
    "    UNION DISTINCT\n",
    "SELECT stn,wban,temp, year \n",
    "FROM `bigquery-public-data.noaa_gsod.gsod1933`\n",
    "...\n",
    "..\n",
    ".\n",
    "```\n",
    "\n",
    "- wildcard is your solution ```SELECT * FROM `bigquery-public-data.noaa_gsod.gsod*` ```\n"
   ]
  },
  {
   "cell_type": "code",
   "execution_count": 84,
   "metadata": {},
   "outputs": [
    {
     "data": {
      "application/vnd.jupyter.widget-view+json": {
       "model_id": "212d1c3b92c54151b4c867cdcddb5b93",
       "version_major": 2,
       "version_minor": 0
      },
      "text/plain": [
       "Query is running:   0%|          |"
      ]
     },
     "metadata": {},
     "output_type": "display_data"
    },
    {
     "data": {
      "application/vnd.jupyter.widget-view+json": {
       "model_id": "534b074caad649e69aeea52b4a0930d7",
       "version_major": 2,
       "version_minor": 0
      },
      "text/plain": [
       "Downloading:   0%|          |"
      ]
     },
     "metadata": {},
     "output_type": "display_data"
    },
    {
     "data": {
      "text/html": [
       "<div>\n",
       "<style scoped>\n",
       "    .dataframe tbody tr th:only-of-type {\n",
       "        vertical-align: middle;\n",
       "    }\n",
       "\n",
       "    .dataframe tbody tr th {\n",
       "        vertical-align: top;\n",
       "    }\n",
       "\n",
       "    .dataframe thead th {\n",
       "        text-align: right;\n",
       "    }\n",
       "</style>\n",
       "<table border=\"1\" class=\"dataframe\">\n",
       "  <thead>\n",
       "    <tr style=\"text-align: right;\">\n",
       "      <th></th>\n",
       "      <th>stn</th>\n",
       "      <th>wban</th>\n",
       "      <th>temp</th>\n",
       "      <th>year</th>\n",
       "    </tr>\n",
       "  </thead>\n",
       "  <tbody>\n",
       "    <tr>\n",
       "      <th>0</th>\n",
       "      <td>150520</td>\n",
       "      <td>99999</td>\n",
       "      <td>18.0</td>\n",
       "      <td>1967</td>\n",
       "    </tr>\n",
       "    <tr>\n",
       "      <th>1</th>\n",
       "      <td>150520</td>\n",
       "      <td>99999</td>\n",
       "      <td>52.0</td>\n",
       "      <td>1967</td>\n",
       "    </tr>\n",
       "    <tr>\n",
       "      <th>2</th>\n",
       "      <td>150520</td>\n",
       "      <td>99999</td>\n",
       "      <td>58.0</td>\n",
       "      <td>1967</td>\n",
       "    </tr>\n",
       "    <tr>\n",
       "      <th>3</th>\n",
       "      <td>150520</td>\n",
       "      <td>99999</td>\n",
       "      <td>8.5</td>\n",
       "      <td>1967</td>\n",
       "    </tr>\n",
       "    <tr>\n",
       "      <th>4</th>\n",
       "      <td>151700</td>\n",
       "      <td>99999</td>\n",
       "      <td>16.7</td>\n",
       "      <td>1967</td>\n",
       "    </tr>\n",
       "    <tr>\n",
       "      <th>5</th>\n",
       "      <td>151700</td>\n",
       "      <td>99999</td>\n",
       "      <td>59.0</td>\n",
       "      <td>1967</td>\n",
       "    </tr>\n",
       "    <tr>\n",
       "      <th>6</th>\n",
       "      <td>151700</td>\n",
       "      <td>99999</td>\n",
       "      <td>66.7</td>\n",
       "      <td>1967</td>\n",
       "    </tr>\n",
       "    <tr>\n",
       "      <th>7</th>\n",
       "      <td>170980</td>\n",
       "      <td>99999</td>\n",
       "      <td>33.5</td>\n",
       "      <td>1967</td>\n",
       "    </tr>\n",
       "    <tr>\n",
       "      <th>8</th>\n",
       "      <td>170980</td>\n",
       "      <td>99999</td>\n",
       "      <td>29.8</td>\n",
       "      <td>1967</td>\n",
       "    </tr>\n",
       "    <tr>\n",
       "      <th>9</th>\n",
       "      <td>170980</td>\n",
       "      <td>99999</td>\n",
       "      <td>52.2</td>\n",
       "      <td>1967</td>\n",
       "    </tr>\n",
       "  </tbody>\n",
       "</table>\n",
       "</div>"
      ],
      "text/plain": [
       "      stn   wban  temp  year\n",
       "0  150520  99999  18.0  1967\n",
       "1  150520  99999  52.0  1967\n",
       "2  150520  99999  58.0  1967\n",
       "3  150520  99999   8.5  1967\n",
       "4  151700  99999  16.7  1967\n",
       "5  151700  99999  59.0  1967\n",
       "6  151700  99999  66.7  1967\n",
       "7  170980  99999  33.5  1967\n",
       "8  170980  99999  29.8  1967\n",
       "9  170980  99999  52.2  1967"
      ]
     },
     "execution_count": 84,
     "metadata": {},
     "output_type": "execute_result"
    }
   ],
   "source": [
    "%%bigquery\n",
    "SELECT\n",
    "    stn,wban,temp, year \n",
    "FROM `bigquery-public-data.noaa_gsod.gsod*`\n",
    "LIMIT 10"
   ]
  },
  {
   "attachments": {},
   "cell_type": "markdown",
   "metadata": {},
   "source": [
    "**Filtering with Table wildcard* and__TABLE_SUFFIX__*\n",
    "\n",
    "- What happens if you wanted to filter out for just a subset of the tables?\n",
    "- For instance, You just wanted to find and match together all the temperatires from 1950 of after 1950\n",
    "- Here's another reserved keyword that's spesific to big query.\n"
   ]
  },
  {
   "cell_type": "code",
   "execution_count": 87,
   "metadata": {},
   "outputs": [
    {
     "data": {
      "application/vnd.jupyter.widget-view+json": {
       "model_id": "93ed8c8d86534507a766df194563d3da",
       "version_major": 2,
       "version_minor": 0
      },
      "text/plain": [
       "Query is running:   0%|          |"
      ]
     },
     "metadata": {},
     "output_type": "display_data"
    },
    {
     "data": {
      "application/vnd.jupyter.widget-view+json": {
       "model_id": "0e97311ca03749e9bc34550b7c2d83da",
       "version_major": 2,
       "version_minor": 0
      },
      "text/plain": [
       "Downloading:   0%|          |"
      ]
     },
     "metadata": {},
     "output_type": "display_data"
    },
    {
     "data": {
      "text/html": [
       "<div>\n",
       "<style scoped>\n",
       "    .dataframe tbody tr th:only-of-type {\n",
       "        vertical-align: middle;\n",
       "    }\n",
       "\n",
       "    .dataframe tbody tr th {\n",
       "        vertical-align: top;\n",
       "    }\n",
       "\n",
       "    .dataframe thead th {\n",
       "        text-align: right;\n",
       "    }\n",
       "</style>\n",
       "<table border=\"1\" class=\"dataframe\">\n",
       "  <thead>\n",
       "    <tr style=\"text-align: right;\">\n",
       "      <th></th>\n",
       "      <th>stn</th>\n",
       "      <th>wban</th>\n",
       "      <th>temp</th>\n",
       "      <th>year</th>\n",
       "    </tr>\n",
       "  </thead>\n",
       "  <tbody>\n",
       "    <tr>\n",
       "      <th>0</th>\n",
       "      <td>075550</td>\n",
       "      <td>99999</td>\n",
       "      <td>29.6</td>\n",
       "      <td>2008</td>\n",
       "    </tr>\n",
       "    <tr>\n",
       "      <th>1</th>\n",
       "      <td>164650</td>\n",
       "      <td>99999</td>\n",
       "      <td>52.7</td>\n",
       "      <td>2008</td>\n",
       "    </tr>\n",
       "    <tr>\n",
       "      <th>2</th>\n",
       "      <td>161780</td>\n",
       "      <td>99999</td>\n",
       "      <td>50.7</td>\n",
       "      <td>2008</td>\n",
       "    </tr>\n",
       "    <tr>\n",
       "      <th>3</th>\n",
       "      <td>897620</td>\n",
       "      <td>99999</td>\n",
       "      <td>-24.0</td>\n",
       "      <td>2008</td>\n",
       "    </tr>\n",
       "    <tr>\n",
       "      <th>4</th>\n",
       "      <td>895650</td>\n",
       "      <td>99999</td>\n",
       "      <td>33.3</td>\n",
       "      <td>2008</td>\n",
       "    </tr>\n",
       "    <tr>\n",
       "      <th>5</th>\n",
       "      <td>897620</td>\n",
       "      <td>99999</td>\n",
       "      <td>-19.8</td>\n",
       "      <td>2008</td>\n",
       "    </tr>\n",
       "    <tr>\n",
       "      <th>6</th>\n",
       "      <td>897620</td>\n",
       "      <td>99999</td>\n",
       "      <td>-14.3</td>\n",
       "      <td>2008</td>\n",
       "    </tr>\n",
       "    <tr>\n",
       "      <th>7</th>\n",
       "      <td>075550</td>\n",
       "      <td>99999</td>\n",
       "      <td>53.4</td>\n",
       "      <td>2008</td>\n",
       "    </tr>\n",
       "    <tr>\n",
       "      <th>8</th>\n",
       "      <td>075550</td>\n",
       "      <td>99999</td>\n",
       "      <td>70.9</td>\n",
       "      <td>2008</td>\n",
       "    </tr>\n",
       "    <tr>\n",
       "      <th>9</th>\n",
       "      <td>066090</td>\n",
       "      <td>99999</td>\n",
       "      <td>20.5</td>\n",
       "      <td>2008</td>\n",
       "    </tr>\n",
       "  </tbody>\n",
       "</table>\n",
       "</div>"
      ],
      "text/plain": [
       "      stn   wban  temp  year\n",
       "0  075550  99999  29.6  2008\n",
       "1  164650  99999  52.7  2008\n",
       "2  161780  99999  50.7  2008\n",
       "3  897620  99999 -24.0  2008\n",
       "4  895650  99999  33.3  2008\n",
       "5  897620  99999 -19.8  2008\n",
       "6  897620  99999 -14.3  2008\n",
       "7  075550  99999  53.4  2008\n",
       "8  075550  99999  70.9  2008\n",
       "9  066090  99999  20.5  2008"
      ]
     },
     "execution_count": 87,
     "metadata": {},
     "output_type": "execute_result"
    }
   ],
   "source": [
    "%%bigquery\n",
    "SELECT\n",
    "    stn,wban,temp, year \n",
    "FROM `bigquery-public-data.noaa_gsod.gsod*`\n",
    "--All gsod tables after 1950\n",
    "WHERE _TABLE_SUFFIX > '1950'\n",
    "LIMIT 10"
   ]
  },
  {
   "attachments": {},
   "cell_type": "markdown",
   "metadata": {},
   "source": [
    "- Use table wildcard* versus writing many UNIONs\n",
    "- Use __TABLE_SUFFIX__ to filter out tables wildcard included\n",
    "- Use __TABLE_SUFFIX__ in your SELECT statement with CONCAT()\n",
    "\n",
    "**Avoid UNION pitfalls like brittle schemas**\n",
    "- Duplicate records among tables (Use UNION DISTINCT instead of UNION ALL)\n",
    "- Changing schemas and field names over time\n",
    "- Mismatched count of columns in your UNION"
   ]
  },
  {
   "attachments": {},
   "cell_type": "markdown",
   "metadata": {},
   "source": [
    "**Linking data across multiple tables** \n",
    "- Join and merging datasets\n",
    "- `INNER JOIN` -> returns only the rows that have matching values in both tables\n",
    "- `LEFT JOIN` -> returns all rows from the left table, and the matched rows from the right table\n",
    "- `RIGHT JOIN` -> returns all rows from the right table, and the matched rows from the left table88\n",
    "- `OUTER JOIN` -> returns all rows from all tables and unmatched rows are displayed as NULL"
   ]
  },
  {
   "cell_type": "code",
   "execution_count": 5,
   "metadata": {},
   "outputs": [
    {
     "data": {
      "application/vnd.jupyter.widget-view+json": {
       "model_id": "d2eb268640dc4658be00b860a272fb85",
       "version_major": 2,
       "version_minor": 0
      },
      "text/plain": [
       "Query is running:   0%|          |"
      ]
     },
     "metadata": {},
     "output_type": "display_data"
    },
    {
     "data": {
      "application/vnd.jupyter.widget-view+json": {
       "model_id": "d1d71cd6f0db490fbc1b019308361032",
       "version_major": 2,
       "version_minor": 0
      },
      "text/plain": [
       "Downloading:   0%|          |"
      ]
     },
     "metadata": {},
     "output_type": "display_data"
    },
    {
     "data": {
      "text/html": [
       "<div>\n",
       "<style scoped>\n",
       "    .dataframe tbody tr th:only-of-type {\n",
       "        vertical-align: middle;\n",
       "    }\n",
       "\n",
       "    .dataframe tbody tr th {\n",
       "        vertical-align: top;\n",
       "    }\n",
       "\n",
       "    .dataframe thead th {\n",
       "        text-align: right;\n",
       "    }\n",
       "</style>\n",
       "<table border=\"1\" class=\"dataframe\">\n",
       "  <thead>\n",
       "    <tr style=\"text-align: right;\">\n",
       "      <th></th>\n",
       "      <th>stn</th>\n",
       "      <th>wban</th>\n",
       "      <th>temp</th>\n",
       "      <th>year</th>\n",
       "      <th>name</th>\n",
       "      <th>state</th>\n",
       "      <th>country</th>\n",
       "    </tr>\n",
       "  </thead>\n",
       "  <tbody>\n",
       "    <tr>\n",
       "      <th>0</th>\n",
       "      <td>700635</td>\n",
       "      <td>26465</td>\n",
       "      <td>37.9</td>\n",
       "      <td>2022</td>\n",
       "      <td>GALBRAITH LAKE AIRPORT</td>\n",
       "      <td>AK</td>\n",
       "      <td>US</td>\n",
       "    </tr>\n",
       "    <tr>\n",
       "      <th>1</th>\n",
       "      <td>700860</td>\n",
       "      <td>27401</td>\n",
       "      <td>39.3</td>\n",
       "      <td>2022</td>\n",
       "      <td>BARTER ISLAND AIRPORT</td>\n",
       "      <td>AK</td>\n",
       "      <td>US</td>\n",
       "    </tr>\n",
       "    <tr>\n",
       "      <th>2</th>\n",
       "      <td>701196</td>\n",
       "      <td>00102</td>\n",
       "      <td>54.1</td>\n",
       "      <td>2022</td>\n",
       "      <td>BOB BARKER MEMORIAL AIRPORT</td>\n",
       "      <td>AK</td>\n",
       "      <td>US</td>\n",
       "    </tr>\n",
       "    <tr>\n",
       "      <th>3</th>\n",
       "      <td>701333</td>\n",
       "      <td>26643</td>\n",
       "      <td>-18.2</td>\n",
       "      <td>2022</td>\n",
       "      <td>DEERING AIRPORT</td>\n",
       "      <td>AK</td>\n",
       "      <td>US</td>\n",
       "    </tr>\n",
       "    <tr>\n",
       "      <th>4</th>\n",
       "      <td>701748</td>\n",
       "      <td>99999</td>\n",
       "      <td>50.0</td>\n",
       "      <td>2022</td>\n",
       "      <td>PROSPECT CREEK AIRPORT</td>\n",
       "      <td>AK</td>\n",
       "      <td>US</td>\n",
       "    </tr>\n",
       "    <tr>\n",
       "      <th>5</th>\n",
       "      <td>701748</td>\n",
       "      <td>99999</td>\n",
       "      <td>46.4</td>\n",
       "      <td>2022</td>\n",
       "      <td>PROSPECT CREEK AIRPORT</td>\n",
       "      <td>AK</td>\n",
       "      <td>US</td>\n",
       "    </tr>\n",
       "    <tr>\n",
       "      <th>6</th>\n",
       "      <td>702040</td>\n",
       "      <td>26703</td>\n",
       "      <td>31.7</td>\n",
       "      <td>2022</td>\n",
       "      <td>GAMBELL AIRPORT</td>\n",
       "      <td>AK</td>\n",
       "      <td>US</td>\n",
       "    </tr>\n",
       "    <tr>\n",
       "      <th>7</th>\n",
       "      <td>702040</td>\n",
       "      <td>26703</td>\n",
       "      <td>28.8</td>\n",
       "      <td>2022</td>\n",
       "      <td>GAMBELL AIRPORT</td>\n",
       "      <td>AK</td>\n",
       "      <td>US</td>\n",
       "    </tr>\n",
       "    <tr>\n",
       "      <th>8</th>\n",
       "      <td>702040</td>\n",
       "      <td>26703</td>\n",
       "      <td>32.5</td>\n",
       "      <td>2022</td>\n",
       "      <td>GAMBELL AIRPORT</td>\n",
       "      <td>AK</td>\n",
       "      <td>US</td>\n",
       "    </tr>\n",
       "    <tr>\n",
       "      <th>9</th>\n",
       "      <td>702040</td>\n",
       "      <td>26703</td>\n",
       "      <td>28.9</td>\n",
       "      <td>2022</td>\n",
       "      <td>GAMBELL AIRPORT</td>\n",
       "      <td>AK</td>\n",
       "      <td>US</td>\n",
       "    </tr>\n",
       "  </tbody>\n",
       "</table>\n",
       "</div>"
      ],
      "text/plain": [
       "      stn   wban  temp  year                         name state country\n",
       "0  700635  26465  37.9  2022       GALBRAITH LAKE AIRPORT    AK      US\n",
       "1  700860  27401  39.3  2022        BARTER ISLAND AIRPORT    AK      US\n",
       "2  701196  00102  54.1  2022  BOB BARKER MEMORIAL AIRPORT    AK      US\n",
       "3  701333  26643 -18.2  2022              DEERING AIRPORT    AK      US\n",
       "4  701748  99999  50.0  2022       PROSPECT CREEK AIRPORT    AK      US\n",
       "5  701748  99999  46.4  2022       PROSPECT CREEK AIRPORT    AK      US\n",
       "6  702040  26703  31.7  2022              GAMBELL AIRPORT    AK      US\n",
       "7  702040  26703  28.8  2022              GAMBELL AIRPORT    AK      US\n",
       "8  702040  26703  32.5  2022              GAMBELL AIRPORT    AK      US\n",
       "9  702040  26703  28.9  2022              GAMBELL AIRPORT    AK      US"
      ]
     },
     "execution_count": 5,
     "metadata": {},
     "output_type": "execute_result"
    }
   ],
   "source": [
    "%%bigquery\n",
    "SELECT\n",
    "    a.stn,\n",
    "    a.wban,\n",
    "    a.temp, \n",
    "    a.year,\n",
    "    b.name,\n",
    "    b.state,\n",
    "    b.country \n",
    "FROM \n",
    "    `bigquery-public-data.noaa_gsod.gsod*` AS a\n",
    "JOIN\n",
    "    `bigquery-public-data.noaa_gsod.stations` AS b\n",
    "ON a.stn = b.usaf AND a.wban = b.wban\n",
    "WHERE \n",
    "    state IS NOT NULL\n",
    "    AND country = 'US'\n",
    "    AND _TABLE_SUFFIX > '2015'\n",
    "LIMIT 10"
   ]
  },
  {
   "attachments": {},
   "cell_type": "markdown",
   "metadata": {},
   "source": [
    "**Avoiding Pitfalls when Merging Datasets**\n",
    "\n",
    "- Doing many-to-many JOIN could result in more rows than either of your initial tables\n",
    "- This is a primary reason for exceeding your resource cap in BigQuery\n",
    "- Know your dataset and relationships between your tables before joining\n",
    "- Understanf your data relationship before joining 1:1, N:1, 1:N, N:N\n",
    "- Use CONCAT() to create a composite key fields if no unique fields exist or join on more than one field\n",
    "- Ensure your keyfields are distinc(deduplicate)"
   ]
  },
  {
   "cell_type": "code",
   "execution_count": 8,
   "metadata": {},
   "outputs": [
    {
     "data": {
      "application/vnd.jupyter.widget-view+json": {
       "model_id": "c0c42da973574d34a31840157c2940a7",
       "version_major": 2,
       "version_minor": 0
      },
      "text/plain": [
       "Query is running:   0%|          |"
      ]
     },
     "metadata": {},
     "output_type": "display_data"
    },
    {
     "data": {
      "application/vnd.jupyter.widget-view+json": {
       "model_id": "aa18b2d31b004809a53f57cf9bac6387",
       "version_major": 2,
       "version_minor": 0
      },
      "text/plain": [
       "Downloading:   0%|          |"
      ]
     },
     "metadata": {},
     "output_type": "display_data"
    },
    {
     "data": {
      "text/html": [
       "<div>\n",
       "<style scoped>\n",
       "    .dataframe tbody tr th:only-of-type {\n",
       "        vertical-align: middle;\n",
       "    }\n",
       "\n",
       "    .dataframe tbody tr th {\n",
       "        vertical-align: top;\n",
       "    }\n",
       "\n",
       "    .dataframe thead th {\n",
       "        text-align: right;\n",
       "    }\n",
       "</style>\n",
       "<table border=\"1\" class=\"dataframe\">\n",
       "  <thead>\n",
       "    <tr style=\"text-align: right;\">\n",
       "      <th></th>\n",
       "      <th>ein</th>\n",
       "      <th>elf</th>\n",
       "      <th>tax_pd</th>\n",
       "    </tr>\n",
       "  </thead>\n",
       "  <tbody>\n",
       "    <tr>\n",
       "      <th>0</th>\n",
       "      <td>390123480</td>\n",
       "      <td>E</td>\n",
       "      <td>201412</td>\n",
       "    </tr>\n",
       "    <tr>\n",
       "      <th>1</th>\n",
       "      <td>390123480</td>\n",
       "      <td>E</td>\n",
       "      <td>201312</td>\n",
       "    </tr>\n",
       "    <tr>\n",
       "      <th>2</th>\n",
       "      <td>900424876</td>\n",
       "      <td>E</td>\n",
       "      <td>201412</td>\n",
       "    </tr>\n",
       "  </tbody>\n",
       "</table>\n",
       "</div>"
      ],
      "text/plain": [
       "         ein elf  tax_pd\n",
       "0  390123480   E  201412\n",
       "1  390123480   E  201312\n",
       "2  900424876   E  201412"
      ]
     },
     "execution_count": 8,
     "metadata": {},
     "output_type": "execute_result"
    }
   ],
   "source": [
    "%%bigquery\n",
    "SELECT ein,elf,tax_pd\n",
    "FROM \n",
    "    `bigquery-public-data.irs_990.irs_990_2015` \n",
    "LIMIT 3"
   ]
  },
  {
   "cell_type": "code",
   "execution_count": 10,
   "metadata": {},
   "outputs": [
    {
     "data": {
      "application/vnd.jupyter.widget-view+json": {
       "model_id": "8b4179f3646645afa5f6d1f35aa0b902",
       "version_major": 2,
       "version_minor": 0
      },
      "text/plain": [
       "Query is running:   0%|          |"
      ]
     },
     "metadata": {},
     "output_type": "display_data"
    },
    {
     "data": {
      "application/vnd.jupyter.widget-view+json": {
       "model_id": "47862372c6514fad9a7418f816b2e88f",
       "version_major": 2,
       "version_minor": 0
      },
      "text/plain": [
       "Downloading:   0%|          |"
      ]
     },
     "metadata": {},
     "output_type": "display_data"
    },
    {
     "data": {
      "text/html": [
       "<div>\n",
       "<style scoped>\n",
       "    .dataframe tbody tr th:only-of-type {\n",
       "        vertical-align: middle;\n",
       "    }\n",
       "\n",
       "    .dataframe tbody tr th {\n",
       "        vertical-align: top;\n",
       "    }\n",
       "\n",
       "    .dataframe thead th {\n",
       "        text-align: right;\n",
       "    }\n",
       "</style>\n",
       "<table border=\"1\" class=\"dataframe\">\n",
       "  <thead>\n",
       "    <tr style=\"text-align: right;\">\n",
       "      <th></th>\n",
       "      <th>ein</th>\n",
       "      <th>name</th>\n",
       "      <th>ico</th>\n",
       "    </tr>\n",
       "  </thead>\n",
       "  <tbody>\n",
       "    <tr>\n",
       "      <th>0</th>\n",
       "      <td>660454913</td>\n",
       "      <td>NANA BABY CHILDRENS HOME</td>\n",
       "      <td>None</td>\n",
       "    </tr>\n",
       "    <tr>\n",
       "      <th>1</th>\n",
       "      <td>660588071</td>\n",
       "      <td>GOLDEN HOOK FISHING CLUB INC</td>\n",
       "      <td>% GREG J FERGUSON</td>\n",
       "    </tr>\n",
       "    <tr>\n",
       "      <th>2</th>\n",
       "      <td>900670575</td>\n",
       "      <td>OKINAWA YOUTH FOOTBALL</td>\n",
       "      <td>% MCCS EXECUTIVE BRANCH</td>\n",
       "    </tr>\n",
       "  </tbody>\n",
       "</table>\n",
       "</div>"
      ],
      "text/plain": [
       "         ein                          name                      ico\n",
       "0  660454913      NANA BABY CHILDRENS HOME                     None\n",
       "1  660588071  GOLDEN HOOK FISHING CLUB INC        % GREG J FERGUSON\n",
       "2  900670575        OKINAWA YOUTH FOOTBALL  % MCCS EXECUTIVE BRANCH"
      ]
     },
     "execution_count": 10,
     "metadata": {},
     "output_type": "execute_result"
    }
   ],
   "source": [
    "%%bigquery\n",
    "SELECT ein,name,ico\n",
    "FROM \n",
    "    `bigquery-public-data.irs_990.irs_990_ein` \n",
    "LIMIT 3"
   ]
  },
  {
   "attachments": {},
   "cell_type": "markdown",
   "metadata": {},
   "source": [
    "### Task 4. Identify a key field in your ecommerce dataset\n",
    "\n",
    "Examine the products and fields further. You want to become familiar with the products on the website and the fields you could use to potentially join on to other datasets.\n",
    "\n",
    "#### Examine the records\n",
    "In this section, you find how many product names and product SKUs are on your website and whether either one of those fields is unique.\n",
    "\n",
    "Find how many product names and product SKUs are on the website. \n",
    "   \n",
    "- Look at the pagination results in the web UI for the total number of records returned, which in this case is 2,273 products and SKUs.\n",
    "- But...do the results mean that there are 2,273 unique product SKUs?"
   ]
  },
  {
   "cell_type": "code",
   "execution_count": 12,
   "metadata": {},
   "outputs": [
    {
     "data": {
      "application/vnd.jupyter.widget-view+json": {
       "model_id": "7b47ce954cd64842ac057fe82158caaa",
       "version_major": 2,
       "version_minor": 0
      },
      "text/plain": [
       "Query is running:   0%|          |"
      ]
     },
     "metadata": {},
     "output_type": "display_data"
    },
    {
     "data": {
      "application/vnd.jupyter.widget-view+json": {
       "model_id": "8d43998176794bfcb9d573c7c7d12b36",
       "version_major": 2,
       "version_minor": 0
      },
      "text/plain": [
       "Downloading:   0%|          |"
      ]
     },
     "metadata": {},
     "output_type": "display_data"
    },
    {
     "data": {
      "text/html": [
       "<div>\n",
       "<style scoped>\n",
       "    .dataframe tbody tr th:only-of-type {\n",
       "        vertical-align: middle;\n",
       "    }\n",
       "\n",
       "    .dataframe tbody tr th {\n",
       "        vertical-align: top;\n",
       "    }\n",
       "\n",
       "    .dataframe thead th {\n",
       "        text-align: right;\n",
       "    }\n",
       "</style>\n",
       "<table border=\"1\" class=\"dataframe\">\n",
       "  <thead>\n",
       "    <tr style=\"text-align: right;\">\n",
       "      <th></th>\n",
       "      <th>productSKU</th>\n",
       "      <th>v2ProductName</th>\n",
       "    </tr>\n",
       "  </thead>\n",
       "  <tbody>\n",
       "    <tr>\n",
       "      <th>0</th>\n",
       "      <td>9180781</td>\n",
       "      <td>Suitcase Organizer Cubes</td>\n",
       "    </tr>\n",
       "    <tr>\n",
       "      <th>1</th>\n",
       "      <td>9180793</td>\n",
       "      <td>26 oz Double Wall Insulated Bottle</td>\n",
       "    </tr>\n",
       "    <tr>\n",
       "      <th>2</th>\n",
       "      <td>9180838</td>\n",
       "      <td>Metal Texture Roller Pen</td>\n",
       "    </tr>\n",
       "    <tr>\n",
       "      <th>3</th>\n",
       "      <td>9180844</td>\n",
       "      <td>Gunmetal Roller Ball Pen</td>\n",
       "    </tr>\n",
       "    <tr>\n",
       "      <th>4</th>\n",
       "      <td>9180905</td>\n",
       "      <td>Google Men's Long Sleeve Raglan Ocean Blue</td>\n",
       "    </tr>\n",
       "    <tr>\n",
       "      <th>...</th>\n",
       "      <td>...</td>\n",
       "      <td>...</td>\n",
       "    </tr>\n",
       "    <tr>\n",
       "      <th>2268</th>\n",
       "      <td>GGOEGAAL059016</td>\n",
       "      <td>Google Men's Performance Badge Tee Navy</td>\n",
       "    </tr>\n",
       "    <tr>\n",
       "      <th>2269</th>\n",
       "      <td>GGOEYAEB030015</td>\n",
       "      <td>YouTube Women's Racer Back Tank Black</td>\n",
       "    </tr>\n",
       "    <tr>\n",
       "      <th>2270</th>\n",
       "      <td>10 14152</td>\n",
       "      <td>Rowan Pullover Hood</td>\n",
       "    </tr>\n",
       "    <tr>\n",
       "      <th>2271</th>\n",
       "      <td>GGOEGAEJ028516</td>\n",
       "      <td>Google  Women's Muscle Tee</td>\n",
       "    </tr>\n",
       "    <tr>\n",
       "      <th>2272</th>\n",
       "      <td>GGOEGAPC058815</td>\n",
       "      <td>Google Women's Shell Jacket Blue/Black</td>\n",
       "    </tr>\n",
       "  </tbody>\n",
       "</table>\n",
       "<p>2273 rows × 2 columns</p>\n",
       "</div>"
      ],
      "text/plain": [
       "          productSKU                               v2ProductName\n",
       "0            9180781                    Suitcase Organizer Cubes\n",
       "1            9180793          26 oz Double Wall Insulated Bottle\n",
       "2            9180838                    Metal Texture Roller Pen\n",
       "3            9180844                    Gunmetal Roller Ball Pen\n",
       "4            9180905  Google Men's Long Sleeve Raglan Ocean Blue\n",
       "...              ...                                         ...\n",
       "2268  GGOEGAAL059016     Google Men's Performance Badge Tee Navy\n",
       "2269  GGOEYAEB030015       YouTube Women's Racer Back Tank Black\n",
       "2270        10 14152                         Rowan Pullover Hood\n",
       "2271  GGOEGAEJ028516                  Google  Women's Muscle Tee\n",
       "2272  GGOEGAPC058815      Google Women's Shell Jacket Blue/Black\n",
       "\n",
       "[2273 rows x 2 columns]"
      ]
     },
     "execution_count": 12,
     "metadata": {},
     "output_type": "execute_result"
    }
   ],
   "source": [
    "%%bigquery\n",
    "SELECT DISTINCT\n",
    "productSKU,\n",
    "v2ProductName\n",
    "FROM `data-to-insights.ecommerce.all_sessions_raw`"
   ]
  },
  {
   "cell_type": "code",
   "execution_count": 13,
   "metadata": {},
   "outputs": [
    {
     "data": {
      "application/vnd.jupyter.widget-view+json": {
       "model_id": "89afb5a905c74fe8b1c13cfb0f085388",
       "version_major": 2,
       "version_minor": 0
      },
      "text/plain": [
       "Query is running:   0%|          |"
      ]
     },
     "metadata": {},
     "output_type": "display_data"
    },
    {
     "data": {
      "application/vnd.jupyter.widget-view+json": {
       "model_id": "83ee469cb9054d729aa888c8aeef024f",
       "version_major": 2,
       "version_minor": 0
      },
      "text/plain": [
       "Downloading:   0%|          |"
      ]
     },
     "metadata": {},
     "output_type": "display_data"
    },
    {
     "data": {
      "text/html": [
       "<div>\n",
       "<style scoped>\n",
       "    .dataframe tbody tr th:only-of-type {\n",
       "        vertical-align: middle;\n",
       "    }\n",
       "\n",
       "    .dataframe tbody tr th {\n",
       "        vertical-align: top;\n",
       "    }\n",
       "\n",
       "    .dataframe thead th {\n",
       "        text-align: right;\n",
       "    }\n",
       "</style>\n",
       "<table border=\"1\" class=\"dataframe\">\n",
       "  <thead>\n",
       "    <tr style=\"text-align: right;\">\n",
       "      <th></th>\n",
       "      <th>productSKU</th>\n",
       "    </tr>\n",
       "  </thead>\n",
       "  <tbody>\n",
       "    <tr>\n",
       "      <th>0</th>\n",
       "      <td>9180750</td>\n",
       "    </tr>\n",
       "    <tr>\n",
       "      <th>1</th>\n",
       "      <td>9180793</td>\n",
       "    </tr>\n",
       "    <tr>\n",
       "      <th>2</th>\n",
       "      <td>9180833</td>\n",
       "    </tr>\n",
       "    <tr>\n",
       "      <th>3</th>\n",
       "      <td>9180838</td>\n",
       "    </tr>\n",
       "    <tr>\n",
       "      <th>4</th>\n",
       "      <td>9180844</td>\n",
       "    </tr>\n",
       "    <tr>\n",
       "      <th>...</th>\n",
       "      <td>...</td>\n",
       "    </tr>\n",
       "    <tr>\n",
       "      <th>1904</th>\n",
       "      <td>GGOEAAQB036117</td>\n",
       "    </tr>\n",
       "    <tr>\n",
       "      <th>1905</th>\n",
       "      <td>GGOEGAAC075815</td>\n",
       "    </tr>\n",
       "    <tr>\n",
       "      <th>1906</th>\n",
       "      <td>GGOEGAUC057712</td>\n",
       "    </tr>\n",
       "    <tr>\n",
       "      <th>1907</th>\n",
       "      <td>10 14157</td>\n",
       "    </tr>\n",
       "    <tr>\n",
       "      <th>1908</th>\n",
       "      <td>GGOEGAPC058815</td>\n",
       "    </tr>\n",
       "  </tbody>\n",
       "</table>\n",
       "<p>1909 rows × 1 columns</p>\n",
       "</div>"
      ],
      "text/plain": [
       "          productSKU\n",
       "0            9180750\n",
       "1            9180793\n",
       "2            9180833\n",
       "3            9180838\n",
       "4            9180844\n",
       "...              ...\n",
       "1904  GGOEAAQB036117\n",
       "1905  GGOEGAAC075815\n",
       "1906  GGOEGAUC057712\n",
       "1907        10 14157\n",
       "1908  GGOEGAPC058815\n",
       "\n",
       "[1909 rows x 1 columns]"
      ]
     },
     "execution_count": 13,
     "metadata": {},
     "output_type": "execute_result"
    }
   ],
   "source": [
    "%%bigquery\n",
    "SELECT\n",
    "DISTINCT\n",
    "productSKU\n",
    "FROM `data-to-insights.ecommerce.all_sessions_raw`"
   ]
  },
  {
   "attachments": {},
   "cell_type": "markdown",
   "metadata": {},
   "source": [
    "Hmmm...you have 1,909 distinct SKUs which is less than the 2,273 number for total number of products on the website. The first results probably contain products with duplicate SKUs.\n",
    "\n",
    "- Take an even closer look at the records. Determine which products have more than one SKU and which SKUs have more than one product.\n",
    "\n",
    "- let's determine if some product names have more than one SKU. Notice ou use the STRING_AGG() function to aggregate all the product SKUs that are associated with one product name."
   ]
  },
  {
   "cell_type": "code",
   "execution_count": 14,
   "metadata": {},
   "outputs": [
    {
     "data": {
      "application/vnd.jupyter.widget-view+json": {
       "model_id": "6852772ab830454da9805e845ffb8c1e",
       "version_major": 2,
       "version_minor": 0
      },
      "text/plain": [
       "Query is running:   0%|          |"
      ]
     },
     "metadata": {},
     "output_type": "display_data"
    },
    {
     "data": {
      "application/vnd.jupyter.widget-view+json": {
       "model_id": "d9bb545b9ecf4c068643d71e50991b52",
       "version_major": 2,
       "version_minor": 0
      },
      "text/plain": [
       "Downloading:   0%|          |"
      ]
     },
     "metadata": {},
     "output_type": "display_data"
    },
    {
     "data": {
      "text/html": [
       "<div>\n",
       "<style scoped>\n",
       "    .dataframe tbody tr th:only-of-type {\n",
       "        vertical-align: middle;\n",
       "    }\n",
       "\n",
       "    .dataframe tbody tr th {\n",
       "        vertical-align: top;\n",
       "    }\n",
       "\n",
       "    .dataframe thead th {\n",
       "        text-align: right;\n",
       "    }\n",
       "</style>\n",
       "<table border=\"1\" class=\"dataframe\">\n",
       "  <thead>\n",
       "    <tr style=\"text-align: right;\">\n",
       "      <th></th>\n",
       "      <th>SKU_count</th>\n",
       "      <th>SKU</th>\n",
       "      <th>v2ProductName</th>\n",
       "    </tr>\n",
       "  </thead>\n",
       "  <tbody>\n",
       "    <tr>\n",
       "      <th>0</th>\n",
       "      <td>12</td>\n",
       "      <td>9184707,9184710,9184711,GGOEWALJ083416,9184709</td>\n",
       "      <td>Waze Women's Typography Short Sleeve Tee</td>\n",
       "    </tr>\n",
       "    <tr>\n",
       "      <th>1</th>\n",
       "      <td>10</td>\n",
       "      <td>9182739,GGOEGADJ056813,GGOEGADJ056815,GGOEGADJ...</td>\n",
       "      <td>Google Men's Watershed Full Zip Hoodie Grey</td>\n",
       "    </tr>\n",
       "    <tr>\n",
       "      <th>2</th>\n",
       "      <td>10</td>\n",
       "      <td>GGOEGAAX0282,GGOEAAEJ028214,9182759,9182179,91...</td>\n",
       "      <td>Android Women's Short Sleeve Badge Tee Dark He...</td>\n",
       "    </tr>\n",
       "    <tr>\n",
       "      <th>3</th>\n",
       "      <td>10</td>\n",
       "      <td>9180829,GGOEGHGC019799,GGOEGHGH019699,GGOEGHGT...</td>\n",
       "      <td>Google Sunglasses</td>\n",
       "    </tr>\n",
       "    <tr>\n",
       "      <th>4</th>\n",
       "      <td>10</td>\n",
       "      <td>GGOEGAPL058514,GGOEGAPL058513,GGOEGAPL058516,G...</td>\n",
       "      <td>Google Women's Insulated Thermal Vest Navy</td>\n",
       "    </tr>\n",
       "    <tr>\n",
       "      <th>...</th>\n",
       "      <td>...</td>\n",
       "      <td>...</td>\n",
       "      <td>...</td>\n",
       "    </tr>\n",
       "    <tr>\n",
       "      <th>488</th>\n",
       "      <td>2</td>\n",
       "      <td>9180752,GGOEADHJ015599</td>\n",
       "      <td>Android 24 oz Button Lid Sport Water Bottle Smoke</td>\n",
       "    </tr>\n",
       "    <tr>\n",
       "      <th>489</th>\n",
       "      <td>2</td>\n",
       "      <td>GGOEGHPL003113,9181574</td>\n",
       "      <td>Google Stretch Fit Hat S/M Navy</td>\n",
       "    </tr>\n",
       "    <tr>\n",
       "      <th>490</th>\n",
       "      <td>2</td>\n",
       "      <td>9180751,GGOEADHH015499</td>\n",
       "      <td>Android 24 oz Button Lid Sport Water Bottle Green</td>\n",
       "    </tr>\n",
       "    <tr>\n",
       "      <th>491</th>\n",
       "      <td>2</td>\n",
       "      <td>GGOEGAAX0579,9182773</td>\n",
       "      <td>Google Women's Badge Performance Tee Charcoal</td>\n",
       "    </tr>\n",
       "    <tr>\n",
       "      <th>492</th>\n",
       "      <td>2</td>\n",
       "      <td>10 52048,10 52246</td>\n",
       "      <td>Porcelain Mosaic Mug</td>\n",
       "    </tr>\n",
       "  </tbody>\n",
       "</table>\n",
       "<p>493 rows × 3 columns</p>\n",
       "</div>"
      ],
      "text/plain": [
       "     SKU_count                                                SKU  \\\n",
       "0           12     9184707,9184710,9184711,GGOEWALJ083416,9184709   \n",
       "1           10  9182739,GGOEGADJ056813,GGOEGADJ056815,GGOEGADJ...   \n",
       "2           10  GGOEGAAX0282,GGOEAAEJ028214,9182759,9182179,91...   \n",
       "3           10  9180829,GGOEGHGC019799,GGOEGHGH019699,GGOEGHGT...   \n",
       "4           10  GGOEGAPL058514,GGOEGAPL058513,GGOEGAPL058516,G...   \n",
       "..         ...                                                ...   \n",
       "488          2                             9180752,GGOEADHJ015599   \n",
       "489          2                             GGOEGHPL003113,9181574   \n",
       "490          2                             9180751,GGOEADHH015499   \n",
       "491          2                               GGOEGAAX0579,9182773   \n",
       "492          2                                  10 52048,10 52246   \n",
       "\n",
       "                                         v2ProductName  \n",
       "0             Waze Women's Typography Short Sleeve Tee  \n",
       "1          Google Men's Watershed Full Zip Hoodie Grey  \n",
       "2    Android Women's Short Sleeve Badge Tee Dark He...  \n",
       "3                                    Google Sunglasses  \n",
       "4           Google Women's Insulated Thermal Vest Navy  \n",
       "..                                                 ...  \n",
       "488  Android 24 oz Button Lid Sport Water Bottle Smoke  \n",
       "489                    Google Stretch Fit Hat S/M Navy  \n",
       "490  Android 24 oz Button Lid Sport Water Bottle Green  \n",
       "491      Google Women's Badge Performance Tee Charcoal  \n",
       "492                               Porcelain Mosaic Mug  \n",
       "\n",
       "[493 rows x 3 columns]"
      ]
     },
     "execution_count": 14,
     "metadata": {},
     "output_type": "execute_result"
    }
   ],
   "source": [
    "%%bigquery\n",
    "SELECT\n",
    "DISTINCT\n",
    "COUNT(DISTINCT productSKU) AS SKU_count,\n",
    "STRING_AGG(DISTINCT productSKU LIMIT 5) AS SKU,\n",
    "v2ProductName\n",
    "FROM `data-to-insights.ecommerce.all_sessions_raw`\n",
    "WHERE productSKU IS NOT NULL\n",
    "GROUP BY v2ProductName\n",
    "HAVING SKU_count > 1\n",
    "ORDER BY SKU_count DESC\n",
    "# product name is not unique (expected for variants)"
   ]
  },
  {
   "cell_type": "markdown",
   "metadata": {},
   "source": [
    "Do some product names have more than one SKU? Look at the query results to confirm.\n",
    "\n",
    "Answer: Yes\n",
    "\n",
    "It may also be true that one product name be associated with more than one SKU. This can happen due to variation. For example, one product name (e.g. T-Shirt) can have multiple product variants like color, size, etc. You would expect one product to have many SKUs.\n",
    "\n"
   ]
  },
  {
   "cell_type": "code",
   "execution_count": 15,
   "metadata": {},
   "outputs": [
    {
     "data": {
      "application/vnd.jupyter.widget-view+json": {
       "model_id": "3a86148d4cc7461fbfe149b6df2e77cb",
       "version_major": 2,
       "version_minor": 0
      },
      "text/plain": [
       "Query is running:   0%|          |"
      ]
     },
     "metadata": {},
     "output_type": "display_data"
    },
    {
     "data": {
      "application/vnd.jupyter.widget-view+json": {
       "model_id": "cfef7939ded54fb0b20b2408525ca664",
       "version_major": 2,
       "version_minor": 0
      },
      "text/plain": [
       "Downloading:   0%|          |"
      ]
     },
     "metadata": {},
     "output_type": "display_data"
    },
    {
     "data": {
      "text/html": [
       "<div>\n",
       "<style scoped>\n",
       "    .dataframe tbody tr th:only-of-type {\n",
       "        vertical-align: middle;\n",
       "    }\n",
       "\n",
       "    .dataframe tbody tr th {\n",
       "        vertical-align: top;\n",
       "    }\n",
       "\n",
       "    .dataframe thead th {\n",
       "        text-align: right;\n",
       "    }\n",
       "</style>\n",
       "<table border=\"1\" class=\"dataframe\">\n",
       "  <thead>\n",
       "    <tr style=\"text-align: right;\">\n",
       "      <th></th>\n",
       "      <th>product_count</th>\n",
       "      <th>product_name</th>\n",
       "      <th>productSKU</th>\n",
       "    </tr>\n",
       "  </thead>\n",
       "  <tbody>\n",
       "    <tr>\n",
       "      <th>0</th>\n",
       "      <td>3</td>\n",
       "      <td>7&amp;quot; Dog Frisbee,Google 7-inch Dog Flying D...</td>\n",
       "      <td>GGOEGAAX0098</td>\n",
       "    </tr>\n",
       "    <tr>\n",
       "      <th>1</th>\n",
       "      <td>3</td>\n",
       "      <td>Waterpoof Gear Bag,Waterproof Gear Bag,Google ...</td>\n",
       "      <td>GGOEGBMC056599</td>\n",
       "    </tr>\n",
       "    <tr>\n",
       "      <th>2</th>\n",
       "      <td>3</td>\n",
       "      <td>Set of 3 Nested Travel Cases,BRIGHTtravels Set...</td>\n",
       "      <td>GGOEGCLB020832</td>\n",
       "    </tr>\n",
       "    <tr>\n",
       "      <th>3</th>\n",
       "      <td>3</td>\n",
       "      <td>Micro Wireless Earbud,Micro Wireless Earbuds,A...</td>\n",
       "      <td>GGOEGEVA022399</td>\n",
       "    </tr>\n",
       "    <tr>\n",
       "      <th>4</th>\n",
       "      <td>3</td>\n",
       "      <td>Nest® Learning Thermostat 3rd Gen-USA,Nest® Le...</td>\n",
       "      <td>GGOENEBJ079499</td>\n",
       "    </tr>\n",
       "    <tr>\n",
       "      <th>...</th>\n",
       "      <td>...</td>\n",
       "      <td>...</td>\n",
       "      <td>...</td>\n",
       "    </tr>\n",
       "    <tr>\n",
       "      <th>342</th>\n",
       "      <td>2</td>\n",
       "      <td>Google Women's Short Sleeve Performance Tee Pe...</td>\n",
       "      <td>9182769</td>\n",
       "    </tr>\n",
       "    <tr>\n",
       "      <th>343</th>\n",
       "      <td>2</td>\n",
       "      <td>Google Men's Short Sleeve Performance Badge Te...</td>\n",
       "      <td>9182747</td>\n",
       "    </tr>\n",
       "    <tr>\n",
       "      <th>344</th>\n",
       "      <td>2</td>\n",
       "      <td>Google Men's Performance Badge Tee Navy,Google...</td>\n",
       "      <td>9182749</td>\n",
       "    </tr>\n",
       "    <tr>\n",
       "      <th>345</th>\n",
       "      <td>2</td>\n",
       "      <td>YouTube Men's Short Sleeve Hero Tee  White,You...</td>\n",
       "      <td>GGOEYAAQ031717</td>\n",
       "    </tr>\n",
       "    <tr>\n",
       "      <th>346</th>\n",
       "      <td>2</td>\n",
       "      <td>Collapsible Shopping Bag,Latitudes Foldaway Sh...</td>\n",
       "      <td>9180763</td>\n",
       "    </tr>\n",
       "  </tbody>\n",
       "</table>\n",
       "<p>347 rows × 3 columns</p>\n",
       "</div>"
      ],
      "text/plain": [
       "     product_count                                       product_name  \\\n",
       "0                3  7&quot; Dog Frisbee,Google 7-inch Dog Flying D...   \n",
       "1                3  Waterpoof Gear Bag,Waterproof Gear Bag,Google ...   \n",
       "2                3  Set of 3 Nested Travel Cases,BRIGHTtravels Set...   \n",
       "3                3  Micro Wireless Earbud,Micro Wireless Earbuds,A...   \n",
       "4                3  Nest® Learning Thermostat 3rd Gen-USA,Nest® Le...   \n",
       "..             ...                                                ...   \n",
       "342              2  Google Women's Short Sleeve Performance Tee Pe...   \n",
       "343              2  Google Men's Short Sleeve Performance Badge Te...   \n",
       "344              2  Google Men's Performance Badge Tee Navy,Google...   \n",
       "345              2  YouTube Men's Short Sleeve Hero Tee  White,You...   \n",
       "346              2  Collapsible Shopping Bag,Latitudes Foldaway Sh...   \n",
       "\n",
       "         productSKU  \n",
       "0      GGOEGAAX0098  \n",
       "1    GGOEGBMC056599  \n",
       "2    GGOEGCLB020832  \n",
       "3    GGOEGEVA022399  \n",
       "4    GGOENEBJ079499  \n",
       "..              ...  \n",
       "342         9182769  \n",
       "343         9182747  \n",
       "344         9182749  \n",
       "345  GGOEYAAQ031717  \n",
       "346         9180763  \n",
       "\n",
       "[347 rows x 3 columns]"
      ]
     },
     "execution_count": 15,
     "metadata": {},
     "output_type": "execute_result"
    }
   ],
   "source": [
    "%%bigquery\n",
    "SELECT\n",
    "DISTINCT\n",
    "COUNT(DISTINCT v2ProductName) AS product_count,\n",
    "STRING_AGG(DISTINCT v2ProductName LIMIT 5) AS product_name,\n",
    "productSKU\n",
    "FROM `data-to-insights.ecommerce.all_sessions_raw`\n",
    "WHERE v2ProductName IS NOT NULL\n",
    "GROUP BY productSKU\n",
    "HAVING product_count > 1\n",
    "ORDER BY product_count DESC\n",
    "# SKU is not unique (indicates data quality issues)"
   ]
  },
  {
   "cell_type": "markdown",
   "metadata": {},
   "source": [
    " it looks like there are quite a few SKUs that have more than one product name. Several of the product names appear to be closely related with a few misspellings (e.g. Waterproof Gear Bag vs Waterproof Gear Bag).\n",
    "\n",
    "You see why this could be an issue in the next section."
   ]
  },
  {
   "attachments": {},
   "cell_type": "markdown",
   "metadata": {},
   "source": [
    "A SKU is designed to uniquely identify one product and will be the basis of your join condition when you join against other tables. Having a non-unique key can cause serious data issues.\n",
    "\n",
    "Write a query to identify all the product names for the SKU 'GGOEGPJC019099'.\n"
   ]
  },
  {
   "cell_type": "code",
   "execution_count": 16,
   "metadata": {},
   "outputs": [
    {
     "data": {
      "application/vnd.jupyter.widget-view+json": {
       "model_id": "c7c20664fe994c4f9e8b261751e49422",
       "version_major": 2,
       "version_minor": 0
      },
      "text/plain": [
       "Query is running:   0%|          |"
      ]
     },
     "metadata": {},
     "output_type": "display_data"
    },
    {
     "data": {
      "application/vnd.jupyter.widget-view+json": {
       "model_id": "25a8e6d1c70843598494a6703b1b25ae",
       "version_major": 2,
       "version_minor": 0
      },
      "text/plain": [
       "Downloading:   0%|          |"
      ]
     },
     "metadata": {},
     "output_type": "display_data"
    },
    {
     "data": {
      "text/html": [
       "<div>\n",
       "<style scoped>\n",
       "    .dataframe tbody tr th:only-of-type {\n",
       "        vertical-align: middle;\n",
       "    }\n",
       "\n",
       "    .dataframe tbody tr th {\n",
       "        vertical-align: top;\n",
       "    }\n",
       "\n",
       "    .dataframe thead th {\n",
       "        text-align: right;\n",
       "    }\n",
       "</style>\n",
       "<table border=\"1\" class=\"dataframe\">\n",
       "  <thead>\n",
       "    <tr style=\"text-align: right;\">\n",
       "      <th></th>\n",
       "      <th>v2ProductName</th>\n",
       "      <th>productSKU</th>\n",
       "    </tr>\n",
       "  </thead>\n",
       "  <tbody>\n",
       "    <tr>\n",
       "      <th>0</th>\n",
       "      <td>7\" Dog Frisbee</td>\n",
       "      <td>GGOEGPJC019099</td>\n",
       "    </tr>\n",
       "    <tr>\n",
       "      <th>1</th>\n",
       "      <td>7&amp;quot; Dog Frisbee</td>\n",
       "      <td>GGOEGPJC019099</td>\n",
       "    </tr>\n",
       "    <tr>\n",
       "      <th>2</th>\n",
       "      <td>Google 7-inch Dog Flying Disc Blue</td>\n",
       "      <td>GGOEGPJC019099</td>\n",
       "    </tr>\n",
       "  </tbody>\n",
       "</table>\n",
       "</div>"
      ],
      "text/plain": [
       "                        v2ProductName      productSKU\n",
       "0                      7\" Dog Frisbee  GGOEGPJC019099\n",
       "1                 7&quot; Dog Frisbee  GGOEGPJC019099\n",
       "2  Google 7-inch Dog Flying Disc Blue  GGOEGPJC019099"
      ]
     },
     "execution_count": 16,
     "metadata": {},
     "output_type": "execute_result"
    }
   ],
   "source": [
    "%%bigquery\n",
    "SELECT DISTINCT\n",
    "v2ProductName,\n",
    "productSKU\n",
    "FROM `data-to-insights.ecommerce.all_sessions_raw`\n",
    "WHERE productSKU = 'GGOEGPJC019099'"
   ]
  },
  {
   "attachments": {},
   "cell_type": "markdown",
   "metadata": {},
   "source": [
    "From the query results, it looks like there are three different names for the same product. In this example, there is a special character in one name and a slightly different name for another:\n",
    "\n",
    "See the impact of joining on a dataset with multiple products for a single SKU. First, explore the product inventory dataset (the products table) to see if this SKU is unique there."
   ]
  },
  {
   "cell_type": "code",
   "execution_count": 19,
   "metadata": {},
   "outputs": [
    {
     "data": {
      "application/vnd.jupyter.widget-view+json": {
       "model_id": "4745c1536b074fdab65f15744e4d6aea",
       "version_major": 2,
       "version_minor": 0
      },
      "text/plain": [
       "Query is running:   0%|          |"
      ]
     },
     "metadata": {},
     "output_type": "display_data"
    },
    {
     "data": {
      "application/vnd.jupyter.widget-view+json": {
       "model_id": "ce029a3971c7474fb496fa7240e755d7",
       "version_major": 2,
       "version_minor": 0
      },
      "text/plain": [
       "Downloading:   0%|          |"
      ]
     },
     "metadata": {},
     "output_type": "display_data"
    },
    {
     "data": {
      "text/html": [
       "<div>\n",
       "<style scoped>\n",
       "    .dataframe tbody tr th:only-of-type {\n",
       "        vertical-align: middle;\n",
       "    }\n",
       "\n",
       "    .dataframe tbody tr th {\n",
       "        vertical-align: top;\n",
       "    }\n",
       "\n",
       "    .dataframe thead th {\n",
       "        text-align: right;\n",
       "    }\n",
       "</style>\n",
       "<table border=\"1\" class=\"dataframe\">\n",
       "  <thead>\n",
       "    <tr style=\"text-align: right;\">\n",
       "      <th></th>\n",
       "      <th>SKU</th>\n",
       "      <th>name</th>\n",
       "      <th>orderedQuantity</th>\n",
       "      <th>stockLevel</th>\n",
       "      <th>restockingLeadTime</th>\n",
       "      <th>sentimentScore</th>\n",
       "      <th>sentimentMagnitude</th>\n",
       "    </tr>\n",
       "  </thead>\n",
       "  <tbody>\n",
       "    <tr>\n",
       "      <th>0</th>\n",
       "      <td>GGOEGPJC019099</td>\n",
       "      <td>7\" Dog Frisbee</td>\n",
       "      <td>133</td>\n",
       "      <td>154</td>\n",
       "      <td>11</td>\n",
       "      <td>0.8</td>\n",
       "      <td>0.3</td>\n",
       "    </tr>\n",
       "  </tbody>\n",
       "</table>\n",
       "</div>"
      ],
      "text/plain": [
       "              SKU            name  orderedQuantity  stockLevel  \\\n",
       "0  GGOEGPJC019099  7\" Dog Frisbee              133         154   \n",
       "\n",
       "   restockingLeadTime  sentimentScore  sentimentMagnitude  \n",
       "0                  11             0.8                 0.3  "
      ]
     },
     "execution_count": 19,
     "metadata": {},
     "output_type": "execute_result"
    }
   ],
   "source": [
    "%%bigquery\n",
    "#standardSQL\n",
    "# join in another table\n",
    "# products (has inventory)\n",
    "SELECT * FROM `data-to-insights.ecommerce.products`\n",
    "WHERE SKU = 'GGOEGPJC019099'"
   ]
  },
  {
   "attachments": {},
   "cell_type": "markdown",
   "metadata": {},
   "source": [
    "**Join pitfall: Unintentional many-to-one SKU relationship**\n",
    "\n",
    "Next, join the inventory dataset against your website product names and SKUs so you can have the inventory stock level associated with each product for sale on the website."
   ]
  },
  {
   "cell_type": "code",
   "execution_count": 20,
   "metadata": {},
   "outputs": [
    {
     "data": {
      "application/vnd.jupyter.widget-view+json": {
       "model_id": "3a90bf84c9b44326a4aec3a908318658",
       "version_major": 2,
       "version_minor": 0
      },
      "text/plain": [
       "Query is running:   0%|          |"
      ]
     },
     "metadata": {},
     "output_type": "display_data"
    },
    {
     "data": {
      "application/vnd.jupyter.widget-view+json": {
       "model_id": "f4f81bf6eba04b76957b4e3e7b5842d0",
       "version_major": 2,
       "version_minor": 0
      },
      "text/plain": [
       "Downloading:   0%|          |"
      ]
     },
     "metadata": {},
     "output_type": "display_data"
    },
    {
     "data": {
      "text/html": [
       "<div>\n",
       "<style scoped>\n",
       "    .dataframe tbody tr th:only-of-type {\n",
       "        vertical-align: middle;\n",
       "    }\n",
       "\n",
       "    .dataframe tbody tr th {\n",
       "        vertical-align: top;\n",
       "    }\n",
       "\n",
       "    .dataframe thead th {\n",
       "        text-align: right;\n",
       "    }\n",
       "</style>\n",
       "<table border=\"1\" class=\"dataframe\">\n",
       "  <thead>\n",
       "    <tr style=\"text-align: right;\">\n",
       "      <th></th>\n",
       "      <th>v2ProductName</th>\n",
       "      <th>productSKU</th>\n",
       "      <th>stockLevel</th>\n",
       "    </tr>\n",
       "  </thead>\n",
       "  <tbody>\n",
       "    <tr>\n",
       "      <th>0</th>\n",
       "      <td>Google 7-inch Dog Flying Disc Blue</td>\n",
       "      <td>GGOEGPJC019099</td>\n",
       "      <td>154</td>\n",
       "    </tr>\n",
       "    <tr>\n",
       "      <th>1</th>\n",
       "      <td>7\" Dog Frisbee</td>\n",
       "      <td>GGOEGPJC019099</td>\n",
       "      <td>154</td>\n",
       "    </tr>\n",
       "    <tr>\n",
       "      <th>2</th>\n",
       "      <td>7&amp;quot; Dog Frisbee</td>\n",
       "      <td>GGOEGPJC019099</td>\n",
       "      <td>154</td>\n",
       "    </tr>\n",
       "  </tbody>\n",
       "</table>\n",
       "</div>"
      ],
      "text/plain": [
       "                        v2ProductName      productSKU  stockLevel\n",
       "0  Google 7-inch Dog Flying Disc Blue  GGOEGPJC019099         154\n",
       "1                      7\" Dog Frisbee  GGOEGPJC019099         154\n",
       "2                 7&quot; Dog Frisbee  GGOEGPJC019099         154"
      ]
     },
     "execution_count": 20,
     "metadata": {},
     "output_type": "execute_result"
    }
   ],
   "source": [
    "%%bigquery\n",
    "SELECT DISTINCT\n",
    "website.v2ProductName,\n",
    "website.productSKU,\n",
    "inventory.stockLevel\n",
    "FROM `data-to-insights.ecommerce.all_sessions_raw` AS website\n",
    "JOIN `data-to-insights.ecommerce.products` AS inventory\n",
    "ON website.productSKU = inventory.SKU\n",
    "WHERE productSKU = 'GGOEGPJC019099'"
   ]
  },
  {
   "cell_type": "markdown",
   "metadata": {},
   "source": [
    "What happens when you join the website table and the product inventory table on SKU? Do you now have inventory stock levels for the product?\n",
    "\n",
    "Answer: Yes but the stockLevel is showing three times (one for each record)!\n",
    "\n",
    "Next, run a query that shows the total stock level for each item in inventory.\n",
    "\n"
   ]
  },
  {
   "cell_type": "code",
   "execution_count": 21,
   "metadata": {},
   "outputs": [
    {
     "data": {
      "application/vnd.jupyter.widget-view+json": {
       "model_id": "149c538874b24aeaa281c8f182ddcc34",
       "version_major": 2,
       "version_minor": 0
      },
      "text/plain": [
       "Query is running:   0%|          |"
      ]
     },
     "metadata": {},
     "output_type": "display_data"
    },
    {
     "data": {
      "application/vnd.jupyter.widget-view+json": {
       "model_id": "426c23e9fc864495bce34549c49bacf6",
       "version_major": 2,
       "version_minor": 0
      },
      "text/plain": [
       "Downloading:   0%|          |"
      ]
     },
     "metadata": {},
     "output_type": "display_data"
    },
    {
     "data": {
      "text/html": [
       "<div>\n",
       "<style scoped>\n",
       "    .dataframe tbody tr th:only-of-type {\n",
       "        vertical-align: middle;\n",
       "    }\n",
       "\n",
       "    .dataframe tbody tr th {\n",
       "        vertical-align: top;\n",
       "    }\n",
       "\n",
       "    .dataframe thead th {\n",
       "        text-align: right;\n",
       "    }\n",
       "</style>\n",
       "<table border=\"1\" class=\"dataframe\">\n",
       "  <thead>\n",
       "    <tr style=\"text-align: right;\">\n",
       "      <th></th>\n",
       "      <th>productSKU</th>\n",
       "      <th>total_inventory</th>\n",
       "    </tr>\n",
       "  </thead>\n",
       "  <tbody>\n",
       "    <tr>\n",
       "      <th>0</th>\n",
       "      <td>GGOEGPJC019099</td>\n",
       "      <td>462</td>\n",
       "    </tr>\n",
       "  </tbody>\n",
       "</table>\n",
       "</div>"
      ],
      "text/plain": [
       "       productSKU  total_inventory\n",
       "0  GGOEGPJC019099              462"
      ]
     },
     "execution_count": 21,
     "metadata": {},
     "output_type": "execute_result"
    }
   ],
   "source": [
    "%%bigquery\n",
    "#standardSQL\n",
    "SELECT\n",
    "  productSKU,\n",
    "  SUM(stockLevel) AS total_inventory\n",
    "FROM (\n",
    "  SELECT DISTINCT\n",
    "  website.v2ProductName,\n",
    "  website.productSKU,\n",
    "  inventory.stockLevel\n",
    "  FROM `data-to-insights.ecommerce.all_sessions_raw` AS website\n",
    "  JOIN `data-to-insights.ecommerce.products` AS inventory\n",
    "  ON website.productSKU = inventory.SKU\n",
    "  WHERE productSKU = 'GGOEGPJC019099'\n",
    ")\n",
    "GROUP BY productSKU"
   ]
  },
  {
   "cell_type": "markdown",
   "metadata": {},
   "source": [
    "It is 154 x 3 = 462 or triple counting. This is called an unintentional cross join\n",
    "\n"
   ]
  },
  {
   "attachments": {},
   "cell_type": "markdown",
   "metadata": {},
   "source": [
    "**Join pitfall solution: use distinct SKUs before joining**\n",
    "What are the options to solve your triple counting dilemma? First, you need to only select distinct SKUs from the website before joining on other datasets.\n",
    "\n",
    "Write a query to return the count of distinct productSKU from data-to-insights.ecommerce.all_sessions_raw.\n"
   ]
  },
  {
   "cell_type": "code",
   "execution_count": 22,
   "metadata": {},
   "outputs": [
    {
     "data": {
      "application/vnd.jupyter.widget-view+json": {
       "model_id": "69f439aacf2142b8bbb0e2d421036ce6",
       "version_major": 2,
       "version_minor": 0
      },
      "text/plain": [
       "Query is running:   0%|          |"
      ]
     },
     "metadata": {},
     "output_type": "display_data"
    },
    {
     "data": {
      "application/vnd.jupyter.widget-view+json": {
       "model_id": "051b194b69954f289e75881d7e1d2aaf",
       "version_major": 2,
       "version_minor": 0
      },
      "text/plain": [
       "Downloading:   0%|          |"
      ]
     },
     "metadata": {},
     "output_type": "display_data"
    },
    {
     "data": {
      "text/html": [
       "<div>\n",
       "<style scoped>\n",
       "    .dataframe tbody tr th:only-of-type {\n",
       "        vertical-align: middle;\n",
       "    }\n",
       "\n",
       "    .dataframe tbody tr th {\n",
       "        vertical-align: top;\n",
       "    }\n",
       "\n",
       "    .dataframe thead th {\n",
       "        text-align: right;\n",
       "    }\n",
       "</style>\n",
       "<table border=\"1\" class=\"dataframe\">\n",
       "  <thead>\n",
       "    <tr style=\"text-align: right;\">\n",
       "      <th></th>\n",
       "      <th>distinct_sku_count</th>\n",
       "    </tr>\n",
       "  </thead>\n",
       "  <tbody>\n",
       "    <tr>\n",
       "      <th>0</th>\n",
       "      <td>1909</td>\n",
       "    </tr>\n",
       "  </tbody>\n",
       "</table>\n",
       "</div>"
      ],
      "text/plain": [
       "   distinct_sku_count\n",
       "0                1909"
      ]
     },
     "execution_count": 22,
     "metadata": {},
     "output_type": "execute_result"
    }
   ],
   "source": [
    "%%bigquery\n",
    "#standardSQL\n",
    "SELECT\n",
    "COUNT(DISTINCT website.productSKU) AS distinct_sku_count\n",
    "FROM `data-to-insights.ecommerce.all_sessions_raw` AS website"
   ]
  },
  {
   "attachments": {},
   "cell_type": "markdown",
   "metadata": {},
   "source": [
    "**Join pitfall: Losing data records after a join**\n",
    "\n",
    "Now you're ready to join against your product inventory dataset again."
   ]
  },
  {
   "cell_type": "code",
   "execution_count": 23,
   "metadata": {},
   "outputs": [
    {
     "data": {
      "application/vnd.jupyter.widget-view+json": {
       "model_id": "fe431a5358c74f80aa31c6398d41eb39",
       "version_major": 2,
       "version_minor": 0
      },
      "text/plain": [
       "Query is running:   0%|          |"
      ]
     },
     "metadata": {},
     "output_type": "display_data"
    },
    {
     "data": {
      "application/vnd.jupyter.widget-view+json": {
       "model_id": "8552fe081dd04c0cb76eb0ec49b145c1",
       "version_major": 2,
       "version_minor": 0
      },
      "text/plain": [
       "Downloading:   0%|          |"
      ]
     },
     "metadata": {},
     "output_type": "display_data"
    },
    {
     "data": {
      "text/html": [
       "<div>\n",
       "<style scoped>\n",
       "    .dataframe tbody tr th:only-of-type {\n",
       "        vertical-align: middle;\n",
       "    }\n",
       "\n",
       "    .dataframe tbody tr th {\n",
       "        vertical-align: top;\n",
       "    }\n",
       "\n",
       "    .dataframe thead th {\n",
       "        text-align: right;\n",
       "    }\n",
       "</style>\n",
       "<table border=\"1\" class=\"dataframe\">\n",
       "  <thead>\n",
       "    <tr style=\"text-align: right;\">\n",
       "      <th></th>\n",
       "      <th>productSKU</th>\n",
       "    </tr>\n",
       "  </thead>\n",
       "  <tbody>\n",
       "    <tr>\n",
       "      <th>0</th>\n",
       "      <td>9180793</td>\n",
       "    </tr>\n",
       "    <tr>\n",
       "      <th>1</th>\n",
       "      <td>9180833</td>\n",
       "    </tr>\n",
       "    <tr>\n",
       "      <th>2</th>\n",
       "      <td>9180838</td>\n",
       "    </tr>\n",
       "    <tr>\n",
       "      <th>3</th>\n",
       "      <td>9180840</td>\n",
       "    </tr>\n",
       "    <tr>\n",
       "      <th>4</th>\n",
       "      <td>9180844</td>\n",
       "    </tr>\n",
       "    <tr>\n",
       "      <th>...</th>\n",
       "      <td>...</td>\n",
       "    </tr>\n",
       "    <tr>\n",
       "      <th>1085</th>\n",
       "      <td>GGOEGAEJ028916</td>\n",
       "    </tr>\n",
       "    <tr>\n",
       "      <th>1086</th>\n",
       "      <td>GGOEGAUC057717</td>\n",
       "    </tr>\n",
       "    <tr>\n",
       "      <th>1087</th>\n",
       "      <td>GGOEAAWT061754</td>\n",
       "    </tr>\n",
       "    <tr>\n",
       "      <th>1088</th>\n",
       "      <td>GGOEGALJ072916</td>\n",
       "    </tr>\n",
       "    <tr>\n",
       "      <th>1089</th>\n",
       "      <td>GGOEGATH060717</td>\n",
       "    </tr>\n",
       "  </tbody>\n",
       "</table>\n",
       "<p>1090 rows × 1 columns</p>\n",
       "</div>"
      ],
      "text/plain": [
       "          productSKU\n",
       "0            9180793\n",
       "1            9180833\n",
       "2            9180838\n",
       "3            9180840\n",
       "4            9180844\n",
       "...              ...\n",
       "1085  GGOEGAEJ028916\n",
       "1086  GGOEGAUC057717\n",
       "1087  GGOEAAWT061754\n",
       "1088  GGOEGALJ072916\n",
       "1089  GGOEGATH060717\n",
       "\n",
       "[1090 rows x 1 columns]"
      ]
     },
     "execution_count": 23,
     "metadata": {},
     "output_type": "execute_result"
    }
   ],
   "source": [
    "%%bigquery\n",
    "#standardSQL\n",
    "SELECT DISTINCT\n",
    "website.productSKU\n",
    "FROM `data-to-insights.ecommerce.all_sessions_raw` AS website\n",
    "JOIN `data-to-insights.ecommerce.products` AS inventory\n",
    "ON website.productSKU = inventory.SKU"
   ]
  },
  {
   "cell_type": "markdown",
   "metadata": {},
   "source": [
    "How many records were returned? All 1,909 distinct SKUs?\n",
    "\n",
    "Answer: No, just 1,090 records\n",
    "\n",
    "You lost 819 SKUs after joining the datasets, investigate by adding more specificity in your fields."
   ]
  },
  {
   "cell_type": "code",
   "execution_count": 24,
   "metadata": {},
   "outputs": [
    {
     "data": {
      "application/vnd.jupyter.widget-view+json": {
       "model_id": "ac40bccc202848e5a486d4c5ca1870fc",
       "version_major": 2,
       "version_minor": 0
      },
      "text/plain": [
       "Query is running:   0%|          |"
      ]
     },
     "metadata": {},
     "output_type": "display_data"
    },
    {
     "data": {
      "application/vnd.jupyter.widget-view+json": {
       "model_id": "6f87a844238547a4ad5af27a780f40e5",
       "version_major": 2,
       "version_minor": 0
      },
      "text/plain": [
       "Downloading:   0%|          |"
      ]
     },
     "metadata": {},
     "output_type": "display_data"
    },
    {
     "data": {
      "text/html": [
       "<div>\n",
       "<style scoped>\n",
       "    .dataframe tbody tr th:only-of-type {\n",
       "        vertical-align: middle;\n",
       "    }\n",
       "\n",
       "    .dataframe tbody tr th {\n",
       "        vertical-align: top;\n",
       "    }\n",
       "\n",
       "    .dataframe thead th {\n",
       "        text-align: right;\n",
       "    }\n",
       "</style>\n",
       "<table border=\"1\" class=\"dataframe\">\n",
       "  <thead>\n",
       "    <tr style=\"text-align: right;\">\n",
       "      <th></th>\n",
       "      <th>website_SKU</th>\n",
       "      <th>inventory_SKU</th>\n",
       "    </tr>\n",
       "  </thead>\n",
       "  <tbody>\n",
       "    <tr>\n",
       "      <th>0</th>\n",
       "      <td>9180793</td>\n",
       "      <td>9180793</td>\n",
       "    </tr>\n",
       "    <tr>\n",
       "      <th>1</th>\n",
       "      <td>9180824</td>\n",
       "      <td>9180824</td>\n",
       "    </tr>\n",
       "    <tr>\n",
       "      <th>2</th>\n",
       "      <td>9181019</td>\n",
       "      <td>9181019</td>\n",
       "    </tr>\n",
       "    <tr>\n",
       "      <th>3</th>\n",
       "      <td>9182502</td>\n",
       "      <td>9182502</td>\n",
       "    </tr>\n",
       "    <tr>\n",
       "      <th>4</th>\n",
       "      <td>9182569</td>\n",
       "      <td>9182569</td>\n",
       "    </tr>\n",
       "    <tr>\n",
       "      <th>...</th>\n",
       "      <td>...</td>\n",
       "      <td>...</td>\n",
       "    </tr>\n",
       "    <tr>\n",
       "      <th>1085</th>\n",
       "      <td>GGOEYAEJ029017</td>\n",
       "      <td>GGOEYAEJ029017</td>\n",
       "    </tr>\n",
       "    <tr>\n",
       "      <th>1086</th>\n",
       "      <td>9184683</td>\n",
       "      <td>9184683</td>\n",
       "    </tr>\n",
       "    <tr>\n",
       "      <th>1087</th>\n",
       "      <td>GGOEAAEB028316</td>\n",
       "      <td>GGOEAAEB028316</td>\n",
       "    </tr>\n",
       "    <tr>\n",
       "      <th>1088</th>\n",
       "      <td>GGOEAAWT061754</td>\n",
       "      <td>GGOEAAWT061754</td>\n",
       "    </tr>\n",
       "    <tr>\n",
       "      <th>1089</th>\n",
       "      <td>GGOEYAEJ029617</td>\n",
       "      <td>GGOEYAEJ029617</td>\n",
       "    </tr>\n",
       "  </tbody>\n",
       "</table>\n",
       "<p>1090 rows × 2 columns</p>\n",
       "</div>"
      ],
      "text/plain": [
       "         website_SKU   inventory_SKU\n",
       "0            9180793         9180793\n",
       "1            9180824         9180824\n",
       "2            9181019         9181019\n",
       "3            9182502         9182502\n",
       "4            9182569         9182569\n",
       "...              ...             ...\n",
       "1085  GGOEYAEJ029017  GGOEYAEJ029017\n",
       "1086         9184683         9184683\n",
       "1087  GGOEAAEB028316  GGOEAAEB028316\n",
       "1088  GGOEAAWT061754  GGOEAAWT061754\n",
       "1089  GGOEYAEJ029617  GGOEYAEJ029617\n",
       "\n",
       "[1090 rows x 2 columns]"
      ]
     },
     "execution_count": 24,
     "metadata": {},
     "output_type": "execute_result"
    }
   ],
   "source": [
    "%%bigquery\n",
    "#standardSQL\n",
    "# pull ID fields from both tables\n",
    "SELECT DISTINCT\n",
    "website.productSKU AS website_SKU,\n",
    "inventory.SKU AS inventory_SKU\n",
    "FROM `data-to-insights.ecommerce.all_sessions_raw` AS website\n",
    "JOIN `data-to-insights.ecommerce.products` AS inventory\n",
    "ON website.productSKU = inventory.SKU\n",
    "# IDs are present in both tables, how can we dig deeper?"
   ]
  },
  {
   "cell_type": "markdown",
   "metadata": {},
   "source": [
    "It appears the SKUs are present in both of those datasets after the join.\n",
    "\n",
    "Join pitfall solution: Selecting the correct join type and filtering for NULL\n",
    "The default JOIN type is an INNER JOIN which returns records only if there is a match on both the left and the right tables that are joined.\n",
    "\n",
    "Rewrite the previous query to use a different join type to include all records from the website table, regardless of whether there is a match on a product inventory SKU record. Join type options: INNER JOIN, LEFT JOIN, RIGHT JOIN, FULL JOIN, CROSS JOIN\n"
   ]
  },
  {
   "cell_type": "code",
   "execution_count": 25,
   "metadata": {},
   "outputs": [
    {
     "data": {
      "application/vnd.jupyter.widget-view+json": {
       "model_id": "ab0940ccf8924e9e96d5ac9311a32a2e",
       "version_major": 2,
       "version_minor": 0
      },
      "text/plain": [
       "Query is running:   0%|          |"
      ]
     },
     "metadata": {},
     "output_type": "display_data"
    },
    {
     "data": {
      "application/vnd.jupyter.widget-view+json": {
       "model_id": "0153f16d6ee44c868eb5fd2196b7fcfd",
       "version_major": 2,
       "version_minor": 0
      },
      "text/plain": [
       "Downloading:   0%|          |"
      ]
     },
     "metadata": {},
     "output_type": "display_data"
    },
    {
     "data": {
      "text/html": [
       "<div>\n",
       "<style scoped>\n",
       "    .dataframe tbody tr th:only-of-type {\n",
       "        vertical-align: middle;\n",
       "    }\n",
       "\n",
       "    .dataframe tbody tr th {\n",
       "        vertical-align: top;\n",
       "    }\n",
       "\n",
       "    .dataframe thead th {\n",
       "        text-align: right;\n",
       "    }\n",
       "</style>\n",
       "<table border=\"1\" class=\"dataframe\">\n",
       "  <thead>\n",
       "    <tr style=\"text-align: right;\">\n",
       "      <th></th>\n",
       "      <th>website_SKU</th>\n",
       "      <th>inventory_SKU</th>\n",
       "    </tr>\n",
       "  </thead>\n",
       "  <tbody>\n",
       "    <tr>\n",
       "      <th>0</th>\n",
       "      <td>9180793</td>\n",
       "      <td>9180793</td>\n",
       "    </tr>\n",
       "    <tr>\n",
       "      <th>1</th>\n",
       "      <td>9180824</td>\n",
       "      <td>9180824</td>\n",
       "    </tr>\n",
       "    <tr>\n",
       "      <th>2</th>\n",
       "      <td>9181019</td>\n",
       "      <td>9181019</td>\n",
       "    </tr>\n",
       "    <tr>\n",
       "      <th>3</th>\n",
       "      <td>9182569</td>\n",
       "      <td>9182569</td>\n",
       "    </tr>\n",
       "    <tr>\n",
       "      <th>4</th>\n",
       "      <td>9182593</td>\n",
       "      <td>9182593</td>\n",
       "    </tr>\n",
       "    <tr>\n",
       "      <th>...</th>\n",
       "      <td>...</td>\n",
       "      <td>...</td>\n",
       "    </tr>\n",
       "    <tr>\n",
       "      <th>1904</th>\n",
       "      <td>9182181</td>\n",
       "      <td>None</td>\n",
       "    </tr>\n",
       "    <tr>\n",
       "      <th>1905</th>\n",
       "      <td>10 84023</td>\n",
       "      <td>None</td>\n",
       "    </tr>\n",
       "    <tr>\n",
       "      <th>1906</th>\n",
       "      <td>10 14159</td>\n",
       "      <td>None</td>\n",
       "    </tr>\n",
       "    <tr>\n",
       "      <th>1907</th>\n",
       "      <td>GGOEGAXC074829</td>\n",
       "      <td>None</td>\n",
       "    </tr>\n",
       "    <tr>\n",
       "      <th>1908</th>\n",
       "      <td>GGOEGAUC057712</td>\n",
       "      <td>None</td>\n",
       "    </tr>\n",
       "  </tbody>\n",
       "</table>\n",
       "<p>1909 rows × 2 columns</p>\n",
       "</div>"
      ],
      "text/plain": [
       "         website_SKU inventory_SKU\n",
       "0            9180793       9180793\n",
       "1            9180824       9180824\n",
       "2            9181019       9181019\n",
       "3            9182569       9182569\n",
       "4            9182593       9182593\n",
       "...              ...           ...\n",
       "1904         9182181          None\n",
       "1905        10 84023          None\n",
       "1906        10 14159          None\n",
       "1907  GGOEGAXC074829          None\n",
       "1908  GGOEGAUC057712          None\n",
       "\n",
       "[1909 rows x 2 columns]"
      ]
     },
     "execution_count": 25,
     "metadata": {},
     "output_type": "execute_result"
    }
   ],
   "source": [
    "%%bigquery\n",
    "#standardSQL\n",
    "# the secret is in the JOIN type\n",
    "# pull ID fields from both tables\n",
    "SELECT DISTINCT\n",
    "website.productSKU AS website_SKU,\n",
    "inventory.SKU AS inventory_SKU\n",
    "FROM `data-to-insights.ecommerce.all_sessions_raw` AS website\n",
    "LEFT JOIN `data-to-insights.ecommerce.products` AS inventory\n",
    "ON website.productSKU = inventory.SKU"
   ]
  },
  {
   "cell_type": "markdown",
   "metadata": {},
   "source": [
    "Write a query to filter on NULL values from the inventory table."
   ]
  },
  {
   "cell_type": "code",
   "execution_count": 26,
   "metadata": {},
   "outputs": [
    {
     "data": {
      "application/vnd.jupyter.widget-view+json": {
       "model_id": "6c524ec9ee6648e0ac05fceae84cfb88",
       "version_major": 2,
       "version_minor": 0
      },
      "text/plain": [
       "Query is running:   0%|          |"
      ]
     },
     "metadata": {},
     "output_type": "display_data"
    },
    {
     "data": {
      "application/vnd.jupyter.widget-view+json": {
       "model_id": "60d5e806e74b4033a8529375cf0b702b",
       "version_major": 2,
       "version_minor": 0
      },
      "text/plain": [
       "Downloading:   0%|          |"
      ]
     },
     "metadata": {},
     "output_type": "display_data"
    },
    {
     "data": {
      "text/html": [
       "<div>\n",
       "<style scoped>\n",
       "    .dataframe tbody tr th:only-of-type {\n",
       "        vertical-align: middle;\n",
       "    }\n",
       "\n",
       "    .dataframe tbody tr th {\n",
       "        vertical-align: top;\n",
       "    }\n",
       "\n",
       "    .dataframe thead th {\n",
       "        text-align: right;\n",
       "    }\n",
       "</style>\n",
       "<table border=\"1\" class=\"dataframe\">\n",
       "  <thead>\n",
       "    <tr style=\"text-align: right;\">\n",
       "      <th></th>\n",
       "      <th>website_SKU</th>\n",
       "      <th>inventory_SKU</th>\n",
       "    </tr>\n",
       "  </thead>\n",
       "  <tbody>\n",
       "    <tr>\n",
       "      <th>0</th>\n",
       "      <td>9182668</td>\n",
       "      <td>None</td>\n",
       "    </tr>\n",
       "    <tr>\n",
       "      <th>1</th>\n",
       "      <td>9182838</td>\n",
       "      <td>None</td>\n",
       "    </tr>\n",
       "    <tr>\n",
       "      <th>2</th>\n",
       "      <td>9183211</td>\n",
       "      <td>None</td>\n",
       "    </tr>\n",
       "    <tr>\n",
       "      <th>3</th>\n",
       "      <td>GGOEGCGB022199</td>\n",
       "      <td>None</td>\n",
       "    </tr>\n",
       "    <tr>\n",
       "      <th>4</th>\n",
       "      <td>GGOEGBJR018199</td>\n",
       "      <td>None</td>\n",
       "    </tr>\n",
       "    <tr>\n",
       "      <th>...</th>\n",
       "      <td>...</td>\n",
       "      <td>...</td>\n",
       "    </tr>\n",
       "    <tr>\n",
       "      <th>814</th>\n",
       "      <td>GGOEGAXC074855</td>\n",
       "      <td>None</td>\n",
       "    </tr>\n",
       "    <tr>\n",
       "      <th>815</th>\n",
       "      <td>GGOEGAPJ058017</td>\n",
       "      <td>None</td>\n",
       "    </tr>\n",
       "    <tr>\n",
       "      <th>816</th>\n",
       "      <td>GGOEGAXC074829</td>\n",
       "      <td>None</td>\n",
       "    </tr>\n",
       "    <tr>\n",
       "      <th>817</th>\n",
       "      <td>10 75145</td>\n",
       "      <td>None</td>\n",
       "    </tr>\n",
       "    <tr>\n",
       "      <th>818</th>\n",
       "      <td>GGOEGAPX0459</td>\n",
       "      <td>None</td>\n",
       "    </tr>\n",
       "  </tbody>\n",
       "</table>\n",
       "<p>819 rows × 2 columns</p>\n",
       "</div>"
      ],
      "text/plain": [
       "        website_SKU inventory_SKU\n",
       "0           9182668          None\n",
       "1           9182838          None\n",
       "2           9183211          None\n",
       "3    GGOEGCGB022199          None\n",
       "4    GGOEGBJR018199          None\n",
       "..              ...           ...\n",
       "814  GGOEGAXC074855          None\n",
       "815  GGOEGAPJ058017          None\n",
       "816  GGOEGAXC074829          None\n",
       "817        10 75145          None\n",
       "818    GGOEGAPX0459          None\n",
       "\n",
       "[819 rows x 2 columns]"
      ]
     },
     "execution_count": 26,
     "metadata": {},
     "output_type": "execute_result"
    }
   ],
   "source": [
    "%%bigquery\n",
    "#standardSQL\n",
    "# find product SKUs in website table but not in product inventory table\n",
    "SELECT DISTINCT\n",
    "website.productSKU AS website_SKU,\n",
    "inventory.SKU AS inventory_SKU\n",
    "FROM `data-to-insights.ecommerce.all_sessions_raw` AS website\n",
    "LEFT JOIN `data-to-insights.ecommerce.products` AS inventory\n",
    "ON website.productSKU = inventory.SKU\n",
    "WHERE inventory.SKU IS NULL"
   ]
  },
  {
   "cell_type": "markdown",
   "metadata": {},
   "source": [
    "to confirm using one of the specific SKUs from the website dataset:\n",
    "\n"
   ]
  },
  {
   "cell_type": "code",
   "execution_count": 28,
   "metadata": {},
   "outputs": [
    {
     "data": {
      "application/vnd.jupyter.widget-view+json": {
       "model_id": "c5641401582e44e0b17a1c6c8bf8070f",
       "version_major": 2,
       "version_minor": 0
      },
      "text/plain": [
       "Query is running:   0%|          |"
      ]
     },
     "metadata": {},
     "output_type": "display_data"
    },
    {
     "data": {
      "application/vnd.jupyter.widget-view+json": {
       "model_id": "24ac972e92024bd69ee02213608d49c3",
       "version_major": 2,
       "version_minor": 0
      },
      "text/plain": [
       "Downloading: |          |"
      ]
     },
     "metadata": {},
     "output_type": "display_data"
    },
    {
     "data": {
      "text/html": [
       "<div>\n",
       "<style scoped>\n",
       "    .dataframe tbody tr th:only-of-type {\n",
       "        vertical-align: middle;\n",
       "    }\n",
       "\n",
       "    .dataframe tbody tr th {\n",
       "        vertical-align: top;\n",
       "    }\n",
       "\n",
       "    .dataframe thead th {\n",
       "        text-align: right;\n",
       "    }\n",
       "</style>\n",
       "<table border=\"1\" class=\"dataframe\">\n",
       "  <thead>\n",
       "    <tr style=\"text-align: right;\">\n",
       "      <th></th>\n",
       "      <th>SKU</th>\n",
       "      <th>name</th>\n",
       "      <th>orderedQuantity</th>\n",
       "      <th>stockLevel</th>\n",
       "      <th>restockingLeadTime</th>\n",
       "      <th>sentimentScore</th>\n",
       "      <th>sentimentMagnitude</th>\n",
       "    </tr>\n",
       "  </thead>\n",
       "  <tbody>\n",
       "  </tbody>\n",
       "</table>\n",
       "</div>"
      ],
      "text/plain": [
       "Empty DataFrame\n",
       "Columns: [SKU, name, orderedQuantity, stockLevel, restockingLeadTime, sentimentScore, sentimentMagnitude]\n",
       "Index: []"
      ]
     },
     "execution_count": 28,
     "metadata": {},
     "output_type": "execute_result"
    }
   ],
   "source": [
    "%%bigquery\n",
    "#standardSQL\n",
    "# you can even pick one and confirm\n",
    "SELECT * FROM `data-to-insights.ecommerce.products`\n",
    "WHERE SKU = 'GGOEGATJ060517'\n",
    "# query returns zero results"
   ]
  },
  {
   "attachments": {},
   "cell_type": "markdown",
   "metadata": {},
   "source": [
    "Why might the product inventory dataset be missing SKUs?\n",
    "\n",
    "Answer: Unfortunately, there is no easy answer. It is most likely a business-related question:\n",
    "\n",
    "- Some SKUs could be digital products that you don't store in inventory\n",
    "- Old products you sold in past website orders are no longer offered in current inventory\n",
    "- Legitimate missing data from inventory and should be tracked\n",
    "\n",
    "Are there any products are in the product inventory dataset but missing from the website?\n",
    "\n",
    "Write a query using a different join type to investigate."
   ]
  },
  {
   "cell_type": "code",
   "execution_count": 29,
   "metadata": {},
   "outputs": [
    {
     "data": {
      "application/vnd.jupyter.widget-view+json": {
       "model_id": "fc3ac26d1fff468ca1ac369c7efb7889",
       "version_major": 2,
       "version_minor": 0
      },
      "text/plain": [
       "Query is running:   0%|          |"
      ]
     },
     "metadata": {},
     "output_type": "display_data"
    },
    {
     "data": {
      "application/vnd.jupyter.widget-view+json": {
       "model_id": "197ed4872d5f45ff86d8ffa47dcc28c2",
       "version_major": 2,
       "version_minor": 0
      },
      "text/plain": [
       "Downloading:   0%|          |"
      ]
     },
     "metadata": {},
     "output_type": "display_data"
    },
    {
     "data": {
      "text/html": [
       "<div>\n",
       "<style scoped>\n",
       "    .dataframe tbody tr th:only-of-type {\n",
       "        vertical-align: middle;\n",
       "    }\n",
       "\n",
       "    .dataframe tbody tr th {\n",
       "        vertical-align: top;\n",
       "    }\n",
       "\n",
       "    .dataframe thead th {\n",
       "        text-align: right;\n",
       "    }\n",
       "</style>\n",
       "<table border=\"1\" class=\"dataframe\">\n",
       "  <thead>\n",
       "    <tr style=\"text-align: right;\">\n",
       "      <th></th>\n",
       "      <th>website_SKU</th>\n",
       "      <th>inventory_SKU</th>\n",
       "    </tr>\n",
       "  </thead>\n",
       "  <tbody>\n",
       "    <tr>\n",
       "      <th>0</th>\n",
       "      <td>None</td>\n",
       "      <td>GGOBJGOWUSG69402</td>\n",
       "    </tr>\n",
       "    <tr>\n",
       "      <th>1</th>\n",
       "      <td>None</td>\n",
       "      <td>GGADFBSBKS42347</td>\n",
       "    </tr>\n",
       "  </tbody>\n",
       "</table>\n",
       "</div>"
      ],
      "text/plain": [
       "  website_SKU     inventory_SKU\n",
       "0        None  GGOBJGOWUSG69402\n",
       "1        None   GGADFBSBKS42347"
      ]
     },
     "execution_count": 29,
     "metadata": {},
     "output_type": "execute_result"
    }
   ],
   "source": [
    "%%bigquery\n",
    "#standardSQL\n",
    "# reverse the join\n",
    "# find records in website but not in inventory\n",
    "SELECT DISTINCT\n",
    "website.productSKU AS website_SKU,\n",
    "inventory.SKU AS inventory_SKU\n",
    "FROM `data-to-insights.ecommerce.all_sessions_raw` AS website\n",
    "RIGHT JOIN `data-to-insights.ecommerce.products` AS inventory\n",
    "ON website.productSKU = inventory.SKU\n",
    "WHERE website.productSKU IS NULL"
   ]
  },
  {
   "cell_type": "markdown",
   "metadata": {},
   "source": [
    "Answer: Yes. There are two product SKUs missing from the website dataset\n",
    "\n",
    "Next, add more fields from the product inventory dataset for more details."
   ]
  },
  {
   "cell_type": "code",
   "execution_count": 30,
   "metadata": {},
   "outputs": [
    {
     "data": {
      "application/vnd.jupyter.widget-view+json": {
       "model_id": "63bb52feca16418e9ce3f46f7adb0cda",
       "version_major": 2,
       "version_minor": 0
      },
      "text/plain": [
       "Query is running:   0%|          |"
      ]
     },
     "metadata": {},
     "output_type": "display_data"
    },
    {
     "data": {
      "application/vnd.jupyter.widget-view+json": {
       "model_id": "c5e7316a414440fea4253541022745db",
       "version_major": 2,
       "version_minor": 0
      },
      "text/plain": [
       "Downloading:   0%|          |"
      ]
     },
     "metadata": {},
     "output_type": "display_data"
    },
    {
     "data": {
      "text/html": [
       "<div>\n",
       "<style scoped>\n",
       "    .dataframe tbody tr th:only-of-type {\n",
       "        vertical-align: middle;\n",
       "    }\n",
       "\n",
       "    .dataframe tbody tr th {\n",
       "        vertical-align: top;\n",
       "    }\n",
       "\n",
       "    .dataframe thead th {\n",
       "        text-align: right;\n",
       "    }\n",
       "</style>\n",
       "<table border=\"1\" class=\"dataframe\">\n",
       "  <thead>\n",
       "    <tr style=\"text-align: right;\">\n",
       "      <th></th>\n",
       "      <th>website_SKU</th>\n",
       "      <th>SKU</th>\n",
       "      <th>name</th>\n",
       "      <th>orderedQuantity</th>\n",
       "      <th>stockLevel</th>\n",
       "      <th>restockingLeadTime</th>\n",
       "      <th>sentimentScore</th>\n",
       "      <th>sentimentMagnitude</th>\n",
       "    </tr>\n",
       "  </thead>\n",
       "  <tbody>\n",
       "    <tr>\n",
       "      <th>0</th>\n",
       "      <td>None</td>\n",
       "      <td>GGOBJGOWUSG69402</td>\n",
       "      <td>USB wired soundbar - in store only</td>\n",
       "      <td>10</td>\n",
       "      <td>15</td>\n",
       "      <td>2</td>\n",
       "      <td>1.0</td>\n",
       "      <td>1.0</td>\n",
       "    </tr>\n",
       "    <tr>\n",
       "      <th>1</th>\n",
       "      <td>None</td>\n",
       "      <td>GGADFBSBKS42347</td>\n",
       "      <td>PC gaming speakers</td>\n",
       "      <td>0</td>\n",
       "      <td>100</td>\n",
       "      <td>1</td>\n",
       "      <td>NaN</td>\n",
       "      <td>NaN</td>\n",
       "    </tr>\n",
       "  </tbody>\n",
       "</table>\n",
       "</div>"
      ],
      "text/plain": [
       "  website_SKU               SKU                                name  \\\n",
       "0        None  GGOBJGOWUSG69402  USB wired soundbar - in store only   \n",
       "1        None   GGADFBSBKS42347                  PC gaming speakers   \n",
       "\n",
       "   orderedQuantity  stockLevel  restockingLeadTime  sentimentScore  \\\n",
       "0               10          15                   2             1.0   \n",
       "1                0         100                   1             NaN   \n",
       "\n",
       "   sentimentMagnitude  \n",
       "0                 1.0  \n",
       "1                 NaN  "
      ]
     },
     "execution_count": 30,
     "metadata": {},
     "output_type": "execute_result"
    }
   ],
   "source": [
    "%%bigquery\n",
    "#standardSQL\n",
    "# what are these products?\n",
    "# add more fields in the SELECT STATEMENT\n",
    "SELECT DISTINCT\n",
    "website.productSKU AS website_SKU,\n",
    "inventory.*\n",
    "FROM `data-to-insights.ecommerce.all_sessions_raw` AS website\n",
    "RIGHT JOIN `data-to-insights.ecommerce.products` AS inventory\n",
    "ON website.productSKU = inventory.SKU\n",
    "WHERE website.productSKU IS NULL"
   ]
  },
  {
   "attachments": {},
   "cell_type": "markdown",
   "metadata": {},
   "source": [
    "- One new product (no orders, no sentimentScore) and one product that is \"in store only\"\n",
    "- Another is a new product with 0 orders\n",
    "\n",
    "Why would the new product not show up on your website dataset?\n",
    "\n",
    "- The website dataset is past order transactions by customers brand new products which have never been sold won't show up in web analytics until they're viewed or purchased\n",
    "\n",
    "**Note:** You typically will not see RIGHT JOINs in production queries. You would simply just do a LEFT JOIN and switch the ordering of the tables.\n",
    "\n",
    "What if you wanted one query that listed all products missing from either the website or inventory?"
   ]
  },
  {
   "cell_type": "code",
   "execution_count": 31,
   "metadata": {},
   "outputs": [
    {
     "data": {
      "application/vnd.jupyter.widget-view+json": {
       "model_id": "a60463cf8bb8469e8f38d353929f86eb",
       "version_major": 2,
       "version_minor": 0
      },
      "text/plain": [
       "Query is running:   0%|          |"
      ]
     },
     "metadata": {},
     "output_type": "display_data"
    },
    {
     "data": {
      "application/vnd.jupyter.widget-view+json": {
       "model_id": "4da2dfe5917c46cb947ab017949b20ec",
       "version_major": 2,
       "version_minor": 0
      },
      "text/plain": [
       "Downloading:   0%|          |"
      ]
     },
     "metadata": {},
     "output_type": "display_data"
    },
    {
     "data": {
      "text/html": [
       "<div>\n",
       "<style scoped>\n",
       "    .dataframe tbody tr th:only-of-type {\n",
       "        vertical-align: middle;\n",
       "    }\n",
       "\n",
       "    .dataframe tbody tr th {\n",
       "        vertical-align: top;\n",
       "    }\n",
       "\n",
       "    .dataframe thead th {\n",
       "        text-align: right;\n",
       "    }\n",
       "</style>\n",
       "<table border=\"1\" class=\"dataframe\">\n",
       "  <thead>\n",
       "    <tr style=\"text-align: right;\">\n",
       "      <th></th>\n",
       "      <th>website_SKU</th>\n",
       "      <th>inventory_SKU</th>\n",
       "    </tr>\n",
       "  </thead>\n",
       "  <tbody>\n",
       "    <tr>\n",
       "      <th>0</th>\n",
       "      <td>9183074</td>\n",
       "      <td>None</td>\n",
       "    </tr>\n",
       "    <tr>\n",
       "      <th>1</th>\n",
       "      <td>GGOEGATB060418</td>\n",
       "      <td>None</td>\n",
       "    </tr>\n",
       "    <tr>\n",
       "      <th>2</th>\n",
       "      <td>GGOEYAAB034615</td>\n",
       "      <td>None</td>\n",
       "    </tr>\n",
       "    <tr>\n",
       "      <th>3</th>\n",
       "      <td>9183167</td>\n",
       "      <td>None</td>\n",
       "    </tr>\n",
       "    <tr>\n",
       "      <th>4</th>\n",
       "      <td>GGOEAAEB031216</td>\n",
       "      <td>None</td>\n",
       "    </tr>\n",
       "    <tr>\n",
       "      <th>...</th>\n",
       "      <td>...</td>\n",
       "      <td>...</td>\n",
       "    </tr>\n",
       "    <tr>\n",
       "      <th>816</th>\n",
       "      <td>GGOEGAEJ030717</td>\n",
       "      <td>None</td>\n",
       "    </tr>\n",
       "    <tr>\n",
       "      <th>817</th>\n",
       "      <td>9180810</td>\n",
       "      <td>None</td>\n",
       "    </tr>\n",
       "    <tr>\n",
       "      <th>818</th>\n",
       "      <td>9182770</td>\n",
       "      <td>None</td>\n",
       "    </tr>\n",
       "    <tr>\n",
       "      <th>819</th>\n",
       "      <td>10 52246</td>\n",
       "      <td>None</td>\n",
       "    </tr>\n",
       "    <tr>\n",
       "      <th>820</th>\n",
       "      <td>GGOEGAEJ029816</td>\n",
       "      <td>None</td>\n",
       "    </tr>\n",
       "  </tbody>\n",
       "</table>\n",
       "<p>821 rows × 2 columns</p>\n",
       "</div>"
      ],
      "text/plain": [
       "        website_SKU inventory_SKU\n",
       "0           9183074          None\n",
       "1    GGOEGATB060418          None\n",
       "2    GGOEYAAB034615          None\n",
       "3           9183167          None\n",
       "4    GGOEAAEB031216          None\n",
       "..              ...           ...\n",
       "816  GGOEGAEJ030717          None\n",
       "817         9180810          None\n",
       "818         9182770          None\n",
       "819        10 52246          None\n",
       "820  GGOEGAEJ029816          None\n",
       "\n",
       "[821 rows x 2 columns]"
      ]
     },
     "execution_count": 31,
     "metadata": {},
     "output_type": "execute_result"
    }
   ],
   "source": [
    "%%bigquery\n",
    "#standardSQL\n",
    "SELECT DISTINCT\n",
    "website.productSKU AS website_SKU,\n",
    "inventory.SKU AS inventory_SKU\n",
    "FROM `data-to-insights.ecommerce.all_sessions_raw` AS website\n",
    "FULL JOIN `data-to-insights.ecommerce.products` AS inventory\n",
    "ON website.productSKU = inventory.SKU\n",
    "WHERE website.productSKU IS NULL OR inventory.SKU IS NULL"
   ]
  },
  {
   "attachments": {},
   "cell_type": "markdown",
   "metadata": {},
   "source": [
    "You have your 819 + 2 = 821 product SKUs\n",
    "\n",
    "LEFT JOIN + RIGHT JOIN = FULL JOIN which returns all records from both tables regardless of matching join keys. You then filter out where you have mismatches on either side\n",
    "\n",
    "**Join pitfall: Unintentional Cross Join** \n",
    "\n",
    "Not knowing the relationship between data table keys (1:1, 1:N, N:N) can return unexpected results and also significantly reduce query performance.\n",
    "\n",
    "The last join type is the CROSS JOIN.\n",
    "\n",
    "Create a new table with a site-wide discount percent that you want to apply across products in the Clearance category.\n",
    "\n",
    "Replacing the table named dataset-***.\n",
    "\n",
    "\n"
   ]
  },
  {
   "cell_type": "code",
   "execution_count": 32,
   "metadata": {},
   "outputs": [
    {
     "data": {
      "application/vnd.jupyter.widget-view+json": {
       "model_id": "cbc42cf20e1741f9bc372f6dd4fec7b8",
       "version_major": 2,
       "version_minor": 0
      },
      "text/plain": [
       "Query is running:   0%|          |"
      ]
     },
     "metadata": {},
     "output_type": "display_data"
    },
    {
     "data": {
      "text/html": [
       "<div>\n",
       "<style scoped>\n",
       "    .dataframe tbody tr th:only-of-type {\n",
       "        vertical-align: middle;\n",
       "    }\n",
       "\n",
       "    .dataframe tbody tr th {\n",
       "        vertical-align: top;\n",
       "    }\n",
       "\n",
       "    .dataframe thead th {\n",
       "        text-align: right;\n",
       "    }\n",
       "</style>\n",
       "<table border=\"1\" class=\"dataframe\">\n",
       "  <thead>\n",
       "    <tr style=\"text-align: right;\">\n",
       "      <th></th>\n",
       "    </tr>\n",
       "  </thead>\n",
       "  <tbody>\n",
       "  </tbody>\n",
       "</table>\n",
       "</div>"
      ],
      "text/plain": [
       "Empty DataFrame\n",
       "Columns: []\n",
       "Index: []"
      ]
     },
     "execution_count": 32,
     "metadata": {},
     "output_type": "execute_result"
    }
   ],
   "source": [
    "%%bigquery\n",
    "#standardSQL\n",
    "CREATE OR REPLACE TABLE ecommerce.site_wide_promotion AS\n",
    "SELECT .05 AS discount;"
   ]
  },
  {
   "cell_type": "markdown",
   "metadata": {},
   "source": [
    "In the left pane, site_wide_promotion is now listed in the Resource section under qwiklabs-gcp-xxx > ecommerce.\n",
    "\n",
    "Copy and paste the below query to find out how many products are in clearance:\n",
    "\n"
   ]
  },
  {
   "cell_type": "code",
   "execution_count": 33,
   "metadata": {},
   "outputs": [
    {
     "data": {
      "application/vnd.jupyter.widget-view+json": {
       "model_id": "c5660c69577e42de93bdf2863f4a453d",
       "version_major": 2,
       "version_minor": 0
      },
      "text/plain": [
       "Query is running:   0%|          |"
      ]
     },
     "metadata": {},
     "output_type": "display_data"
    },
    {
     "data": {
      "application/vnd.jupyter.widget-view+json": {
       "model_id": "37ac2d1497e447cd87127b46035edcbe",
       "version_major": 2,
       "version_minor": 0
      },
      "text/plain": [
       "Downloading:   0%|          |"
      ]
     },
     "metadata": {},
     "output_type": "display_data"
    },
    {
     "data": {
      "text/html": [
       "<div>\n",
       "<style scoped>\n",
       "    .dataframe tbody tr th:only-of-type {\n",
       "        vertical-align: middle;\n",
       "    }\n",
       "\n",
       "    .dataframe tbody tr th {\n",
       "        vertical-align: top;\n",
       "    }\n",
       "\n",
       "    .dataframe thead th {\n",
       "        text-align: right;\n",
       "    }\n",
       "</style>\n",
       "<table border=\"1\" class=\"dataframe\">\n",
       "  <thead>\n",
       "    <tr style=\"text-align: right;\">\n",
       "      <th></th>\n",
       "      <th>productSKU</th>\n",
       "      <th>v2ProductCategory</th>\n",
       "      <th>discount</th>\n",
       "    </tr>\n",
       "  </thead>\n",
       "  <tbody>\n",
       "    <tr>\n",
       "      <th>0</th>\n",
       "      <td>GGOEGAAX0168</td>\n",
       "      <td>Home/Clearance Sale/</td>\n",
       "      <td>0.05</td>\n",
       "    </tr>\n",
       "    <tr>\n",
       "      <th>1</th>\n",
       "      <td>GGOEAHPA004110</td>\n",
       "      <td>Home/Clearance Sale/</td>\n",
       "      <td>0.05</td>\n",
       "    </tr>\n",
       "    <tr>\n",
       "      <th>2</th>\n",
       "      <td>GGOEGOAB021499</td>\n",
       "      <td>Home/Clearance Sale/</td>\n",
       "      <td>0.05</td>\n",
       "    </tr>\n",
       "    <tr>\n",
       "      <th>3</th>\n",
       "      <td>GGOEGOAJ021599</td>\n",
       "      <td>Home/Clearance Sale/</td>\n",
       "      <td>0.05</td>\n",
       "    </tr>\n",
       "    <tr>\n",
       "      <th>4</th>\n",
       "      <td>GGOEYOCR077399</td>\n",
       "      <td>Home/Clearance Sale/</td>\n",
       "      <td>0.05</td>\n",
       "    </tr>\n",
       "    <tr>\n",
       "      <th>...</th>\n",
       "      <td>...</td>\n",
       "      <td>...</td>\n",
       "      <td>...</td>\n",
       "    </tr>\n",
       "    <tr>\n",
       "      <th>77</th>\n",
       "      <td>GGOEGAAX0566</td>\n",
       "      <td>Home/Clearance Sale/</td>\n",
       "      <td>0.05</td>\n",
       "    </tr>\n",
       "    <tr>\n",
       "      <th>78</th>\n",
       "      <td>GGOEGAAX0595</td>\n",
       "      <td>Home/Clearance Sale/</td>\n",
       "      <td>0.05</td>\n",
       "    </tr>\n",
       "    <tr>\n",
       "      <th>79</th>\n",
       "      <td>GGOEGAAX0570</td>\n",
       "      <td>Home/Clearance Sale/</td>\n",
       "      <td>0.05</td>\n",
       "    </tr>\n",
       "    <tr>\n",
       "      <th>80</th>\n",
       "      <td>GGOEGAAX0606</td>\n",
       "      <td>Home/Clearance Sale/</td>\n",
       "      <td>0.05</td>\n",
       "    </tr>\n",
       "    <tr>\n",
       "      <th>81</th>\n",
       "      <td>GGOEGOAB012999</td>\n",
       "      <td>Home/Clearance Sale/</td>\n",
       "      <td>0.05</td>\n",
       "    </tr>\n",
       "  </tbody>\n",
       "</table>\n",
       "<p>82 rows × 3 columns</p>\n",
       "</div>"
      ],
      "text/plain": [
       "        productSKU     v2ProductCategory  discount\n",
       "0     GGOEGAAX0168  Home/Clearance Sale/      0.05\n",
       "1   GGOEAHPA004110  Home/Clearance Sale/      0.05\n",
       "2   GGOEGOAB021499  Home/Clearance Sale/      0.05\n",
       "3   GGOEGOAJ021599  Home/Clearance Sale/      0.05\n",
       "4   GGOEYOCR077399  Home/Clearance Sale/      0.05\n",
       "..             ...                   ...       ...\n",
       "77    GGOEGAAX0566  Home/Clearance Sale/      0.05\n",
       "78    GGOEGAAX0595  Home/Clearance Sale/      0.05\n",
       "79    GGOEGAAX0570  Home/Clearance Sale/      0.05\n",
       "80    GGOEGAAX0606  Home/Clearance Sale/      0.05\n",
       "81  GGOEGOAB012999  Home/Clearance Sale/      0.05\n",
       "\n",
       "[82 rows x 3 columns]"
      ]
     },
     "execution_count": 33,
     "metadata": {},
     "output_type": "execute_result"
    }
   ],
   "source": [
    "%%bigquery\n",
    "SELECT DISTINCT\n",
    "productSKU,\n",
    "v2ProductCategory,\n",
    "discount\n",
    "FROM `data-to-insights.ecommerce.all_sessions_raw` AS website\n",
    "CROSS JOIN ecommerce.site_wide_promotion\n",
    "WHERE v2ProductCategory LIKE '%Clearance%'"
   ]
  },
  {
   "cell_type": "markdown",
   "metadata": {},
   "source": [
    "**Note:** In the syntax there is no join condition (e.g. ON or USING) for a CROSS JOIN. The field is simply multiplied against the first dataset or .05 discount across all items.\n",
    "Let's see the impact of unintentionally adding more than one record in the discount table.\n",
    "\n",
    "Copy and paste the below query to insert two more records into the promotion table:\n",
    "\n"
   ]
  },
  {
   "cell_type": "code",
   "execution_count": 34,
   "metadata": {},
   "outputs": [
    {
     "data": {
      "application/vnd.jupyter.widget-view+json": {
       "model_id": "03a34156ec064beb88dfac2154d02160",
       "version_major": 2,
       "version_minor": 0
      },
      "text/plain": [
       "Query is running:   0%|          |"
      ]
     },
     "metadata": {},
     "output_type": "display_data"
    },
    {
     "data": {
      "text/html": [
       "<div>\n",
       "<style scoped>\n",
       "    .dataframe tbody tr th:only-of-type {\n",
       "        vertical-align: middle;\n",
       "    }\n",
       "\n",
       "    .dataframe tbody tr th {\n",
       "        vertical-align: top;\n",
       "    }\n",
       "\n",
       "    .dataframe thead th {\n",
       "        text-align: right;\n",
       "    }\n",
       "</style>\n",
       "<table border=\"1\" class=\"dataframe\">\n",
       "  <thead>\n",
       "    <tr style=\"text-align: right;\">\n",
       "      <th></th>\n",
       "    </tr>\n",
       "  </thead>\n",
       "  <tbody>\n",
       "  </tbody>\n",
       "</table>\n",
       "</div>"
      ],
      "text/plain": [
       "Empty DataFrame\n",
       "Columns: []\n",
       "Index: []"
      ]
     },
     "execution_count": 34,
     "metadata": {},
     "output_type": "execute_result"
    }
   ],
   "source": [
    "%%bigquery\n",
    "#standardSQL\n",
    "INSERT INTO ecommerce.site_wide_promotion (discount)\n",
    "VALUES (.04),\n",
    "       (.03);\n",
    "       "
   ]
  },
  {
   "cell_type": "markdown",
   "metadata": {},
   "source": [
    "Next let's view the data values in the promotion table."
   ]
  },
  {
   "cell_type": "code",
   "execution_count": 35,
   "metadata": {},
   "outputs": [
    {
     "data": {
      "application/vnd.jupyter.widget-view+json": {
       "model_id": "63c73d932229446a8ade3f86e32e33cb",
       "version_major": 2,
       "version_minor": 0
      },
      "text/plain": [
       "Query is running:   0%|          |"
      ]
     },
     "metadata": {},
     "output_type": "display_data"
    },
    {
     "data": {
      "application/vnd.jupyter.widget-view+json": {
       "model_id": "87c204c63e084dc889558f8d022492d9",
       "version_major": 2,
       "version_minor": 0
      },
      "text/plain": [
       "Downloading:   0%|          |"
      ]
     },
     "metadata": {},
     "output_type": "display_data"
    },
    {
     "data": {
      "text/html": [
       "<div>\n",
       "<style scoped>\n",
       "    .dataframe tbody tr th:only-of-type {\n",
       "        vertical-align: middle;\n",
       "    }\n",
       "\n",
       "    .dataframe tbody tr th {\n",
       "        vertical-align: top;\n",
       "    }\n",
       "\n",
       "    .dataframe thead th {\n",
       "        text-align: right;\n",
       "    }\n",
       "</style>\n",
       "<table border=\"1\" class=\"dataframe\">\n",
       "  <thead>\n",
       "    <tr style=\"text-align: right;\">\n",
       "      <th></th>\n",
       "      <th>discount</th>\n",
       "    </tr>\n",
       "  </thead>\n",
       "  <tbody>\n",
       "    <tr>\n",
       "      <th>0</th>\n",
       "      <td>0.03</td>\n",
       "    </tr>\n",
       "    <tr>\n",
       "      <th>1</th>\n",
       "      <td>0.04</td>\n",
       "    </tr>\n",
       "    <tr>\n",
       "      <th>2</th>\n",
       "      <td>0.05</td>\n",
       "    </tr>\n",
       "  </tbody>\n",
       "</table>\n",
       "</div>"
      ],
      "text/plain": [
       "   discount\n",
       "0      0.03\n",
       "1      0.04\n",
       "2      0.05"
      ]
     },
     "execution_count": 35,
     "metadata": {},
     "output_type": "execute_result"
    }
   ],
   "source": [
    "%%bigquery\n",
    "#standardSQL\n",
    "SELECT discount FROM ecommerce.site_wide_promotion"
   ]
  },
  {
   "cell_type": "markdown",
   "metadata": {},
   "source": [
    "What happens when you apply the discount again across all 82 clearance products?"
   ]
  },
  {
   "cell_type": "code",
   "execution_count": 36,
   "metadata": {},
   "outputs": [
    {
     "data": {
      "application/vnd.jupyter.widget-view+json": {
       "model_id": "f9a2a9cdc32a4defabeba307972287f3",
       "version_major": 2,
       "version_minor": 0
      },
      "text/plain": [
       "Query is running:   0%|          |"
      ]
     },
     "metadata": {},
     "output_type": "display_data"
    },
    {
     "data": {
      "application/vnd.jupyter.widget-view+json": {
       "model_id": "9e2c1d6b9acf40069c77f68f1bbeedf5",
       "version_major": 2,
       "version_minor": 0
      },
      "text/plain": [
       "Downloading:   0%|          |"
      ]
     },
     "metadata": {},
     "output_type": "display_data"
    },
    {
     "data": {
      "text/html": [
       "<div>\n",
       "<style scoped>\n",
       "    .dataframe tbody tr th:only-of-type {\n",
       "        vertical-align: middle;\n",
       "    }\n",
       "\n",
       "    .dataframe tbody tr th {\n",
       "        vertical-align: top;\n",
       "    }\n",
       "\n",
       "    .dataframe thead th {\n",
       "        text-align: right;\n",
       "    }\n",
       "</style>\n",
       "<table border=\"1\" class=\"dataframe\">\n",
       "  <thead>\n",
       "    <tr style=\"text-align: right;\">\n",
       "      <th></th>\n",
       "      <th>productSKU</th>\n",
       "      <th>v2ProductCategory</th>\n",
       "      <th>discount</th>\n",
       "    </tr>\n",
       "  </thead>\n",
       "  <tbody>\n",
       "    <tr>\n",
       "      <th>0</th>\n",
       "      <td>GGOEGAAX0571</td>\n",
       "      <td>Home/Clearance Sale/</td>\n",
       "      <td>0.05</td>\n",
       "    </tr>\n",
       "    <tr>\n",
       "      <th>1</th>\n",
       "      <td>GGOEAOCB077499</td>\n",
       "      <td>Home/Clearance Sale/</td>\n",
       "      <td>0.04</td>\n",
       "    </tr>\n",
       "    <tr>\n",
       "      <th>2</th>\n",
       "      <td>GGOEGCBB074399</td>\n",
       "      <td>Home/Clearance Sale/</td>\n",
       "      <td>0.03</td>\n",
       "    </tr>\n",
       "    <tr>\n",
       "      <th>3</th>\n",
       "      <td>GGOEGESQ016799</td>\n",
       "      <td>Home/Clearance Sale/</td>\n",
       "      <td>0.03</td>\n",
       "    </tr>\n",
       "    <tr>\n",
       "      <th>4</th>\n",
       "      <td>GGOEGOCB017499</td>\n",
       "      <td>Home/Clearance Sale/</td>\n",
       "      <td>0.03</td>\n",
       "    </tr>\n",
       "    <tr>\n",
       "      <th>...</th>\n",
       "      <td>...</td>\n",
       "      <td>...</td>\n",
       "      <td>...</td>\n",
       "    </tr>\n",
       "    <tr>\n",
       "      <th>241</th>\n",
       "      <td>GGOEGAAX0351</td>\n",
       "      <td>Home/Clearance Sale/</td>\n",
       "      <td>0.05</td>\n",
       "    </tr>\n",
       "    <tr>\n",
       "      <th>242</th>\n",
       "      <td>GGOEGAAX0331</td>\n",
       "      <td>Home/Clearance Sale/</td>\n",
       "      <td>0.03</td>\n",
       "    </tr>\n",
       "    <tr>\n",
       "      <th>243</th>\n",
       "      <td>GGOEGAAX0327</td>\n",
       "      <td>Home/Clearance Sale/</td>\n",
       "      <td>0.05</td>\n",
       "    </tr>\n",
       "    <tr>\n",
       "      <th>244</th>\n",
       "      <td>GGOEGOAB012999</td>\n",
       "      <td>Home/Clearance Sale/</td>\n",
       "      <td>0.03</td>\n",
       "    </tr>\n",
       "    <tr>\n",
       "      <th>245</th>\n",
       "      <td>GGOEGAAX0588</td>\n",
       "      <td>Home/Clearance Sale/</td>\n",
       "      <td>0.05</td>\n",
       "    </tr>\n",
       "  </tbody>\n",
       "</table>\n",
       "<p>246 rows × 3 columns</p>\n",
       "</div>"
      ],
      "text/plain": [
       "         productSKU     v2ProductCategory  discount\n",
       "0      GGOEGAAX0571  Home/Clearance Sale/      0.05\n",
       "1    GGOEAOCB077499  Home/Clearance Sale/      0.04\n",
       "2    GGOEGCBB074399  Home/Clearance Sale/      0.03\n",
       "3    GGOEGESQ016799  Home/Clearance Sale/      0.03\n",
       "4    GGOEGOCB017499  Home/Clearance Sale/      0.03\n",
       "..              ...                   ...       ...\n",
       "241    GGOEGAAX0351  Home/Clearance Sale/      0.05\n",
       "242    GGOEGAAX0331  Home/Clearance Sale/      0.03\n",
       "243    GGOEGAAX0327  Home/Clearance Sale/      0.05\n",
       "244  GGOEGOAB012999  Home/Clearance Sale/      0.03\n",
       "245    GGOEGAAX0588  Home/Clearance Sale/      0.05\n",
       "\n",
       "[246 rows x 3 columns]"
      ]
     },
     "execution_count": 36,
     "metadata": {},
     "output_type": "execute_result"
    }
   ],
   "source": [
    "%%bigquery\n",
    "#standardSQL\n",
    "# now what happens:\n",
    "SELECT DISTINCT\n",
    "productSKU,\n",
    "v2ProductCategory,\n",
    "discount\n",
    "FROM `data-to-insights.ecommerce.all_sessions_raw` AS website\n",
    "CROSS JOIN ecommerce.site_wide_promotion\n",
    "WHERE v2ProductCategory LIKE '%Clearance%'"
   ]
  },
  {
   "cell_type": "markdown",
   "metadata": {},
   "source": [
    "How many products are returned?\n",
    "\n",
    "Answer: Instead of 82, you now have 246 returned which is more records than your original table started with.\n",
    "\n",
    "Let's investigate the underlying cause by examining one product SKU."
   ]
  },
  {
   "cell_type": "code",
   "execution_count": 37,
   "metadata": {},
   "outputs": [
    {
     "data": {
      "application/vnd.jupyter.widget-view+json": {
       "model_id": "c07ff2867c704132906f3c6e6a8838e4",
       "version_major": 2,
       "version_minor": 0
      },
      "text/plain": [
       "Query is running:   0%|          |"
      ]
     },
     "metadata": {},
     "output_type": "display_data"
    },
    {
     "data": {
      "application/vnd.jupyter.widget-view+json": {
       "model_id": "b89caa7588054f738f17ffd744745bdd",
       "version_major": 2,
       "version_minor": 0
      },
      "text/plain": [
       "Downloading:   0%|          |"
      ]
     },
     "metadata": {},
     "output_type": "display_data"
    },
    {
     "data": {
      "text/html": [
       "<div>\n",
       "<style scoped>\n",
       "    .dataframe tbody tr th:only-of-type {\n",
       "        vertical-align: middle;\n",
       "    }\n",
       "\n",
       "    .dataframe tbody tr th {\n",
       "        vertical-align: top;\n",
       "    }\n",
       "\n",
       "    .dataframe thead th {\n",
       "        text-align: right;\n",
       "    }\n",
       "</style>\n",
       "<table border=\"1\" class=\"dataframe\">\n",
       "  <thead>\n",
       "    <tr style=\"text-align: right;\">\n",
       "      <th></th>\n",
       "      <th>productSKU</th>\n",
       "      <th>v2ProductCategory</th>\n",
       "      <th>discount</th>\n",
       "    </tr>\n",
       "  </thead>\n",
       "  <tbody>\n",
       "    <tr>\n",
       "      <th>0</th>\n",
       "      <td>GGOEGOLC013299</td>\n",
       "      <td>Home/Clearance Sale/</td>\n",
       "      <td>0.03</td>\n",
       "    </tr>\n",
       "    <tr>\n",
       "      <th>1</th>\n",
       "      <td>GGOEGOLC013299</td>\n",
       "      <td>Home/Clearance Sale/</td>\n",
       "      <td>0.05</td>\n",
       "    </tr>\n",
       "    <tr>\n",
       "      <th>2</th>\n",
       "      <td>GGOEGOLC013299</td>\n",
       "      <td>Home/Clearance Sale/</td>\n",
       "      <td>0.04</td>\n",
       "    </tr>\n",
       "  </tbody>\n",
       "</table>\n",
       "</div>"
      ],
      "text/plain": [
       "       productSKU     v2ProductCategory  discount\n",
       "0  GGOEGOLC013299  Home/Clearance Sale/      0.03\n",
       "1  GGOEGOLC013299  Home/Clearance Sale/      0.05\n",
       "2  GGOEGOLC013299  Home/Clearance Sale/      0.04"
      ]
     },
     "execution_count": 37,
     "metadata": {},
     "output_type": "execute_result"
    }
   ],
   "source": [
    "%%bigquery\n",
    "#standardSQL\n",
    "SELECT DISTINCT\n",
    "productSKU,\n",
    "v2ProductCategory,\n",
    "discount\n",
    "FROM `data-to-insights.ecommerce.all_sessions_raw` AS website\n",
    "CROSS JOIN ecommerce.site_wide_promotion\n",
    "WHERE v2ProductCategory LIKE '%Clearance%'\n",
    "AND productSKU = 'GGOEGOLC013299'"
   ]
  },
  {
   "cell_type": "markdown",
   "metadata": {},
   "source": [
    "What was the impact of the CROSS JOIN?\n",
    "\n",
    "Answer:\n",
    "\n",
    "Since there are 3 discount codes to cross join on, you are multiplying the original dataset by 3.\n",
    "\n",
    "Note: This behavior isn't limited to cross joins, with a normal join you can unintentionally cross join when the data relationships are many-to-many this can easily result in returning millions or even billions of records unintentionally.\n",
    "The solution is to know your data relationships before you join and don't assume keys are unique."
   ]
  },
  {
   "attachments": {},
   "cell_type": "markdown",
   "metadata": {},
   "source": [
    "**Task 7. Deduplicating rows**\n",
    "\n",
    "At the start of the lab you wrote a query that showed multiple product names for a single SKU. Deduplicating records like this is a common skill for data analysts. Examine one way you can select only one product per SKU.\n",
    "\n",
    "First, start with the query to show all product names per SKU.\n",
    "\n"
   ]
  },
  {
   "cell_type": "code",
   "execution_count": 38,
   "metadata": {},
   "outputs": [
    {
     "data": {
      "application/vnd.jupyter.widget-view+json": {
       "model_id": "2cbf0313d237470d8208a2a3d74147d5",
       "version_major": 2,
       "version_minor": 0
      },
      "text/plain": [
       "Query is running:   0%|          |"
      ]
     },
     "metadata": {},
     "output_type": "display_data"
    },
    {
     "data": {
      "application/vnd.jupyter.widget-view+json": {
       "model_id": "d73941a04e784cc4aa7cb87ddd5bdd6c",
       "version_major": 2,
       "version_minor": 0
      },
      "text/plain": [
       "Downloading:   0%|          |"
      ]
     },
     "metadata": {},
     "output_type": "display_data"
    },
    {
     "data": {
      "text/html": [
       "<div>\n",
       "<style scoped>\n",
       "    .dataframe tbody tr th:only-of-type {\n",
       "        vertical-align: middle;\n",
       "    }\n",
       "\n",
       "    .dataframe tbody tr th {\n",
       "        vertical-align: top;\n",
       "    }\n",
       "\n",
       "    .dataframe thead th {\n",
       "        text-align: right;\n",
       "    }\n",
       "</style>\n",
       "<table border=\"1\" class=\"dataframe\">\n",
       "  <thead>\n",
       "    <tr style=\"text-align: right;\">\n",
       "      <th></th>\n",
       "      <th>product_count</th>\n",
       "      <th>product_name</th>\n",
       "      <th>productSKU</th>\n",
       "    </tr>\n",
       "  </thead>\n",
       "  <tbody>\n",
       "    <tr>\n",
       "      <th>0</th>\n",
       "      <td>3</td>\n",
       "      <td>Softsided Travel Pouch Set,Set of 3 Nested Tra...</td>\n",
       "      <td>GGOEGCLB020832</td>\n",
       "    </tr>\n",
       "    <tr>\n",
       "      <th>1</th>\n",
       "      <td>3</td>\n",
       "      <td>7\" Dog Frisbee,7&amp;quot; Dog Frisbee,Google 7-in...</td>\n",
       "      <td>GGOEGAAX0098</td>\n",
       "    </tr>\n",
       "    <tr>\n",
       "      <th>2</th>\n",
       "      <td>3</td>\n",
       "      <td>Nest® Learning Thermostat 3rd Gen-USA - Stainl...</td>\n",
       "      <td>GGOENEBJ079499</td>\n",
       "    </tr>\n",
       "    <tr>\n",
       "      <th>3</th>\n",
       "      <td>3</td>\n",
       "      <td>7\" Dog Frisbee,7&amp;quot; Dog Frisbee,Google 7-in...</td>\n",
       "      <td>GGOEGPJR018999</td>\n",
       "    </tr>\n",
       "    <tr>\n",
       "      <th>4</th>\n",
       "      <td>3</td>\n",
       "      <td>YouTube Women's Short Sleeve Hero Tee Charcoal...</td>\n",
       "      <td>GGOEYAEJ029015</td>\n",
       "    </tr>\n",
       "    <tr>\n",
       "      <th>...</th>\n",
       "      <td>...</td>\n",
       "      <td>...</td>\n",
       "      <td>...</td>\n",
       "    </tr>\n",
       "    <tr>\n",
       "      <th>342</th>\n",
       "      <td>2</td>\n",
       "      <td>Google Collapsible Pet Bowl,Collapsible Pet Bowl</td>\n",
       "      <td>9182909</td>\n",
       "    </tr>\n",
       "    <tr>\n",
       "      <th>343</th>\n",
       "      <td>2</td>\n",
       "      <td>Google Women's Short Sleeve Badge Tee Ice Gray...</td>\n",
       "      <td>9182647</td>\n",
       "    </tr>\n",
       "    <tr>\n",
       "      <th>344</th>\n",
       "      <td>2</td>\n",
       "      <td>Google Women's Short Sleeve Performance Tee Bl...</td>\n",
       "      <td>GGOEGALB059916</td>\n",
       "    </tr>\n",
       "    <tr>\n",
       "      <th>345</th>\n",
       "      <td>2</td>\n",
       "      <td>Collapsible Pet Bowl,Google Collapsible Pet Bowl</td>\n",
       "      <td>9180872</td>\n",
       "    </tr>\n",
       "    <tr>\n",
       "      <th>346</th>\n",
       "      <td>2</td>\n",
       "      <td>Google Women's Short Sleeve Shirt Dark Grey,Go...</td>\n",
       "      <td>GGOEGAEJ028916</td>\n",
       "    </tr>\n",
       "  </tbody>\n",
       "</table>\n",
       "<p>347 rows × 3 columns</p>\n",
       "</div>"
      ],
      "text/plain": [
       "     product_count                                       product_name  \\\n",
       "0                3  Softsided Travel Pouch Set,Set of 3 Nested Tra...   \n",
       "1                3  7\" Dog Frisbee,7&quot; Dog Frisbee,Google 7-in...   \n",
       "2                3  Nest® Learning Thermostat 3rd Gen-USA - Stainl...   \n",
       "3                3  7\" Dog Frisbee,7&quot; Dog Frisbee,Google 7-in...   \n",
       "4                3  YouTube Women's Short Sleeve Hero Tee Charcoal...   \n",
       "..             ...                                                ...   \n",
       "342              2   Google Collapsible Pet Bowl,Collapsible Pet Bowl   \n",
       "343              2  Google Women's Short Sleeve Badge Tee Ice Gray...   \n",
       "344              2  Google Women's Short Sleeve Performance Tee Bl...   \n",
       "345              2   Collapsible Pet Bowl,Google Collapsible Pet Bowl   \n",
       "346              2  Google Women's Short Sleeve Shirt Dark Grey,Go...   \n",
       "\n",
       "         productSKU  \n",
       "0    GGOEGCLB020832  \n",
       "1      GGOEGAAX0098  \n",
       "2    GGOENEBJ079499  \n",
       "3    GGOEGPJR018999  \n",
       "4    GGOEYAEJ029015  \n",
       "..              ...  \n",
       "342         9182909  \n",
       "343         9182647  \n",
       "344  GGOEGALB059916  \n",
       "345         9180872  \n",
       "346  GGOEGAEJ028916  \n",
       "\n",
       "[347 rows x 3 columns]"
      ]
     },
     "execution_count": 38,
     "metadata": {},
     "output_type": "execute_result"
    }
   ],
   "source": [
    "%%bigquery\n",
    "# recall the earlier query that showed multiple product_names for each SKU\n",
    "SELECT\n",
    "DISTINCT\n",
    "COUNT(DISTINCT v2ProductName) AS product_count,\n",
    "STRING_AGG(DISTINCT v2ProductName LIMIT 5) AS product_name,\n",
    "productSKU\n",
    "FROM `data-to-insights.ecommerce.all_sessions_raw`\n",
    "WHERE v2ProductName IS NOT NULL\n",
    "GROUP BY productSKU\n",
    "HAVING product_count > 1\n",
    "ORDER BY product_count DESC"
   ]
  },
  {
   "cell_type": "markdown",
   "metadata": {},
   "source": [
    "Since most of the product names are extremely similar (and you want to map a single SKU to a single product), write a query to only choose one of the product_names. You will be using this StackOverflow post by Felipe Hoffa as inspiration.\n",
    "\n"
   ]
  },
  {
   "cell_type": "code",
   "execution_count": 39,
   "metadata": {},
   "outputs": [
    {
     "data": {
      "application/vnd.jupyter.widget-view+json": {
       "model_id": "1db74f3f5c6e4b859cfaffa5c37a5e4b",
       "version_major": 2,
       "version_minor": 0
      },
      "text/plain": [
       "Query is running:   0%|          |"
      ]
     },
     "metadata": {},
     "output_type": "display_data"
    },
    {
     "data": {
      "application/vnd.jupyter.widget-view+json": {
       "model_id": "f8b885ab2be245459e88505aa8471a5d",
       "version_major": 2,
       "version_minor": 0
      },
      "text/plain": [
       "Downloading:   0%|          |"
      ]
     },
     "metadata": {},
     "output_type": "display_data"
    },
    {
     "data": {
      "text/html": [
       "<div>\n",
       "<style scoped>\n",
       "    .dataframe tbody tr th:only-of-type {\n",
       "        vertical-align: middle;\n",
       "    }\n",
       "\n",
       "    .dataframe tbody tr th {\n",
       "        vertical-align: top;\n",
       "    }\n",
       "\n",
       "    .dataframe thead th {\n",
       "        text-align: right;\n",
       "    }\n",
       "</style>\n",
       "<table border=\"1\" class=\"dataframe\">\n",
       "  <thead>\n",
       "    <tr style=\"text-align: right;\">\n",
       "      <th></th>\n",
       "      <th>v2ProductName</th>\n",
       "      <th>productSKU</th>\n",
       "    </tr>\n",
       "  </thead>\n",
       "  <tbody>\n",
       "    <tr>\n",
       "      <th>0</th>\n",
       "      <td>26 oz Double Wall Insulated Bottle</td>\n",
       "      <td>9180793</td>\n",
       "    </tr>\n",
       "    <tr>\n",
       "      <th>1</th>\n",
       "      <td>Rubber Grip Ballpoint Pen 4 Pack</td>\n",
       "      <td>9180833</td>\n",
       "    </tr>\n",
       "    <tr>\n",
       "      <th>2</th>\n",
       "      <td>Metal Texture Roller Pen</td>\n",
       "      <td>9180838</td>\n",
       "    </tr>\n",
       "    <tr>\n",
       "      <th>3</th>\n",
       "      <td>Maze Pen</td>\n",
       "      <td>9180842</td>\n",
       "    </tr>\n",
       "    <tr>\n",
       "      <th>4</th>\n",
       "      <td>Gunmetal Roller Ball Pen</td>\n",
       "      <td>9180844</td>\n",
       "    </tr>\n",
       "    <tr>\n",
       "      <th>...</th>\n",
       "      <td>...</td>\n",
       "      <td>...</td>\n",
       "    </tr>\n",
       "    <tr>\n",
       "      <th>1904</th>\n",
       "      <td>Android Women's Fleece Hoodie</td>\n",
       "      <td>GGOEAAQB036117</td>\n",
       "    </tr>\n",
       "    <tr>\n",
       "      <th>1905</th>\n",
       "      <td>Google Adult Tee Fruit Games Cherries</td>\n",
       "      <td>GGOEGAAC075815</td>\n",
       "    </tr>\n",
       "    <tr>\n",
       "      <th>1906</th>\n",
       "      <td>Google Women's Insulated Thermal Vest Navy</td>\n",
       "      <td>GGOEGAPL058516</td>\n",
       "    </tr>\n",
       "    <tr>\n",
       "      <th>1907</th>\n",
       "      <td>Eco-Jersey Chrome Zip Up Hoodie</td>\n",
       "      <td>10 14159</td>\n",
       "    </tr>\n",
       "    <tr>\n",
       "      <th>1908</th>\n",
       "      <td>Android Women's Short Sleeve Badge Tee Light C...</td>\n",
       "      <td>GGOEAAEJ029316</td>\n",
       "    </tr>\n",
       "  </tbody>\n",
       "</table>\n",
       "<p>1909 rows × 2 columns</p>\n",
       "</div>"
      ],
      "text/plain": [
       "                                          v2ProductName      productSKU\n",
       "0                    26 oz Double Wall Insulated Bottle         9180793\n",
       "1                      Rubber Grip Ballpoint Pen 4 Pack         9180833\n",
       "2                              Metal Texture Roller Pen         9180838\n",
       "3                                              Maze Pen         9180842\n",
       "4                              Gunmetal Roller Ball Pen         9180844\n",
       "...                                                 ...             ...\n",
       "1904                      Android Women's Fleece Hoodie  GGOEAAQB036117\n",
       "1905              Google Adult Tee Fruit Games Cherries  GGOEGAAC075815\n",
       "1906         Google Women's Insulated Thermal Vest Navy  GGOEGAPL058516\n",
       "1907                    Eco-Jersey Chrome Zip Up Hoodie        10 14159\n",
       "1908  Android Women's Short Sleeve Badge Tee Light C...  GGOEAAEJ029316\n",
       "\n",
       "[1909 rows x 2 columns]"
      ]
     },
     "execution_count": 39,
     "metadata": {},
     "output_type": "execute_result"
    }
   ],
   "source": [
    "%%bigquery\n",
    "# take the one name associated with a SKU\n",
    "WITH product_query AS (\n",
    "  SELECT\n",
    "  DISTINCT\n",
    "  v2ProductName,\n",
    "  productSKU\n",
    "  FROM `data-to-insights.ecommerce.all_sessions_raw`\n",
    "  WHERE v2ProductName IS NOT NULL\n",
    ")\n",
    "SELECT k.* FROM (\n",
    "  # aggregate the products into an array and\n",
    "  # only take 1 result\n",
    "  SELECT ARRAY_AGG(x LIMIT 1)[OFFSET(0)] k\n",
    "  FROM product_query x\n",
    "  GROUP BY productSKU # this is the field you want deduplicated\n",
    ");"
   ]
  },
  {
   "cell_type": "code",
   "execution_count": null,
   "metadata": {},
   "outputs": [],
   "source": []
  }
 ],
 "metadata": {
  "kernelspec": {
   "display_name": "pvenv",
   "language": "python",
   "name": "python3"
  },
  "language_info": {
   "codemirror_mode": {
    "name": "ipython",
    "version": 3
   },
   "file_extension": ".py",
   "mimetype": "text/x-python",
   "name": "python",
   "nbconvert_exporter": "python",
   "pygments_lexer": "ipython3",
   "version": "3.10.6"
  },
  "orig_nbformat": 4,
  "vscode": {
   "interpreter": {
    "hash": "9c60b0b34f20a64376230e5acad7e96f309518d19b7ab9290b081fa416842bed"
   }
  }
 },
 "nbformat": 4,
 "nbformat_minor": 2
}
