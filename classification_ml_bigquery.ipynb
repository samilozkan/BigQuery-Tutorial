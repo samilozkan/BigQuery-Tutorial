{
 "cells": [
  {
   "attachments": {},
   "cell_type": "markdown",
   "metadata": {},
   "source": [
    "#  Predict Visitor Purchases with a Classification Model in BQML\n",
    "\n",
    "- ### Objectives\n",
    "\n",
    "In this notebook, you learn to perform the following tasks:\n",
    "\n",
    "- Query and explore the ecommerce dataset\n",
    "\n",
    "- Create a training and evaluation dataset to be used for batch prediction\n",
    "\n",
    "- Create a classification (logistic regression) model in BQML\n",
    "\n",
    "- Evaluate the performance of your machine learning model\n",
    "\n",
    "- Predict and rank the probability that a visitor will make a purchase"
   ]
  },
  {
   "cell_type": "code",
   "execution_count": 1,
   "metadata": {},
   "outputs": [],
   "source": [
    "# BigQuery Setup\n",
    "# Importing Libraries and Credentials\n",
    "import pandas as pd\n",
    "import numpy as np\n",
    "import seaborn as sns\n",
    "from google.cloud import bigquery\n",
    "from google.oauth2 import service_account\n",
    "# ignore warnings\n",
    "from warnings import filterwarnings\n",
    "filterwarnings(\"ignore\")\n",
    "\n",
    "\n",
    "%load_ext google.cloud.bigquery\n",
    "\n",
    "credentials = service_account.Credentials.from_service_account_file('/Users/ssamilozkan/Desktop/BigQuery/config.json')\n",
    "\n",
    "project_id = 'dbt-bigquery-setup-369911'\n",
    "client = bigquery.Client(credentials= credentials, project=project_id)"
   ]
  },
  {
   "attachments": {},
   "cell_type": "markdown",
   "metadata": {},
   "source": [
    "### Explore ecommerce data\n",
    "\n",
    "Scenario: Your data analyst team exported the Google Analytics logs for an ecommerce website into BigQuery and created a new table of all the raw ecommerce visitor session data for you to explore. Using this data, you'll try to answer a few questions.\n",
    "\n",
    "1. Out of the total visitors who visited our website, what % made a purchase?\n",
    "\n"
   ]
  },
  {
   "cell_type": "code",
   "execution_count": 3,
   "metadata": {},
   "outputs": [
    {
     "data": {
      "application/vnd.jupyter.widget-view+json": {
       "model_id": "b5a7a7aab83246169c548ed35598fcab",
       "version_major": 2,
       "version_minor": 0
      },
      "text/plain": [
       "Query is running:   0%|          |"
      ]
     },
     "metadata": {},
     "output_type": "display_data"
    },
    {
     "data": {
      "application/vnd.jupyter.widget-view+json": {
       "model_id": "88bf05491c844f15bb38a733df5f22ac",
       "version_major": 2,
       "version_minor": 0
      },
      "text/plain": [
       "Downloading:   0%|          |"
      ]
     },
     "metadata": {},
     "output_type": "display_data"
    },
    {
     "data": {
      "text/html": [
       "<div>\n",
       "<style scoped>\n",
       "    .dataframe tbody tr th:only-of-type {\n",
       "        vertical-align: middle;\n",
       "    }\n",
       "\n",
       "    .dataframe tbody tr th {\n",
       "        vertical-align: top;\n",
       "    }\n",
       "\n",
       "    .dataframe thead th {\n",
       "        text-align: right;\n",
       "    }\n",
       "</style>\n",
       "<table border=\"1\" class=\"dataframe\">\n",
       "  <thead>\n",
       "    <tr style=\"text-align: right;\">\n",
       "      <th></th>\n",
       "      <th>total_visitors</th>\n",
       "      <th>total_purchasers</th>\n",
       "      <th>conversion_rate</th>\n",
       "    </tr>\n",
       "  </thead>\n",
       "  <tbody>\n",
       "    <tr>\n",
       "      <th>0</th>\n",
       "      <td>741721</td>\n",
       "      <td>20015</td>\n",
       "      <td>0.026985</td>\n",
       "    </tr>\n",
       "  </tbody>\n",
       "</table>\n",
       "</div>"
      ],
      "text/plain": [
       "   total_visitors  total_purchasers  conversion_rate\n",
       "0          741721             20015         0.026985"
      ]
     },
     "execution_count": 3,
     "metadata": {},
     "output_type": "execute_result"
    }
   ],
   "source": [
    "%%bigquery\n",
    "WITH visitors AS(\n",
    "SELECT\n",
    "COUNT(DISTINCT fullVisitorId) AS total_visitors\n",
    "FROM `data-to-insights.ecommerce.web_analytics`\n",
    "),\n",
    "purchasers AS(\n",
    "SELECT\n",
    "COUNT(DISTINCT fullVisitorId) AS total_purchasers\n",
    "FROM `data-to-insights.ecommerce.web_analytics`\n",
    "WHERE totals.transactions IS NOT NULL\n",
    ")\n",
    "SELECT\n",
    "  total_visitors,\n",
    "  total_purchasers,\n",
    "  total_purchasers / total_visitors AS conversion_rate\n",
    "FROM visitors, purchasers"
   ]
  },
  {
   "attachments": {},
   "cell_type": "markdown",
   "metadata": {},
   "source": [
    "2. What are the top 5 selling products?"
   ]
  },
  {
   "cell_type": "code",
   "execution_count": 4,
   "metadata": {},
   "outputs": [
    {
     "data": {
      "application/vnd.jupyter.widget-view+json": {
       "model_id": "11b3b57254174bde86a40f2e33ec9b22",
       "version_major": 2,
       "version_minor": 0
      },
      "text/plain": [
       "Query is running:   0%|          |"
      ]
     },
     "metadata": {},
     "output_type": "display_data"
    },
    {
     "data": {
      "application/vnd.jupyter.widget-view+json": {
       "model_id": "aa9f9dad090940618b0139425b1e46f6",
       "version_major": 2,
       "version_minor": 0
      },
      "text/plain": [
       "Downloading:   0%|          |"
      ]
     },
     "metadata": {},
     "output_type": "display_data"
    },
    {
     "data": {
      "text/html": [
       "<div>\n",
       "<style scoped>\n",
       "    .dataframe tbody tr th:only-of-type {\n",
       "        vertical-align: middle;\n",
       "    }\n",
       "\n",
       "    .dataframe tbody tr th {\n",
       "        vertical-align: top;\n",
       "    }\n",
       "\n",
       "    .dataframe thead th {\n",
       "        text-align: right;\n",
       "    }\n",
       "</style>\n",
       "<table border=\"1\" class=\"dataframe\">\n",
       "  <thead>\n",
       "    <tr style=\"text-align: right;\">\n",
       "      <th></th>\n",
       "      <th>v2ProductName</th>\n",
       "      <th>v2ProductCategory</th>\n",
       "      <th>units_sold</th>\n",
       "      <th>revenue</th>\n",
       "    </tr>\n",
       "  </thead>\n",
       "  <tbody>\n",
       "    <tr>\n",
       "      <th>0</th>\n",
       "      <td>Nest® Learning Thermostat 3rd Gen-USA - Stainl...</td>\n",
       "      <td>Nest-USA</td>\n",
       "      <td>17651</td>\n",
       "      <td>870976.95</td>\n",
       "    </tr>\n",
       "    <tr>\n",
       "      <th>1</th>\n",
       "      <td>Nest® Cam Outdoor Security Camera - USA</td>\n",
       "      <td>Nest-USA</td>\n",
       "      <td>16930</td>\n",
       "      <td>684034.55</td>\n",
       "    </tr>\n",
       "    <tr>\n",
       "      <th>2</th>\n",
       "      <td>Nest® Cam Indoor Security Camera - USA</td>\n",
       "      <td>Nest-USA</td>\n",
       "      <td>14155</td>\n",
       "      <td>548104.47</td>\n",
       "    </tr>\n",
       "    <tr>\n",
       "      <th>3</th>\n",
       "      <td>Nest® Protect Smoke + CO White Wired Alarm-USA</td>\n",
       "      <td>Nest-USA</td>\n",
       "      <td>6394</td>\n",
       "      <td>178937.60</td>\n",
       "    </tr>\n",
       "    <tr>\n",
       "      <th>4</th>\n",
       "      <td>Nest® Protect Smoke + CO White Battery Alarm-USA</td>\n",
       "      <td>Nest-USA</td>\n",
       "      <td>6340</td>\n",
       "      <td>178572.40</td>\n",
       "    </tr>\n",
       "  </tbody>\n",
       "</table>\n",
       "</div>"
      ],
      "text/plain": [
       "                                       v2ProductName v2ProductCategory  \\\n",
       "0  Nest® Learning Thermostat 3rd Gen-USA - Stainl...          Nest-USA   \n",
       "1            Nest® Cam Outdoor Security Camera - USA          Nest-USA   \n",
       "2             Nest® Cam Indoor Security Camera - USA          Nest-USA   \n",
       "3     Nest® Protect Smoke + CO White Wired Alarm-USA          Nest-USA   \n",
       "4   Nest® Protect Smoke + CO White Battery Alarm-USA          Nest-USA   \n",
       "\n",
       "   units_sold    revenue  \n",
       "0       17651  870976.95  \n",
       "1       16930  684034.55  \n",
       "2       14155  548104.47  \n",
       "3        6394  178937.60  \n",
       "4        6340  178572.40  "
      ]
     },
     "execution_count": 4,
     "metadata": {},
     "output_type": "execute_result"
    }
   ],
   "source": [
    "%%bigquery\n",
    "#standardSQL\n",
    "SELECT\n",
    "  p.v2ProductName,\n",
    "  p.v2ProductCategory,\n",
    "  SUM(p.productQuantity) AS units_sold,\n",
    "  ROUND(SUM(p.localProductRevenue/1000000),2) AS revenue\n",
    "FROM `data-to-insights.ecommerce.web_analytics`,\n",
    "UNNEST(hits) AS h,\n",
    "UNNEST(h.product) AS p\n",
    "GROUP BY 1, 2\n",
    "ORDER BY revenue DESC\n",
    "LIMIT 5;"
   ]
  },
  {
   "cell_type": "markdown",
   "metadata": {},
   "source": [
    "3.  How many visitors bought on subsequent visits to the website?"
   ]
  },
  {
   "cell_type": "code",
   "execution_count": 5,
   "metadata": {},
   "outputs": [
    {
     "data": {
      "application/vnd.jupyter.widget-view+json": {
       "model_id": "ec0a62f0b73d46249b8d09de3d2cd01b",
       "version_major": 2,
       "version_minor": 0
      },
      "text/plain": [
       "Query is running:   0%|          |"
      ]
     },
     "metadata": {},
     "output_type": "display_data"
    },
    {
     "data": {
      "application/vnd.jupyter.widget-view+json": {
       "model_id": "043ed571d88e41ceaffdbee8841eddf7",
       "version_major": 2,
       "version_minor": 0
      },
      "text/plain": [
       "Downloading:   0%|          |"
      ]
     },
     "metadata": {},
     "output_type": "display_data"
    },
    {
     "data": {
      "text/html": [
       "<div>\n",
       "<style scoped>\n",
       "    .dataframe tbody tr th:only-of-type {\n",
       "        vertical-align: middle;\n",
       "    }\n",
       "\n",
       "    .dataframe tbody tr th {\n",
       "        vertical-align: top;\n",
       "    }\n",
       "\n",
       "    .dataframe thead th {\n",
       "        text-align: right;\n",
       "    }\n",
       "</style>\n",
       "<table border=\"1\" class=\"dataframe\">\n",
       "  <thead>\n",
       "    <tr style=\"text-align: right;\">\n",
       "      <th></th>\n",
       "      <th>total_visitors</th>\n",
       "      <th>will_buy_on_return_visit</th>\n",
       "    </tr>\n",
       "  </thead>\n",
       "  <tbody>\n",
       "    <tr>\n",
       "      <th>0</th>\n",
       "      <td>729848</td>\n",
       "      <td>0</td>\n",
       "    </tr>\n",
       "    <tr>\n",
       "      <th>1</th>\n",
       "      <td>11873</td>\n",
       "      <td>1</td>\n",
       "    </tr>\n",
       "  </tbody>\n",
       "</table>\n",
       "</div>"
      ],
      "text/plain": [
       "   total_visitors  will_buy_on_return_visit\n",
       "0          729848                         0\n",
       "1           11873                         1"
      ]
     },
     "execution_count": 5,
     "metadata": {},
     "output_type": "execute_result"
    }
   ],
   "source": [
    "%%bigquery\n",
    "# visitors who bought on a return visit (could have bought on first as well\n",
    "WITH all_visitor_stats AS (\n",
    "SELECT\n",
    "  fullvisitorid, # 741,721 unique visitors\n",
    "  IF(COUNTIF(totals.transactions > 0 AND totals.newVisits IS NULL) > 0, 1, 0) AS will_buy_on_return_visit\n",
    "  FROM `data-to-insights.ecommerce.web_analytics`\n",
    "  GROUP BY fullvisitorid\n",
    ")\n",
    "SELECT\n",
    "  COUNT(DISTINCT fullvisitorid) AS total_visitors,\n",
    "  will_buy_on_return_visit\n",
    "FROM all_visitor_stats\n",
    "GROUP BY will_buy_on_return_visit"
   ]
  },
  {
   "cell_type": "code",
   "execution_count": 8,
   "metadata": {},
   "outputs": [
    {
     "data": {
      "text/plain": [
       "1.63"
      ]
     },
     "execution_count": 8,
     "metadata": {},
     "output_type": "execute_result"
    }
   ],
   "source": [
    "round(11873/ 729848 * 100, 2)"
   ]
  },
  {
   "attachments": {},
   "cell_type": "markdown",
   "metadata": {},
   "source": [
    "Analyzing the results, you can see that 1.63% of total visitors will return and purchase from the website. This includes the subset of visitors who bought on their very first session and then came back and bought again"
   ]
  },
  {
   "cell_type": "markdown",
   "metadata": {},
   "source": []
  }
 ],
 "metadata": {
  "kernelspec": {
   "display_name": "pvenv",
   "language": "python",
   "name": "python3"
  },
  "language_info": {
   "codemirror_mode": {
    "name": "ipython",
    "version": 3
   },
   "file_extension": ".py",
   "mimetype": "text/x-python",
   "name": "python",
   "nbconvert_exporter": "python",
   "pygments_lexer": "ipython3",
   "version": "3.10.6"
  },
  "orig_nbformat": 4,
  "vscode": {
   "interpreter": {
    "hash": "9c60b0b34f20a64376230e5acad7e96f309518d19b7ab9290b081fa416842bed"
   }
  }
 },
 "nbformat": 4,
 "nbformat_minor": 2
}
